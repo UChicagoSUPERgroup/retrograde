{
 "cells": [
  {
   "cell_type": "code",
   "execution_count": 19,
   "id": "c81d35d5-f9d1-46ea-a219-c4c3a8b862a3",
   "metadata": {
    "section": "intro",
    "tags": []
   },
   "outputs": [],
   "source": [
    "import numpy as np\n",
    "\n",
    "def permute_data(data, one_hot_cols):\n",
    "    \"\"\"\n",
    "    for each row, choose a column unif. at random and change a value\n",
    "    \"\"\"\n",
    "    all_one_hot = [c for col_set in one_hot_cols for c in col_set]\n",
    "    normal_cols = [c for c in data.columns if c not in all_one_hot]\n",
    "    \n",
    "    def permute_row(row):\n",
    "        # choose which column\n",
    "        chosen = np.random.choice(len(normal_cols)+len(one_hot_cols))\n",
    "        if chosen < len(normal_cols):\n",
    "            col = normal_cols[chosen]\n",
    "            row[col] = np.random.choice(data[col])\n",
    "        else:\n",
    "                        \n",
    "            col = one_hot_cols[chosen-len(normal_cols)]\n",
    "            counts = data[col].sum(axis=0)\n",
    "            \n",
    "            # may be dummy coded with reference class = 0\n",
    "            if counts.sum() == len(data):\n",
    "                probs = counts/len(data)\n",
    "                col_choice = np.random.choice(col, p=probs)\n",
    "            \n",
    "                row[col] = 0\n",
    "                row[col_choice] = 1.0\n",
    "            else:\n",
    "                counts = list(counts) + [len(data) - counts.sum()]\n",
    "                probs = np.array(counts)/len(data)\n",
    "                \n",
    "                col_choices = col + [None]\n",
    "                col_choice = np.random.choice(col_choices, p=probs)\n",
    "                \n",
    "                row[col] = 0\n",
    "                \n",
    "                if col_choice is not None:\n",
    "                    row[col_choice] = 1.0\n",
    "                \n",
    "        return row\n",
    "    return data.apply(permute_row, axis=1)\n",
    "\n",
    "def test_data_perturb(model, input_features, one_hot_cols, n_tests=10):\n",
    "    \"\"\"\n",
    "    resample the data n_tests times and return the true->false and false->true\n",
    "    \n",
    "    assume labels are true/false\n",
    "    \n",
    "    one_hot_cols is a (possibly empty) list of lists of columns that are one-hot encoded\n",
    "    \"\"\"\n",
    "    \n",
    "    preds = model.predict(input_features)\n",
    "    false_to_true = 0\n",
    "    true_to_false = 0\n",
    "    \n",
    "    for _ in range(n_tests):\n",
    "        \n",
    "        shuff_data = permute_data(input_features, one_hot_cols)\n",
    "        shuff_preds = model.predict(shuff_data)\n",
    "        \n",
    "        false_to_true += (~preds & shuff_preds).sum()\n",
    "        true_to_false += (preds & ~ shuff_preds).sum()\n",
    "        \n",
    "    return false_to_true/(n_tests*len(preds)), true_to_false/(n_tests*len(preds))"
   ]
  },
  {
   "cell_type": "code",
   "execution_count": 3,
   "id": "616d4038-0a36-494f-bc3a-7f4390a532ea",
   "metadata": {
    "section": "intro"
   },
   "outputs": [],
   "source": [
    "import pandas as pd\n",
    "\n",
    "column_types = {\n",
    "    \"race\" : \"category\",\n",
    "    \"gender\" : \"category\",\n",
    "    \"zip\" : \"category\",\n",
    "    \"income\" : float,\n",
    "    \"type\" : \"category\",\n",
    "    \"interest\" : float,\n",
    "    \"term\" : float,\n",
    "    \"principal\" : float,\n",
    "    \"approved\" : bool,\n",
    "    \"adj_bls_2\" : float,\n",
    "    \"id\" : str,\n",
    "}\n",
    "data = pd.read_csv(\"./clean_data.csv\", dtype=column_types)"
   ]
  },
  {
   "cell_type": "code",
   "execution_count": 22,
   "id": "dc776f21-cba8-4d90-87c5-efedbc4e7f10",
   "metadata": {
    "section": "intro"
   },
   "outputs": [
    {
     "data": {
      "text/html": [
       "<div>\n",
       "<style scoped>\n",
       "    .dataframe tbody tr th:only-of-type {\n",
       "        vertical-align: middle;\n",
       "    }\n",
       "\n",
       "    .dataframe tbody tr th {\n",
       "        vertical-align: top;\n",
       "    }\n",
       "\n",
       "    .dataframe thead th {\n",
       "        text-align: right;\n",
       "    }\n",
       "</style>\n",
       "<table border=\"1\" class=\"dataframe\">\n",
       "  <thead>\n",
       "    <tr style=\"text-align: right;\">\n",
       "      <th></th>\n",
       "      <th>female</th>\n",
       "      <th>male</th>\n",
       "      <th>non-binary</th>\n",
       "    </tr>\n",
       "  </thead>\n",
       "  <tbody>\n",
       "    <tr>\n",
       "      <th>0</th>\n",
       "      <td>0</td>\n",
       "      <td>1</td>\n",
       "      <td>0</td>\n",
       "    </tr>\n",
       "    <tr>\n",
       "      <th>1</th>\n",
       "      <td>1</td>\n",
       "      <td>0</td>\n",
       "      <td>0</td>\n",
       "    </tr>\n",
       "    <tr>\n",
       "      <th>2</th>\n",
       "      <td>1</td>\n",
       "      <td>0</td>\n",
       "      <td>0</td>\n",
       "    </tr>\n",
       "    <tr>\n",
       "      <th>3</th>\n",
       "      <td>1</td>\n",
       "      <td>0</td>\n",
       "      <td>0</td>\n",
       "    </tr>\n",
       "    <tr>\n",
       "      <th>4</th>\n",
       "      <td>0</td>\n",
       "      <td>1</td>\n",
       "      <td>0</td>\n",
       "    </tr>\n",
       "    <tr>\n",
       "      <th>...</th>\n",
       "      <td>...</td>\n",
       "      <td>...</td>\n",
       "      <td>...</td>\n",
       "    </tr>\n",
       "    <tr>\n",
       "      <th>2395</th>\n",
       "      <td>1</td>\n",
       "      <td>0</td>\n",
       "      <td>0</td>\n",
       "    </tr>\n",
       "    <tr>\n",
       "      <th>2396</th>\n",
       "      <td>0</td>\n",
       "      <td>1</td>\n",
       "      <td>0</td>\n",
       "    </tr>\n",
       "    <tr>\n",
       "      <th>2397</th>\n",
       "      <td>1</td>\n",
       "      <td>0</td>\n",
       "      <td>0</td>\n",
       "    </tr>\n",
       "    <tr>\n",
       "      <th>2398</th>\n",
       "      <td>1</td>\n",
       "      <td>0</td>\n",
       "      <td>0</td>\n",
       "    </tr>\n",
       "    <tr>\n",
       "      <th>2399</th>\n",
       "      <td>0</td>\n",
       "      <td>1</td>\n",
       "      <td>0</td>\n",
       "    </tr>\n",
       "  </tbody>\n",
       "</table>\n",
       "<p>2400 rows × 3 columns</p>\n",
       "</div>"
      ],
      "text/plain": [
       "      female  male  non-binary\n",
       "0          0     1           0\n",
       "1          1     0           0\n",
       "2          1     0           0\n",
       "3          1     0           0\n",
       "4          0     1           0\n",
       "...      ...   ...         ...\n",
       "2395       1     0           0\n",
       "2396       0     1           0\n",
       "2397       1     0           0\n",
       "2398       1     0           0\n",
       "2399       0     1           0\n",
       "\n",
       "[2400 rows x 3 columns]"
      ]
     },
     "execution_count": 22,
     "metadata": {},
     "output_type": "execute_result"
    }
   ],
   "source": [
    "X_gend"
   ]
  },
  {
   "cell_type": "code",
   "execution_count": 21,
   "id": "0b198285-587d-45ea-bbf0-854b10fd0692",
   "metadata": {
    "section": "intro"
   },
   "outputs": [
    {
     "data": {
      "text/plain": [
       "LogisticRegression()"
      ]
     },
     "execution_count": 21,
     "metadata": {},
     "output_type": "execute_result"
    }
   ],
   "source": [
    "from sklearn.linear_model import LogisticRegression\n",
    "\n",
    "lr = LogisticRegression()\n",
    "X = data[[\"income\", \"interest\", \"term\", \"adj_bls_2\"]]\n",
    "X_cat = pd.get_dummies(data[\"type\"], drop_first=True) \n",
    "X_gend = pd.get_dummies(data[\"gender\"])\n",
    "X = pd.concat([X, X_cat, X_gend], axis=1)\n",
    "y = data[\"approved\"]\n",
    "\n",
    "lr.fit(X,y)"
   ]
  },
  {
   "cell_type": "code",
   "execution_count": 23,
   "id": "3a7d5cb4-9b66-4a40-9e43-f344b7ec4d40",
   "metadata": {
    "section": "intro"
   },
   "outputs": [
    {
     "data": {
      "text/plain": [
       "(0.061375, 0.04783333333333333)"
      ]
     },
     "execution_count": 23,
     "metadata": {},
     "output_type": "execute_result"
    }
   ],
   "source": [
    "test_data_perturb(lr, X, [[\"home\", \"personal\"], [\"female\", \"male\", \"non-binary\"]])"
   ]
  }
 ],
 "metadata": {
  "kernelspec": {
   "display_name": "retrograde",
   "language": "",
   "name": "prompt_kernel"
  },
  "language_info": {
   "codemirror_mode": {
    "name": "ipython",
    "version": 3
   },
   "file_extension": ".py",
   "mimetype": "text/x-python",
   "name": "python",
   "nbconvert_exporter": "python",
   "pygments_lexer": "ipython3",
   "version": "3.9.1"
  }
 },
 "nbformat": 4,
 "nbformat_minor": 5
}
