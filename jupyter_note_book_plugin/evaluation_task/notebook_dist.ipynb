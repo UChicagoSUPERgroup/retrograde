{
 "cells": [
  {
   "cell_type": "markdown",
   "metadata": {
    "new_section": "intro_start",
    "section": "intro"
   },
   "source": [
    "# Introduction\n",
    "\n",
    "Thank you for agreeing to take part in this evaluation. The <span style=\"color:green\"> **goal** </span> of this evaluation task is to <span style=\"color:green\">**build a machine learning model that decides whether or not someone should be granted a loan or not**</span>.\n",
    "\n",
    "During this evaluation you are asked to assume the role of a **data scientist** working at a financial technology (FinTech) company that is introducing a new feature to its application. \n",
    "\n",
    "This feature will allow for customers seeking loans to submit some data/info to the app and immediately receive a receive a response on if they will be approved for that loan or not. \n",
    "\n",
    "Behind this interaction lies your work: <span style=\"color:green\"> **a machine learning model that will decide whether or not this person should be granted this loan or not based on the data entered**</span>. \n",
    "\n",
    "The company has collected some data for you in order to train and test a model, and now it is your job to do so.\n",
    "\n",
    "**Please carry out these tasks with the same care and rigor as if these tasks were part of your job duties.**\n",
    "    \n",
    "*Before beginning please ensure that you are using the retrograde kernel by looking at the top right of this notebook.* It should say \"*retrograde*\", rather than \"*Python 3*\". If it says you are using a \"*Python 3*\" or something similar, please click on where it says Python, and select retrograde from the drop down menu. If you encounter any errors, or if it says \"No Kernel!\" please contact [retrograde-plugin@uchicago.edu](retrograde-plugin@uchicago.edu) so we can fix the issue.\n"
   ]
  },
  {
   "cell_type": "markdown",
   "metadata": {
    "jp-MarkdownHeadingCollapsed": true,
    "section": "intro",
    "tags": []
   },
   "source": [
    "## Task Description\n",
    "\n",
    "This task is structured into five parts.\n",
    "\n",
    "#### [**1. Data Exploration**](#data-expl)\n",
    "#### [**2. Data Cleaning**](#data-clean)\n",
    "#### [**3. Feature Creation and Feature Selection (Feature Engineering)**](#feat-eng)\n",
    "#### [**4. Model Training**](#model-train)\n",
    "#### [**5. Model Selection**](#model-select)\n",
    "\n",
    "In each of these five sections, there is an explanation/example portion and a task portion.\n",
    "The explanations are meant to provide background and structure to the task, and may be helpful to you when completing the tasks.\n",
    "\n",
    "**Example code sections should be executed by you.**\n",
    "\n",
    "You will know that you have reached a task portion because we will mark them <span style=\"color:red\">**in red**</span>.\n",
    "\n",
    "When you are done with a section, you will see:\n",
    "<div class=\"prompt-ml qualtrics-warning\" style=\"background-color: red; display: inline-block; border-radius: 7px;\">\n",
    "    <h1 style=\"font-weight: 600; font-size: 18px; text-overflow: ellipsis; overflow: hidden; white-space: nowrap; text-align: left; color: white; padding: 15px 25px; margin: 0;\"\n",
    ">Please return to the Qualtrics Survey tab before continuing.</h1>\n",
    "</div>\n",
    "\n",
    "indicating that you should return to the Qualtrics survey tab and finish the questions for that section before moving onto the next section in this jupyter notebook.\n",
    "\n",
    "*If at any point throughout working on the task you feel the need to revisit and revise your work on a particular section, feel free to do so.*\n",
    "\n",
    "For some sections, there may be some code pre-written. **This code is meant to help you complete the task by providing structure, but you are not required to use the provided code if you do not want to.** \n",
    "\n",
    "**You may refer to any documentation** source or question asking/answering forum you like during this task (such as *StackOverflow, Pandas API documentation, etc.*).\n",
    "\n",
    "We ask that you use pandas and scikit-learn to perform the tasks. We have also installed numpy and matplotlib, should those be helpful. You will not be able to install any other non-standard libraries.\n",
    "\n",
    "---"
   ]
  },
  {
   "cell_type": "markdown",
   "metadata": {
    "new_section": "intro_start",
    "section": "intro",
    "tags": []
   },
   "source": [
    "## 1. Data Exploration <a class=\"anchor\" id=\"data-expl\"></a>"
   ]
  },
  {
   "cell_type": "markdown",
   "metadata": {
    "section": "intro"
   },
   "source": [
    "We will be asking you to use the provided \"loan_data.csv\" dataset during this experiment. This data was sourced from data collected in the company's app. It contains information about various users' loan history and other data voluntarily supplied in the app.\n",
    "\n",
    "Let's start trying to understand the dataset by writing some python code. Feel free to follow along by running the following sample commands in this notebook.  \n",
    "\n",
    "Below is a few lines of code that loads the provided \"loan_data.csv\" dataset into a pandas dataframe.\n",
    "\n",
    "**Your goal for this section should be to understand what is in the data and to identify some of the features/characteristics that may be relevant to later sections**."
   ]
  },
  {
   "cell_type": "code",
   "execution_count": null,
   "metadata": {
    "section": "intro"
   },
   "outputs": [],
   "source": [
    "import pandas as pd\n",
    "\n",
    "# What each of these columns represents is explained below. This dictionary tells pandas what \n",
    "# data type each of the columns should be treated as.\n",
    "# There is also a file called loan_data_dictionary.txt that explains what each column represents.\n",
    "\n",
    "column_types = {\n",
    "    \"race\" : \"category\",\n",
    "    \"gender\" : \"category\",\n",
    "    \"zip\" : \"category\",\n",
    "    \"income\" : float,\n",
    "    \"type\" : \"category\",\n",
    "    \"interest\" : float,\n",
    "    \"term\" : float,\n",
    "    \"principal\" : float,\n",
    "    \"approved\" : bool,\n",
    "    \"adj_bls_2\" : float,\n",
    "    \"id\" : str,\n",
    "}\n",
    "\n",
    "loans = pd.read_csv(\"loan_data.csv\", parse_dates=[\"date\"], dtype=column_types)\n",
    "loans.head()"
   ]
  },
  {
   "cell_type": "markdown",
   "metadata": {
    "section": "intro"
   },
   "source": [
    "Let's look at some of the columns in the dataframe. **The column** `approved` **indicates whether or not the loan was approved**. <span style=\"color:green\">**This is the column your model should predict.** </span>"
   ]
  },
  {
   "cell_type": "code",
   "execution_count": null,
   "metadata": {
    "section": "intro"
   },
   "outputs": [],
   "source": [
    "# since python treats True as a 1, and False as a 0, the sum\n",
    "# of this array is the number of entries in loans where approved == True\n",
    "\n",
    "print(f'{sum(loans[\"approved\"])/len(loans[\"approved\"])*100:.2f}% of loans were approved')"
   ]
  },
  {
   "cell_type": "markdown",
   "metadata": {
    "section": "intro",
    "tags": []
   },
   "source": [
    "### <span style=\"color:red\">Your Turn, Data Exploration</span>\n",
    "\n",
    "Section 1 is just an introduction to the dataset you will be using. There's no specific task for you to do in this section, however you are responsible for understanding what the columns in this dataset are representing and developing an intuition for which of those may be helpful for your model.\n",
    "\n",
    "In the next section ([**data cleaning**](#data-clean)), you will be asked to make certain decisions about how to clean this data and get it into a usable form."
   ]
  },
  {
   "cell_type": "markdown",
   "metadata": {
    "section": "intro",
    "tags": []
   },
   "source": [
    "**If you are feeling unsure of where to start try some of these** (each have a link to the official documentation):\n",
    "\n",
    "*Assuming your dataframe is in the variable `df`*\n",
    "- [df.describe()](https://pandas.pydata.org/docs/reference/api/pandas.DataFrame.describe.html?highlight=describe#pandas-dataframe-describe)\n",
    "    - use the `include='all'` parameter to include non-numeric columns in this output\n",
    "- [df['column_name'].quantile(0.25)](https://pandas.pydata.org/docs/reference/api/pandas.DataFrame.quantile.html?highlight=quantile#pandas-dataframe-quantile)\n",
    "- [df['column_name'].unique()](https://pandas.pydata.org/docs/reference/api/pandas.Series.unique.html?highlight=unique#pandas-series-unique)\n",
    "- [df['column_name'].value_counts()](https://pandas.pydata.org/docs/reference/api/pandas.Series.value_counts.html?highlight=value_count#pandas-series-value-counts)\n",
    "\n",
    "- Using pandas to understand different intersections of your data:\n",
    "```python\n",
    "    # boolean indexing with multiple columns \n",
    "    print(df[(df['column_name'] == some_val) & (df['different_col'] == different_val)].head())\n",
    "    print(df[(df['column_name'] == some_val) & (df['different_col'] == different_val)].describe())\n",
    "    # you have a subset of the original dataframe on \n",
    "    # ['column_name'] == some_val \n",
    "    # and ['different_col'] == different_val\n",
    "```\n",
    "\n",
    "Additionally, here are some brainstorming questions that you could try to explore in this section:\n",
    "- *Do certain `types` of loans get approved more frequently?*\n",
    "- *Is `income` data distributed in any notable way?*\n",
    "- *Does `approval` rate change over time?*"
   ]
  },
  {
   "cell_type": "code",
   "execution_count": null,
   "metadata": {
    "section": "intro",
    "tags": []
   },
   "outputs": [],
   "source": [
    "# Data Exploration (feel free to create cells here as needed)\n",
    "# Your code here\n",
    "\n",
    "\n"
   ]
  },
  {
   "cell_type": "markdown",
   "metadata": {},
   "source": [
    "<div class=\"prompt-ml qualtrics-warning\" style=\"background-color: red; display: inline-block; border-radius: 7px;\">\n",
    "    <h1 style=\"font-weight: 600; font-size: 18px; text-overflow: ellipsis; overflow: hidden; white-space: nowrap; text-align: left; color: white; padding: 15px 25px; margin: 0;\"\n",
    ">Please return to the Qualtrics Survey tab before continuing.</h1>\n",
    "</div>"
   ]
  },
  {
   "cell_type": "markdown",
   "metadata": {
    "new_section": "clean_start",
    "section": "clean",
    "tags": []
   },
   "source": [
    "---\n",
    "## 2. Data Cleaning <a class=\"anchor\" id=\"data-clean\"></a>\n",
    "\n",
    "Before we can use this data to build a model, we'll need to clean it up a bit. Raw data often will have incomplete or inaccurate records present due to entry errors, inconsistent practices in data collection and many other reasons. The way this \"dirtyness\" will manifest is often **unknown without inspection** and is different for every dataset. \n",
    "\n",
    "It is a vital part of the data scientist role **to clean and standardize** the data used and so too will it be vital for you in this section.\n",
    "\n",
    "Ideally throughout the data exploration section you identified some of these signs of \"dirtyness\", but if you have not yet identified any, your first step here should be to identify the manner(s) of dirtyness present in your data. Once you have done that it will be up to you to decide how you will **clean** the data. We recommend experimenting with several methods and deciding which method(s) best achieve your goals."
   ]
  },
  {
   "cell_type": "markdown",
   "metadata": {
    "section": "clean",
    "tags": []
   },
   "source": [
    "### <span style=\"color:red\">Your Turn, Data Cleaning</span>\n",
    "\n",
    "*If at any point throughout working on the task you feel the need to revisit and revise your work on a previous section, feel free to do so.*\n",
    "\n",
    "**Remember**, when completing the tasks try to treat them as if they are part of your job, and it is your responsibility to create an effective model for <span style=\"color:green\">**deciding whether or not someone should be granted a loan or not**</span>."
   ]
  },
  {
   "cell_type": "code",
   "execution_count": null,
   "metadata": {
    "section": "clean",
    "tags": []
   },
   "outputs": [],
   "source": [
    "# Data Cleaning (feel free to create cells here as needed)\n",
    "# Below is a small code snippet to help you get started. \n",
    "# You may delete the snippet if you wish.\n",
    "\n",
    "import pandas as pd\n",
    "import numpy as np\n",
    "\n",
    "def clean_data(loan_df):\n",
    "    '''function for cleaning '''\n",
    "\n",
    "    return loan_df # some clean dataframe\n",
    "        \n",
    "cleaned_data = clean_data(pd.read_csv(\"loan_data.csv\", parse_dates=[\"date\"], dtype=column_types))"
   ]
  },
  {
   "cell_type": "markdown",
   "metadata": {},
   "source": [
    "<div class=\"prompt-ml qualtrics-warning\" style=\"background-color: red; display: inline-block; border-radius: 7px;\">\n",
    "    <h1 style=\"font-weight: 600; font-size: 18px; text-overflow: ellipsis; overflow: hidden; white-space: nowrap; text-align: left; color: white; padding: 15px 25px; margin: 0;\"\n",
    ">Please return to the Qualtrics Survey tab before continuing.</h1>\n",
    "</div>"
   ]
  },
  {
   "cell_type": "markdown",
   "metadata": {
    "new_section": "feature_select_start",
    "section": "feature_select",
    "tags": []
   },
   "source": [
    "---\n",
    "## 3. Feature Creation and Selection (Feature Engineering) <a class=\"anchor\" id=\"feat-eng\"></a>\n",
    "\n",
    "Feature Engineering is a process that involves you—a data scientist—using domain knowledge to extract notable features from the raw data. In this section you will be doing just that for the data from \"loan_data.csv\". Given that you are not expected to be an expert on loan decisions, use your best judgement and focus on the columns you think will help your model the most, also recall that data science is a cyclical process and it is normal to return to feature engineering in order to add and remove features after training. \n",
    "\n",
    "If you are unsure of where to start try these common methods:\n",
    "- **If you are selecting categorical variables** like `type` or `gender`, you will **need** to encode them numerically. One simple way is one-hot encoding with [pd.get_dummies()](https://pandas.pydata.org/pandas-docs/stable/reference/api/pandas.get_dummies.html#pandas-get-dummies), another different way is with [OrdinalEncoder](https://scikit-learn.org/stable/modules/generated/sklearn.preprocessing.OrdinalEncoder.html#sklearn-preprocessing-ordinalencoder).\n",
    "\n",
    "```python\n",
    "# type is a categorical variable\n",
    "onehot_type = pd.get_dummies(cleaned_data['type'])\n",
    "''' \n",
    "output looks like this below\n",
    "     auto  home  personal\n",
    "0        0     1         0\n",
    "1        0     1         0\n",
    "2        0     1         0\n",
    "3        0     0         1\n",
    "4        0     0         1\n",
    "...    ...   ...       ...\n",
    "1302     1     0         0\n",
    "1303     1     0         0\n",
    "1304     1     0         0\n",
    "1305     0     0         1\n",
    "1306     0     0         1\n",
    "\n",
    "[1307 rows x 3 columns]\n",
    "'''\n",
    "```\n",
    "- Normalizing/Scaling data (try [MinMaxScaler](https://scikit-learn.org/stable/modules/generated/sklearn.preprocessing.MinMaxScaler.html))\n",
    "- Grouping/Clustering/Binning of values ([KBinsDiscretizer](https://scikit-learn.org/stable/auto_examples/preprocessing/plot_discretization.html))\n",
    "\n",
    "As with previous sections, this is by no means an exhaustive list, just some simple things to start with."
   ]
  },
  {
   "cell_type": "markdown",
   "metadata": {
    "section": "feature_select",
    "tags": []
   },
   "source": [
    "### <span style=\"color:red\">Your Turn, Feature Engineering</span>\n",
    "\n",
    "*If at any point throughout working on the task you feel the need to revisit and revise your work on a previous section, feel free to do so.*"
   ]
  },
  {
   "cell_type": "code",
   "execution_count": null,
   "metadata": {
    "section": "feature_select",
    "tags": []
   },
   "outputs": [],
   "source": [
    "# Feature Engineering (feel free to create cells here as needed)\n",
    "# Below is a small code snippet to help you get started. \n",
    "# You may delete the snippet if you wish.\n",
    "\n",
    "import pandas as pd\n",
    "import numpy as np\n",
    "\n",
    "def get_features(data):\n",
    "    '''\n",
    "    function for creating and selecting features from your data\n",
    "    '''\n",
    "    \n",
    "    X = data # select your features\n",
    "    y = data['approved'] # your target variable is 'approved'\n",
    "    return X, y\n",
    "\n",
    "X, y = get_features(cleaned_data)\n",
    "X.columns"
   ]
  },
  {
   "cell_type": "markdown",
   "metadata": {},
   "source": [
    "<div class=\"prompt-ml qualtrics-warning\" style=\"background-color: red; display: inline-block; border-radius: 7px;\">\n",
    "    <h1 style=\"font-weight: 600; font-size: 18px; text-overflow: ellipsis; overflow: hidden; white-space: nowrap; text-align: left; color: white; padding: 15px 25px; margin: 0;\"\n",
    ">Please return to the Qualtrics Survey tab before continuing.</h1>\n",
    "</div>"
   ]
  },
  {
   "cell_type": "markdown",
   "metadata": {
    "new_section": "model_start",
    "section": "model",
    "tags": []
   },
   "source": [
    "---\n",
    "## 4. Model Training <a class=\"anchor\" id=\"model-train\"></a>\n",
    "\n",
    "<span style=\"color:green\">**In this section, we ask you to train a classifier model which will decide whether a loan will be approved or not.**</span> Your goal is to get a **baseline level of performance** from one model before moving on to the [**model selection**](#model-select) section.\n",
    "\n",
    "Using the features you selected in the previous section, you will be asked to train a model that will give you a baseline level of performance to improve upon in the following [**model selection**](#model-select) section. Recall that revisiting you may revisit prior sections as necessary. \n",
    "\n",
    "A small example using the [`DummyClassifier`](https://scikit-learn.org/stable/modules/generated/sklearn.dummy.DummyClassifier.html) is included below. "
   ]
  },
  {
   "cell_type": "code",
   "execution_count": null,
   "metadata": {},
   "outputs": [],
   "source": [
    "def ready_for_training_testing(X, y):\n",
    "    '''\n",
    "    This function does 3 basic checks to see if you are ready to train/test your model.\n",
    "    '''\n",
    "    if len(X) != len(y):\n",
    "        print(f\"Your feature set 'X' is not the same size as your labels 'y'. This will cause an error with sklearn.\")\n",
    "        print(f\"X size: {len(X)} != y size: {len(y)}\")\n",
    "        return False\n",
    "    if pd.isna(X).any().any():\n",
    "        print(f\"Your feature set 'X' has null values. This will cause an error with sklearn.\")\n",
    "        has_nulls = []\n",
    "        for col, null in zip(pd.isna(X).any().index, pd.isna(X).any()):\n",
    "            if null:\n",
    "                has_nulls.append(col)\n",
    "        print(f\"These columns {has_nulls}, have null values.\")\n",
    "        return False\n",
    "    if pd.isna(y).any():\n",
    "        print(f\"Your labels 'y' have null values. This will cause an error with sklearn.\")\n",
    "        return False\n",
    "    return True"
   ]
  },
  {
   "cell_type": "code",
   "execution_count": null,
   "metadata": {
    "section": "model",
    "tags": []
   },
   "outputs": [],
   "source": [
    "from sklearn.dummy import DummyClassifier\n",
    "from sklearn.model_selection import train_test_split\n",
    "\n",
    "def example_get_features(data):\n",
    "    X_num = data[[\"principal\", \"interest\"]] # these columns are numeric\n",
    "\n",
    "    # since loan type is a categorical variable, we need to encode it numerically\n",
    "    # this creates three columns of 0/1 denoting the type of loan each row is\n",
    "    X_cat = pd.get_dummies(data[\"type\"], prefix=\"type\")\n",
    "\n",
    "    X = pd.concat([X_num, X_cat], axis=1) # this combines the categorical and numeric columns back into 1 dataframe\n",
    "    y = data[\"approved\"]\n",
    "    return X, y\n",
    "X, y = example_get_features(loans)\n",
    "\n",
    "# this creates training and testing sets \n",
    "X_train, X_test, y_train, y_test = train_test_split(X, y, test_size=0.2, random_state=10)\n",
    "\n",
    "# dummy classifier guesses randomly at the labels\n",
    "clf = DummyClassifier(strategy=\"uniform\")\n",
    "\n",
    "# this \"fits\" or \"trains\" the model using \n",
    "# X and y as training data\n",
    "clf.fit(X_train,y_train) \n",
    "\n",
    "# these are the predictions the machine learning model made\n",
    "preds = clf.predict(X_test)\n",
    "\n",
    "# this outputs the accuracy of the model's predictions on the y_test set\n",
    "clf.score(X_test, y_test)"
   ]
  },
  {
   "cell_type": "markdown",
   "metadata": {
    "section": "model",
    "tags": []
   },
   "source": [
    "This is a pretty weak baseline that you can likely improve upon. In the next **Your Turn** we will ask you to explore some of the ways you might improve the classification performance. "
   ]
  },
  {
   "cell_type": "markdown",
   "metadata": {
    "section": "model",
    "tags": []
   },
   "source": [
    "### <span style=\"color:red\">Your Turn, Model Training</span>\n",
    "\n",
    "Use the data you cleaned up in [**the data cleaning section**](#data-clean) and the features you selected in [**the feature engineering section**](#feat-eng) to build your own machine learning model. \n",
    "\n",
    "**In the cell below, we demonstrate importing different models, we ask that you choose to experiment with just one model in this section so you can get a baseline measure of performance.**\n",
    "\n",
    "Also recall every model from `sklearn` is trained and tested like so:\n",
    "```python\n",
    "# 0. initialize model\n",
    "model = MachineLearningModel()\n",
    "# 1. fit\n",
    "model.fit(X_train, y_train)\n",
    "# 2. predict\n",
    "preds = model.predict(X_test) # preds is a 1D array of predicted labels (you can compare these with y_test)\n",
    "# 3. score\n",
    "model.score(X_test, y_test) # Return the mean accuracy on the given test data and labels.\n",
    "```\n",
    "\n",
    "*If at any point throughout working on the task you feel the need to revisit and revise your work on a previous section, feel free to do so.*\n",
    "\n",
    "#### Set these parameters for [train_test_split](https://scikit-learn.org/stable/modules/generated/sklearn.model_selection.train_test_split.html) first!"
   ]
  },
  {
   "cell_type": "code",
   "execution_count": null,
   "metadata": {
    "section": "model",
    "tags": []
   },
   "outputs": [],
   "source": [
    "'''\n",
    "important parameter description:\n",
    "test_size:    float - Represents the proportion of the dataset to include in the test split\n",
    "random_state:   int - Controls the shuffling applied to the data before applying the split. \n",
    "                      Pass an int for reproducible output across multiple function calls.\n",
    "'''\n",
    "test_size = \n",
    "random_state = "
   ]
  },
  {
   "cell_type": "markdown",
   "metadata": {
    "section": "model",
    "tags": []
   },
   "source": [
    "**Recall**, your goal is to get a **baseline level of performance** from **one** model before moving on to the [**model selection**](#model-select) section."
   ]
  },
  {
   "cell_type": "code",
   "execution_count": null,
   "metadata": {
    "section": "model",
    "tags": []
   },
   "outputs": [],
   "source": [
    "# Model Training (feel free to create cells here as needed)\n",
    "# Below is a small code snippet to help you get started. \n",
    "# You may delete the snippet if you wish.\n",
    "\n",
    "from sklearn.model_selection import train_test_split\n",
    "\n",
    "X, y = get_features(cleaned_data)\n",
    "\n",
    "if not ready_for_training_testing(X, y):\n",
    "    print(\"We identified an issue with your data above! You must fix this before continuing.\")\n",
    "\n",
    "    \n",
    "# split your data into training and test sets\n",
    "'''\n",
    "important parameter description:\n",
    "test_size:    float - Represents the proportion of the dataset to include in the test split\n",
    "random_state:   int - Controls the shuffling applied to the data before applying the split. \n",
    "                      Pass an int for reproducible output across multiple function calls.\n",
    "'''\n",
    "X_train, X_test, y_train, y_test = train_test_split(X, y, test_size=test_size, random_state=random_state)\n",
    "\n",
    "# YOUR CODE HERE\n",
    "\n",
    "# SELECT A MACHINE LEARNING MODEL FROM HERE BY UNCOMMENTING THE LINE\n",
    "# from sklearn.neighbors import KNeighborsClassifier\n",
    "# from sklearn.linear_model import SGDClassifier\n",
    "# from sklearn.svm import SVC\n",
    "# from sklearn.linear_model import LogisticRegression\n",
    "# from sklearn.tree import DecisionTreeClassifier\n",
    "\n"
   ]
  },
  {
   "cell_type": "markdown",
   "metadata": {},
   "source": [
    "<div class=\"prompt-ml qualtrics-warning\" style=\"background-color: red; display: inline-block; border-radius: 7px;\">\n",
    "    <h1 style=\"font-weight: 600; font-size: 18px; text-overflow: ellipsis; overflow: hidden; white-space: nowrap; text-align: left; color: white; padding: 15px 25px; margin: 0;\"\n",
    ">Please return to the Qualtrics Survey tab before continuing.</h1>\n",
    "</div>"
   ]
  },
  {
   "cell_type": "markdown",
   "metadata": {
    "section": "model",
    "tags": []
   },
   "source": [
    "---\n",
    "## 5. Model Selection <a class=\"anchor\" id=\"model-select\"></a>\n",
    "\n",
    "**Your goal in this section is to evaluate the performance of different model architectures.**\n",
    "Use the data and features you selected in the previous sections to train different types of models. You may use any scikit-learn model you see fit and any method of model evaluation/selection available to you. \n",
    "\n",
    "### <span style=\"color:red\">Your Turn, Model Selection</span>\n",
    "\n",
    "If you think it might be useful, you can also try different hyperparameters for different models or any other method of evaluating/improving a model available. If you don't know what a model parameter is, or what the model parameter means, don't need to worry about it as it is not required to use these hyperparamters.\n",
    "\n",
    "To see more models that you can use, here is an [extensive list of different models](https://scikit-learn.org/stable/supervised_learning.html#supervised-learning) from the scikit-learn docs. If you are not familiar with these different models, don't worry. They all may be trained and tested using the same calls to ``fit``, ``score`` and ``predict``.\n",
    "\n",
    "*If at any point throughout working on the task you feel the need to revisit and revise your work on a previous section, feel free to do so.*"
   ]
  },
  {
   "cell_type": "code",
   "execution_count": null,
   "metadata": {
    "section": "model",
    "tags": []
   },
   "outputs": [],
   "source": [
    "# Model Selection (feel free to create cells here as needed)\n",
    "# Below is a small code snippet to help you get started. \n",
    "# You may delete the snippet if you wish.\n",
    "\n",
    "# import more models here\n",
    "from sklearn.model_selection import train_test_split\n",
    "from sklearn.linear_model import LogisticRegression\n",
    "\n",
    "X,y  = get_features(cleaned_data)\n",
    "\n",
    "# split your data into training and test sets\n",
    "'''\n",
    "important parameter description:\n",
    "test_size: represents the proportion of the dataset to include in the test split\n",
    "random_state: Controls the shuffling applied to the data before applying the split. \n",
    "    Pass an int for reproducible output across multiple function calls.\n",
    "'''\n",
    "X_train, X_test, y_train, y_test = train_test_split(X, y, test_size=test_size, random_state=random_state)\n",
    "\n",
    "# put models here \n",
    "lr = LogisticRegression().fit(X_train, y_train)\n",
    "\n",
    "print(lr.score(X_test, y_test),)"
   ]
  },
  {
   "cell_type": "markdown",
   "metadata": {
    "new_section": "end_start",
    "section": "end",
    "tags": []
   },
   "source": [
    "---\n",
    "# End\n",
    "\n",
    "Thank you for participating in the study. In [**model selection**](#model-select) you should have explored the performance of several different classifiers. Now is the time where you need to choose which one you believe to be the best. \n",
    "\n",
    "**To submit your model for evaluation, please assign your model to the variable SUBMITTED_MODEL in the cell below and then execute the cell.**\n",
    "\n",
    "**(You may submit multiple times, however only your last submitted model will be considered)**"
   ]
  },
  {
   "cell_type": "code",
   "execution_count": null,
   "metadata": {
    "section": "end",
    "tags": []
   },
   "outputs": [],
   "source": [
    "SUBMITTED_MODEL = # write the model's variable name here\n",
    "\n",
    "# if the model you want to submit is named clf, then you would write \n",
    "# SUBMITTED_MODEL = clf"
   ]
  },
  {
   "cell_type": "markdown",
   "metadata": {},
   "source": [
    "<div class=\"prompt-ml qualtrics-warning\" style=\"background-color: red; display: inline-block; border-radius: 7px;\">\n",
    "    <h1 style=\"font-weight: 600; font-size: 18px; text-overflow: ellipsis; overflow: hidden; white-space: nowrap; text-align: left; color: white; padding: 15px 25px; margin: 0;\"\n",
    ">Please return to the Qualtrics Survey tab before continuing.</h1>\n",
    "</div>"
   ]
  }
 ],
 "metadata": {
  "kernelspec": {
   "display_name": "Python 3 (ipykernel)",
   "language": "python",
   "name": "python3"
  },
  "language_info": {
   "codemirror_mode": {
    "name": "ipython",
    "version": 3
   },
   "file_extension": ".py",
   "mimetype": "text/x-python",
   "name": "python",
   "nbconvert_exporter": "python",
   "pygments_lexer": "ipython3",
   "version": "3.9.7"
  }
 },
 "nbformat": 4,
 "nbformat_minor": 4
}
