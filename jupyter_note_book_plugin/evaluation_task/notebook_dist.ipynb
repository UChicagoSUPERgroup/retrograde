{
 "cells": [
  {
   "cell_type": "markdown",
   "metadata": {},
   "source": [
    "# Introduction\n",
    "\n",
    "Thank you for agreeing to take part in this evaluation. During this evaluation you will be asked to carry out a series of tasks related to the dataset shown in the next section. Please carry out these tasks with the same care and rigor as if these tasks were part of your job duties.\n",
    "\n",
    "Before beginning please ensure that you are using the prompter kernel by looking at the top right of this notebook. It should say \"prompter\", rather than \"Python 3\". If says you are using a python kernel, please click on where it says Python, and select the prompter from the drop down study. If you encounter any errors, or if it says No Kernel! please contact PLACEHOLDER@uchicago.edu\n",
    "\n",
    "We ask that you use pandas and scikit-learn to perform the tasks. We have also installed numpy and matplotlib, should those be helpful. You will not be able to install any other non-standard libraries. \n",
    "\n",
    "Please spend no more than 30 minutes on this."
   ]
  },
  {
   "cell_type": "markdown",
   "metadata": {},
   "source": [
    "## Dataset"
   ]
  },
  {
   "cell_type": "markdown",
   "metadata": {},
   "source": [
    "We will be asking you to use loan_data dataset during this experiment. This data was collected in a major metropolitan city in the United States. It contains information about applications received for loan applications aggregated from several different loan providers. Further explanation of the data's collection and provenance is not possible.\n",
    "\n",
    "Of particular note is the \"approved\" column, which indicates whether an applicant was approved for the loan or not. \n",
    "\n",
    "Please take a moment to familiarize yourself with the contents of this dataset. "
   ]
  },
  {
   "cell_type": "code",
   "execution_count": null,
   "metadata": {},
   "outputs": [],
   "source": [
    "import pandas as pd\n",
    "\n",
    "df = pd.read_csv(\"test_data.csv\")"
   ]
  },
  {
   "cell_type": "markdown",
   "metadata": {},
   "source": [
    "# Some considerations\n",
    "\n",
    "Before beginning the analysis task, it is necessary need to clean up the data. \n",
    "\n",
    "1. The data in this dataset runs from 2011 to 2019, however in 2015, several of the loan providers changed the way they approve loan decisions. Specifically, providers of home and home equity loans introduced a new approval process with additional requirements for borrowers and a series of reviews. Therefore any home or home-equity loans made prior to 2015 are not representative of current policy and should therefore be excluded.\n",
    "\n",
    "2. Due to inconsistencies in the way certain loan providers stored data, some entries in the ``interest_rate`` column are 0 when no interest rate was recorded, whereas some entries in ``interest_rate`` are null. In both cases, this means that loan was not approved, and the loan officer did not record the interest rate at which the loan would have been granted. Some rejected loans have a filled in ``interest_rate`` indicating the prospective loan interest rate.\n",
    "\n",
    "3. You should also transform any columns you plan on using to predict approval or not into a format that is useable by scikit-learn. Certain columns like the date or the type of loan as well as the gender and race of the applicant are stored as strings. If you plan on using any of these columns you may need to encode these in a numeric format. "
   ]
  },
  {
   "cell_type": "code",
   "execution_count": null,
   "metadata": {},
   "outputs": [],
   "source": []
  },
  {
   "cell_type": "markdown",
   "metadata": {},
   "source": [
    "# The task\n",
    "\n",
    "We would like you to build a model that predicts whether an applicant is likely to be approved or not. The model will be integrated into an online platform that matches borrowers with lending institutions. "
   ]
  },
  {
   "cell_type": "code",
   "execution_count": null,
   "metadata": {},
   "outputs": [],
   "source": []
  },
  {
   "cell_type": "markdown",
   "metadata": {},
   "source": [
    "# End\n",
    "\n",
    "When you feel you have completed this exercise, please execute this cell to submit your model. You may (but are not required to) submit multiple times. "
   ]
  },
  {
   "cell_type": "code",
   "execution_count": null,
   "metadata": {},
   "outputs": [],
   "source": [
    "# %prompter_plugin submit%"
   ]
  }
 ],
 "metadata": {
  "kernelspec": {
   "display_name": "Python 3",
   "language": "python",
   "name": "python3"
  },
  "language_info": {
   "codemirror_mode": {
    "name": "ipython",
    "version": 3
   },
   "file_extension": ".py",
   "mimetype": "text/x-python",
   "name": "python",
   "nbconvert_exporter": "python",
   "pygments_lexer": "ipython3",
   "version": "3.7.5"
  }
 },
 "nbformat": 4,
 "nbformat_minor": 4
}
