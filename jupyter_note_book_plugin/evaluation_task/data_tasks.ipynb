{
 "cells": [
  {
   "cell_type": "markdown",
   "metadata": {
    "section": "intro"
   },
   "source": [
    "**Data columns, Not for circulation**\n",
    "\n",
    "- ``type``: home, home equity, personal, auto, payday\n",
    "- ``federal_interest`` : federal interest rate at that point in time\n",
    "- ``term`` : the loan's term (how long it runs for)\n",
    "- ``interest_rate`` : the loan's interest rate\n",
    "- ``approved`` : yes/no whether the loan was approved or not\n",
    "- ``gender`` : the gender of the person applying\n",
    "- ``race`` : the race of the person applying\n",
    "- ``zip`` : the zip code of the person applying (will use Chicago zip codes)\n",
    "- ``annual_income`` : the annual income \n",
    "- ``FY`` : fiscal year\n",
    "- ``Quarter`` : the financial quarter\n",
    "- ``principal`` : the loan principal\n",
    "- ``test_join_516`` : a nonsense mystery column\n",
    "- ``trial_123`` : a mystery column that is actually predictive"
   ]
  },
  {
   "cell_type": "markdown",
   "metadata": {
    "section": "intro"
   },
   "source": [
    "**Notifications**\n",
    "\n",
    "1. Using a sensitive column (data uses race)\n",
    "2. High variance in race based on zip code\n",
    "3. Model FPR + FNR by gender, race, annual income\n",
    "4. Outliers in principal "
   ]
  },
  {
   "cell_type": "markdown",
   "metadata": {
    "section": "intro"
   },
   "source": [
    "# Data generation"
   ]
  },
  {
   "cell_type": "code",
   "execution_count": 1,
   "metadata": {
    "section": "intro"
   },
   "outputs": [],
   "source": [
    "class Variable:\n",
    "    def __init__(self, name, gen_func, inputs):\n",
    "        \n",
    "        self.name = name\n",
    "        self.func = gen_func\n",
    "        self.inputs = set(inputs)\n",
    "        \n",
    "    def can_gen(self, data):\n",
    "        # return if the variable can be generated with the data so far\n",
    "        avail_inputs = set(data.keys())\n",
    "        \n",
    "        return self.inputs <= avail_inputs"
   ]
  },
  {
   "cell_type": "code",
   "execution_count": 2,
   "metadata": {
    "section": "intro"
   },
   "outputs": [],
   "source": [
    "class Model:\n",
    "    \n",
    "    def __init__(self, exogenous):\n",
    "        self.exogenous = exogenous # external factors\n",
    "        self.children = {var.name : [] for var in self.exogenous}\n",
    "    \n",
    "    def generate(self):\n",
    "        \n",
    "        data = {}\n",
    "        q = set()\n",
    "        \n",
    "        for end_var in self.exogenous:\n",
    "            data[end_var.name] = end_var.func()\n",
    "            q.update(self.children[end_var.name])\n",
    "            \n",
    "        while q:\n",
    "            var = q.pop()\n",
    "            if var.can_gen(data):\n",
    "                data[var.name] = var.func(data)\n",
    "                \n",
    "                if var.name in self.children:\n",
    "                    q.update(self.children[var.name])\n",
    "            else:\n",
    "                q.add(var)\n",
    "        return data \n",
    "    \n",
    "    def add_var(self, var):\n",
    "        for input_var in var.inputs:\n",
    "            self.children[input_var].append(var)\n",
    "        self.children[var.name] = []\n",
    "        \n",
    "    def make_df(self, n):\n",
    "        df_dict = {}\n",
    "        for _ in range(n):\n",
    "            d = self.generate()\n",
    "            for k in d.keys():\n",
    "                if k not in df_dict:\n",
    "                    df_dict[k] = []\n",
    "                df_dict[k].append(d[k])\n",
    "        return pd.DataFrame(df_dict)"
   ]
  },
  {
   "cell_type": "code",
   "execution_count": 3,
   "metadata": {
    "section": "intro"
   },
   "outputs": [
    {
     "data": {
      "text/html": [
       "<div>\n",
       "<style scoped>\n",
       "    .dataframe tbody tr th:only-of-type {\n",
       "        vertical-align: middle;\n",
       "    }\n",
       "\n",
       "    .dataframe tbody tr th {\n",
       "        vertical-align: top;\n",
       "    }\n",
       "\n",
       "    .dataframe thead th {\n",
       "        text-align: right;\n",
       "    }\n",
       "</style>\n",
       "<table border=\"1\" class=\"dataframe\">\n",
       "  <thead>\n",
       "    <tr style=\"text-align: right;\">\n",
       "      <th></th>\n",
       "      <th>DATE</th>\n",
       "      <th>FEDFUNDS</th>\n",
       "    </tr>\n",
       "  </thead>\n",
       "  <tbody>\n",
       "    <tr>\n",
       "      <th>0</th>\n",
       "      <td>1954-07-01</td>\n",
       "      <td>0.80</td>\n",
       "    </tr>\n",
       "    <tr>\n",
       "      <th>1</th>\n",
       "      <td>1954-08-01</td>\n",
       "      <td>1.22</td>\n",
       "    </tr>\n",
       "    <tr>\n",
       "      <th>2</th>\n",
       "      <td>1954-09-01</td>\n",
       "      <td>1.06</td>\n",
       "    </tr>\n",
       "    <tr>\n",
       "      <th>3</th>\n",
       "      <td>1954-10-01</td>\n",
       "      <td>0.85</td>\n",
       "    </tr>\n",
       "    <tr>\n",
       "      <th>4</th>\n",
       "      <td>1954-11-01</td>\n",
       "      <td>0.83</td>\n",
       "    </tr>\n",
       "  </tbody>\n",
       "</table>\n",
       "</div>"
      ],
      "text/plain": [
       "        DATE  FEDFUNDS\n",
       "0 1954-07-01      0.80\n",
       "1 1954-08-01      1.22\n",
       "2 1954-09-01      1.06\n",
       "3 1954-10-01      0.85\n",
       "4 1954-11-01      0.83"
      ]
     },
     "execution_count": 3,
     "metadata": {},
     "output_type": "execute_result"
    }
   ],
   "source": [
    "import pandas as pd\n",
    "import numpy as np\n",
    "\n",
    "funds = pd.read_csv(\"FEDFUNDS.csv\")\n",
    "funds[\"DATE\"] = pd.to_datetime(funds[\"DATE\"])\n",
    "funds.head()"
   ]
  },
  {
   "cell_type": "code",
   "execution_count": 4,
   "metadata": {
    "section": "intro"
   },
   "outputs": [
    {
     "data": {
      "text/plain": [
       "FEDFUNDS    0.17\n",
       "Name: 0.4, dtype: float64"
      ]
     },
     "execution_count": 4,
     "metadata": {},
     "output_type": "execute_result"
    }
   ],
   "source": [
    "funds[funds[\"DATE\"] > pd.to_datetime(\"2005-01-01\")].quantile(0.40)"
   ]
  },
  {
   "cell_type": "code",
   "execution_count": 5,
   "metadata": {
    "section": "intro"
   },
   "outputs": [
    {
     "data": {
      "text/plain": [
       "0.0"
      ]
     },
     "execution_count": 5,
     "metadata": {},
     "output_type": "execute_result"
    }
   ],
   "source": [
    "1 - (.486+.51+.004)"
   ]
  },
  {
   "cell_type": "code",
   "execution_count": 6,
   "metadata": {
    "section": "intro"
   },
   "outputs": [],
   "source": [
    "def race_func():\n",
    "    return np.random.choice([\"white\", \"black\", \"hispanic/latino\", \"asian\", \"other\"], \n",
    "                            p = [.31, .32, .19, .05, .13])\n",
    "race_var = Variable(\"race\", race_func, [])"
   ]
  },
  {
   "cell_type": "code",
   "execution_count": 7,
   "metadata": {
    "section": "intro"
   },
   "outputs": [],
   "source": [
    "def gender_func():\n",
    "    return np.random.choice([\"male\", \"female\", \"non-binary\"], \n",
    "                                          p = [.486, .51, .004])\n",
    "gender_var = Variable(\"gender\", gender_func, [])"
   ]
  },
  {
   "cell_type": "code",
   "execution_count": 8,
   "metadata": {
    "section": "intro"
   },
   "outputs": [],
   "source": [
    "from datetime import datetime\n",
    "\n",
    "probs = [\n",
    "    1/12.2,\n",
    "    1.2/12.2,\n",
    "    1.5/12.2,\n",
    "    0.8/12.2,\n",
    "    1.5/12.2,\n",
    "    2/12.2,\n",
    "    2.1/12.2,\n",
    "    2.1/12.2\n",
    "]\n",
    "\n",
    "ranges = [\n",
    "    (datetime(2011, 1, 1), datetime(2012, 1, 1)),\n",
    "    (datetime(2012, 1, 1), datetime(2013, 1, 1)),\n",
    "    (datetime(2013, 1, 1), datetime(2014, 1, 1)),\n",
    "    (datetime(2014, 1, 1), datetime(2015, 1, 1)),\n",
    "    (datetime(2015, 1, 1), datetime(2016, 1, 1)),\n",
    "    (datetime(2016, 1, 1), datetime(2017, 1, 1)),\n",
    "    (datetime(2017, 1, 1), datetime(2018, 1, 1)),\n",
    "    (datetime(2018, 1, 1), datetime(2019, 1, 1)) \n",
    "]\n",
    "\n",
    "def date_func():\n",
    "    \n",
    "    index = np.random.choice(list(range(len(ranges))), p = probs) # tries to encode relative rates of mortgage applications\n",
    "    date_range = ranges[index]\n",
    "    dates_vector = (funds[\"DATE\"] >= date_range[0]) & (funds[\"DATE\"] < date_range[1])\n",
    "    \n",
    "    return np.random.choice(funds[\"DATE\"][dates_vector])\n",
    "    \n",
    "date_var = Variable(\"date\", date_func, [])"
   ]
  },
  {
   "cell_type": "code",
   "execution_count": 9,
   "metadata": {
    "section": "intro"
   },
   "outputs": [],
   "source": [
    "def fed_func(data):\n",
    "    \n",
    "    entry = funds[\"FEDFUNDS\"][funds[\"DATE\"] == data[\"date\"]]\n",
    "    return entry.iloc[0]\n",
    "\n",
    "fed_var = Variable(\"fed\", fed_func, [\"date\"])"
   ]
  },
  {
   "cell_type": "code",
   "execution_count": 10,
   "metadata": {
    "section": "intro"
   },
   "outputs": [],
   "source": [
    "def zip_func(data):\n",
    "    \n",
    "    zips = [60626, 60625, 60615, 60637, 60623, 60611, 60614]\n",
    "    \n",
    "    pr_z = { # lookup table for P[R | Z], drawn from statistical atlas\n",
    "        60626 : {\"black\" : .26, \"white\" : .42, \"asian\" : .07, \"hispanic/latino\" : .22, \"other\" :.03}, # semi-mixed\n",
    "        60625 : {\"black\" : .05, \"white\" : .42, \"asian\" : .14, \"hispanic/latino\" : .37, \"other\" : 1 - (.05 + .42 + .37 + .14)}, # maj. white\n",
    "        60615 : {\"black\" : .61, \"white\" : .25, \"asian\" : .07, \"hispanic/latino\" : .05, \"other\" : 1 - (.61 + .25 + .07 + .05)}, # maj. black\n",
    "        60637 : {\"black\" : .77, \"white\" : .16, \"asian\" : .04, \"hispanic/latino\" : .01, \"other\" : 1 - (.77 + .16 +.04 +.01)}, # maj. black\n",
    "        60623 : {\"black\" : .34, \"white\" : .02, \"asian\" : .0, \"hispanic/latino\" : .63, \"other\" : 1 - (.34 + .02 + .00 + .63)}, # maj. latino\n",
    "        60611 : {\"black\" : .04, \"white\" : .75, \"asian\" : .15, \"hispanic/latino\" : .04, \"other\" : 1 - (.04 + .75 + .15 + .04)}, # maj. white\n",
    "        60614 : {\"black\" : .04, \"white\" : .82, \"asian\" : .05, \"hispanic/latino\" : .07, \"other\" : 1 - (.04 + .82 + .05 + .07)}, # maj. white\n",
    "    }\n",
    "    \n",
    "    p_z = { # probability of someone being in any of the zip codes\n",
    "        60626 : 51061.,\n",
    "        60625 : 78966.,\n",
    "        60615 : 40745.,\n",
    "        60637 : 48270.,\n",
    "        60623 : 85158.,\n",
    "        60611 : 29722.,\n",
    "        60614 : 68363.\n",
    "    }\n",
    "    \n",
    "    p_z = {k : v/sum(p_z.values()) for k,v in p_z.items()}    \n",
    "    p_r = {zip_code : 0 for zip_code in pr_z[60626].keys()}\n",
    "    \n",
    "    for zip_code in p_z.keys():\n",
    "        for r in p_r.keys():\n",
    "            p_r[r] += pr_z[zip_code][r]*p_z[zip_code]\n",
    "            \n",
    "    pr_table = {} # lookup race, outputs probability vector\n",
    "    \n",
    "    for r in p_r.keys():\n",
    "        vec = []\n",
    "        for zip_code in zips:\n",
    "            vec.append(pr_z[zip_code][r]*p_z[zip_code]/p_r[r])\n",
    "        pr_table[r] = vec    \n",
    "    \n",
    "    # nb checked that sum of distributions given each condition sums to 1\n",
    "    \n",
    "    return np.random.choice(zips, p=pr_table[data[\"race\"]])\n",
    "\n",
    "zip_var = Variable(\"zip\", zip_func, [\"race\"])"
   ]
  },
  {
   "cell_type": "code",
   "execution_count": 11,
   "metadata": {
    "section": "intro"
   },
   "outputs": [],
   "source": [
    "def income_func(data):\n",
    "    incomes = { # ordering is 20th percentile, median, 80th pctle\n",
    "        60626 : (13700, 38700, 84100),\n",
    "        60625 : (21400, 56600, 109200),\n",
    "        60615 : (12000, 39100, 86900),\n",
    "        60637 : (9200, 25800, 68900),\n",
    "        60623 : (12800, 28900, 56600),\n",
    "        60611 : (33900, 85600, 201800),\n",
    "        60614 : (30800, 86200, 186700)\n",
    "    } # assume normal distribution\n",
    "    z_8 = 0.842\n",
    "    z_2 = -0.842\n",
    "    \n",
    "    incomes_std = {k : (v[2] - v[0])/(z_8 - z_2) for k,v in incomes.items()}\n",
    "    incomes_mean = {k : v[2] - z_8*incomes_std[k] for k,v in incomes.items()}\n",
    "    \n",
    "    # assume that women on average make 0.8 times that of men\n",
    "    sample = np.random.normal(loc = incomes_mean[data[\"zip\"]], scale=incomes_std[data[\"zip\"]])\n",
    "    if data[\"gender\"] != \"male\":\n",
    "        return int(abs(sample*0.8))\n",
    "    return int(abs(sample))\n",
    "\n",
    "income_var = Variable(\"income\", income_func, [\"zip\", \"gender\"])"
   ]
  },
  {
   "cell_type": "code",
   "execution_count": 12,
   "metadata": {
    "section": "intro"
   },
   "outputs": [],
   "source": [
    "zips = [60626,60625, 60615, 60637, 60623, 60611, 60614]\n",
    "\n",
    "income_sample = []\n",
    "\n",
    "for code in zips:\n",
    "    for _ in range(100):\n",
    "        income_sample.append(income_func({\"zip\" : code, \"gender\" : \"male\"}))"
   ]
  },
  {
   "cell_type": "code",
   "execution_count": 13,
   "metadata": {
    "section": "intro"
   },
   "outputs": [],
   "source": [
    "incomes = np.array(income_sample)"
   ]
  },
  {
   "cell_type": "code",
   "execution_count": 14,
   "metadata": {
    "section": "intro"
   },
   "outputs": [
    {
     "data": {
      "text/plain": [
       "55759.0"
      ]
     },
     "execution_count": 14,
     "metadata": {},
     "output_type": "execute_result"
    }
   ],
   "source": [
    "np.quantile(incomes, 0.5)"
   ]
  },
  {
   "cell_type": "code",
   "execution_count": 15,
   "metadata": {
    "section": "intro"
   },
   "outputs": [],
   "source": [
    "def type_func(data):\n",
    "    types = [\"home\", \"personal\", \"auto\"]\n",
    "    \n",
    "    LOW_FED = 0.17    \n",
    "    \n",
    "    if data[\"fed\"] < LOW_FED:\n",
    "        fed = 0\n",
    "    else:\n",
    "        fed = 1\n",
    "        \n",
    "    if data[\"income\"] < 21700:\n",
    "        income = 0\n",
    "    elif data[\"income\"] < 56000:\n",
    "        income = 1\n",
    "    else:\n",
    "        income = 2\n",
    "    # here is guess work, say more likely to do home or home equity when fed rate is low, \n",
    "    # define the joint distribution\n",
    "    \n",
    "    p_table = {}\n",
    "\n",
    "    # P[TYPE | low fed, income=0]\n",
    "    p_table[(0,0)] = [0.1, 0.4, 0.5]\n",
    "    # P[TYPE | high fed, income = 0]\n",
    "    p_table[(1, 0)] = [0.1, 0.6, 0.3] # under logic that high rates -> good economy\n",
    "\n",
    "    # p[TYPE | low fed, income = 1]\n",
    "    p_table[(0,1)] = [0.4, 0.3, 0.3]\n",
    "    # p[TYPE | high fed, income=1]\n",
    "    p_table[(1,1)] = [0.2, 0.3, 0.5]\n",
    "    \n",
    "     # p[TYPE | low fed, income = 2]\n",
    "    p_table[(0,2)] = [0.7, 0.1, 0.2]\n",
    "    # p[TYPE | high fed, income=2]\n",
    "    p_table[(1,2)] = [0.5, 0.1, 0.4]\n",
    "    \n",
    "    return np.random.choice(types, p=p_table[(fed,income)])\n",
    "type_var = Variable(\"type\", type_func, [\"fed\", \"income\"])"
   ]
  },
  {
   "cell_type": "code",
   "execution_count": 16,
   "metadata": {
    "section": "intro"
   },
   "outputs": [],
   "source": [
    "def interest_func(data):\n",
    "    \n",
    "    loan_type = data[\"type\"]\n",
    "    \n",
    "    if loan_type == \"home\":\n",
    "        return data[\"fed\"] + abs(np.random.normal(loc=3, scale=2))\n",
    "    if loan_type == \"personal\":\n",
    "        return data[\"fed\"] + abs(np.random.normal(loc=10, scale=5))\n",
    "    if loan_type == \"auto\":\n",
    "        return data[\"fed\"] + abs(np.random.normal(loc=5, scale=1))\n",
    "\n",
    "interest_var = Variable(\"interest\", interest_func, [\"fed\", \"type\"])"
   ]
  },
  {
   "cell_type": "code",
   "execution_count": 17,
   "metadata": {
    "section": "intro"
   },
   "outputs": [],
   "source": [
    "def term_func(data):\n",
    "    \n",
    "    loan_type = data[\"type\"]\n",
    "    \n",
    "    if loan_type == \"home\":\n",
    "        return np.random.choice([30*12, 15*12, 25*12, 20*12], p=[0.4, 0.2, 0.2, 0.2])\n",
    "    if loan_type == \"auto\":\n",
    "        return np.random.choice([72, 84, 60], p = [0.5, 0.3, 0.2])\n",
    "    else:\n",
    "        return np.random.choice([12, 18, 24, 48, 60], p = [0.2, 0.2, 0.2, 0.2, 0.2])\n",
    "    \n",
    "term_var = Variable(\"term\", term_func, [\"type\"])"
   ]
  },
  {
   "cell_type": "code",
   "execution_count": 18,
   "metadata": {
    "section": "intro"
   },
   "outputs": [],
   "source": [
    "def principal_func(data):\n",
    "    loan_type = data[\"type\"]\n",
    "    # pct of annual income\n",
    "    if loan_type == \"home\":\n",
    "        principal = abs(np.random.normal(loc=7*data[\"income\"], scale=data[\"income\"]))\n",
    "    if loan_type == \"personal\":\n",
    "        principal = abs(np.random.normal(loc=data[\"income\"]*.15, scale=data[\"income\"]*.25))\n",
    "    if loan_type == \"auto\":\n",
    "        principal = abs(np.random.normal(loc=15000, scale=data[\"income\"]*.5))\n",
    "        \n",
    "    return int(principal)\n",
    "\n",
    "principle_var = Variable(\"principal\", principal_func, [\"type\", \"income\", \"term\", \"interest\"])"
   ]
  },
  {
   "cell_type": "code",
   "execution_count": 19,
   "metadata": {
    "section": "intro",
    "tags": []
   },
   "outputs": [],
   "source": [
    "def approved_func(data):\n",
    "    if data[\"type\"] == \"home\":\n",
    "        return home_approval_func(data)\n",
    "    elif data[\"type\"] == \"auto\":\n",
    "        return auto_approval_func(data)\n",
    "    else:\n",
    "        return personal_approval_func(data)\n",
    "    \n",
    "def home_approval_func(data):\n",
    "    \n",
    "    year_payment = (1 + (data[\"interest\"]/100.))*((12*data[\"principal\"])/data[\"term\"])\n",
    "    \n",
    "    profit = (data[\"interest\"]/100.)*data[\"principal\"]*(data[\"term\"]/12.)\n",
    "    burden = year_payment/data[\"income\"]\n",
    "    \n",
    "    if data[\"zip\"] in [60625, 60611, 60614]:\n",
    "        profit_cutoff = 130000\n",
    "    else: profit_cutoff = 750000\n",
    "    return (profit > profit_cutoff) & (burden < 0.4)\n",
    "\n",
    "def auto_approval_func(data):\n",
    "    \n",
    "    year_payment = (1 + (data[\"interest\"]/100.))*((12*data[\"principal\"])/data[\"term\"])\n",
    "    \n",
    "    profit = (data[\"interest\"]/100.)*data[\"principal\"]*(data[\"term\"]/12.)\n",
    "    burden = year_payment/data[\"income\"]\n",
    "    \n",
    "    if data[\"zip\"] in [60625, 60611, 60614]: \n",
    "        profit_cutoff = 2000\n",
    "        burden_cutoff = 0.4\n",
    "    else: \n",
    "        profit_cutoff = 8000\n",
    "        burden_cutoff = 0.1\n",
    "    \n",
    "    return (profit > profit_cutoff) & (burden < burden_cutoff)\n",
    "\n",
    "def personal_approval_func(data):\n",
    "    \n",
    "    year_payment = (1 + (data[\"interest\"]/100.))*((12*data[\"principal\"])/data[\"term\"])\n",
    "    \n",
    "    profit = (data[\"interest\"]/100.)*data[\"principal\"]*(data[\"term\"]/12.)\n",
    "    burden = year_payment/data[\"income\"]\n",
    "    \n",
    "    return (profit > 2000)\n",
    "\n",
    "approved_var = Variable(\"approved\", approved_func, [\"principal\", \"income\", \"interest\", \"term\", \"zip\"])"
   ]
  },
  {
   "cell_type": "code",
   "execution_count": 20,
   "metadata": {
    "section": "intro"
   },
   "outputs": [
    {
     "data": {
      "text/plain": [
       "{'race': 'asian',\n",
       " 'gender': 'female',\n",
       " 'date': numpy.datetime64('2011-03-01T00:00:00.000000000'),\n",
       " 'fed': 0.14,\n",
       " 'zip': 60615,\n",
       " 'income': 11590,\n",
       " 'type': 'auto',\n",
       " 'interest': 5.786459740680536,\n",
       " 'term': 60,\n",
       " 'principal': 10595,\n",
       " 'approved': False}"
      ]
     },
     "execution_count": 20,
     "metadata": {},
     "output_type": "execute_result"
    }
   ],
   "source": [
    "exog = [race_var, gender_var, date_var]\n",
    "generator = Model(exog)\n",
    "generator.add_var(fed_var)\n",
    "generator.add_var(zip_var)\n",
    "generator.add_var(income_var)\n",
    "generator.add_var(type_var)\n",
    "generator.add_var(interest_var)\n",
    "generator.add_var(term_var)\n",
    "generator.add_var(principle_var)\n",
    "generator.add_var(approved_var)\n",
    "generator.generate()"
   ]
  },
  {
   "cell_type": "code",
   "execution_count": 21,
   "metadata": {
    "section": "intro"
   },
   "outputs": [
    {
     "data": {
      "text/html": [
       "<div>\n",
       "<style scoped>\n",
       "    .dataframe tbody tr th:only-of-type {\n",
       "        vertical-align: middle;\n",
       "    }\n",
       "\n",
       "    .dataframe tbody tr th {\n",
       "        vertical-align: top;\n",
       "    }\n",
       "\n",
       "    .dataframe thead th {\n",
       "        text-align: right;\n",
       "    }\n",
       "</style>\n",
       "<table border=\"1\" class=\"dataframe\">\n",
       "  <thead>\n",
       "    <tr style=\"text-align: right;\">\n",
       "      <th></th>\n",
       "      <th>race</th>\n",
       "      <th>gender</th>\n",
       "      <th>date</th>\n",
       "      <th>fed</th>\n",
       "      <th>zip</th>\n",
       "      <th>income</th>\n",
       "      <th>type</th>\n",
       "      <th>interest</th>\n",
       "      <th>term</th>\n",
       "      <th>principal</th>\n",
       "      <th>approved</th>\n",
       "    </tr>\n",
       "  </thead>\n",
       "  <tbody>\n",
       "    <tr>\n",
       "      <th>0</th>\n",
       "      <td>black</td>\n",
       "      <td>male</td>\n",
       "      <td>2018-12-01</td>\n",
       "      <td>2.27</td>\n",
       "      <td>60637</td>\n",
       "      <td>67486</td>\n",
       "      <td>home</td>\n",
       "      <td>5.999067</td>\n",
       "      <td>360</td>\n",
       "      <td>423122</td>\n",
       "      <td>True</td>\n",
       "    </tr>\n",
       "    <tr>\n",
       "      <th>1</th>\n",
       "      <td>black</td>\n",
       "      <td>female</td>\n",
       "      <td>2016-11-01</td>\n",
       "      <td>0.41</td>\n",
       "      <td>60637</td>\n",
       "      <td>13364</td>\n",
       "      <td>auto</td>\n",
       "      <td>7.689935</td>\n",
       "      <td>72</td>\n",
       "      <td>11750</td>\n",
       "      <td>False</td>\n",
       "    </tr>\n",
       "    <tr>\n",
       "      <th>2</th>\n",
       "      <td>black</td>\n",
       "      <td>female</td>\n",
       "      <td>2015-03-01</td>\n",
       "      <td>0.11</td>\n",
       "      <td>60614</td>\n",
       "      <td>144718</td>\n",
       "      <td>home</td>\n",
       "      <td>3.131035</td>\n",
       "      <td>360</td>\n",
       "      <td>832192</td>\n",
       "      <td>True</td>\n",
       "    </tr>\n",
       "    <tr>\n",
       "      <th>3</th>\n",
       "      <td>black</td>\n",
       "      <td>female</td>\n",
       "      <td>2017-10-01</td>\n",
       "      <td>1.15</td>\n",
       "      <td>60623</td>\n",
       "      <td>34062</td>\n",
       "      <td>auto</td>\n",
       "      <td>7.365360</td>\n",
       "      <td>72</td>\n",
       "      <td>18123</td>\n",
       "      <td>True</td>\n",
       "    </tr>\n",
       "    <tr>\n",
       "      <th>4</th>\n",
       "      <td>other</td>\n",
       "      <td>male</td>\n",
       "      <td>2016-03-01</td>\n",
       "      <td>0.36</td>\n",
       "      <td>60637</td>\n",
       "      <td>65824</td>\n",
       "      <td>home</td>\n",
       "      <td>3.919039</td>\n",
       "      <td>360</td>\n",
       "      <td>496113</td>\n",
       "      <td>False</td>\n",
       "    </tr>\n",
       "  </tbody>\n",
       "</table>\n",
       "</div>"
      ],
      "text/plain": [
       "    race  gender       date   fed    zip  income  type  interest  term  \\\n",
       "0  black    male 2018-12-01  2.27  60637   67486  home  5.999067   360   \n",
       "1  black  female 2016-11-01  0.41  60637   13364  auto  7.689935    72   \n",
       "2  black  female 2015-03-01  0.11  60614  144718  home  3.131035   360   \n",
       "3  black  female 2017-10-01  1.15  60623   34062  auto  7.365360    72   \n",
       "4  other    male 2016-03-01  0.36  60637   65824  home  3.919039   360   \n",
       "\n",
       "   principal  approved  \n",
       "0     423122      True  \n",
       "1      11750     False  \n",
       "2     832192      True  \n",
       "3      18123      True  \n",
       "4     496113     False  "
      ]
     },
     "execution_count": 21,
     "metadata": {},
     "output_type": "execute_result"
    }
   ],
   "source": [
    "# make df\n",
    "loans = generator.make_df(2400)\n",
    "loans.head()"
   ]
  },
  {
   "cell_type": "code",
   "execution_count": 22,
   "metadata": {
    "section": "intro",
    "tags": []
   },
   "outputs": [
    {
     "data": {
      "text/plain": [
       "846"
      ]
     },
     "execution_count": 22,
     "metadata": {},
     "output_type": "execute_result"
    }
   ],
   "source": [
    "loans[\"approved\"].sum()"
   ]
  },
  {
   "cell_type": "code",
   "execution_count": 23,
   "metadata": {
    "section": "intro"
   },
   "outputs": [],
   "source": [
    "# add data issues\n",
    "\n",
    "import numpy as np\n",
    "from random import randint, choices\n",
    "\n",
    "# unexplained non-explanatory column\n",
    "loans[\"adj_bls_2\"] = loans[\"fed\"]\n",
    "loans = loans.drop(\"fed\", axis=1)"
   ]
  },
  {
   "cell_type": "code",
   "execution_count": 24,
   "metadata": {
    "section": "intro"
   },
   "outputs": [],
   "source": [
    "# id number\n",
    "years = pd.DatetimeIndex(loans[\"date\"]).year\n",
    "months = pd.DatetimeIndex(loans[\"date\"]).month\n",
    "ids = []\n",
    "\n",
    "for yr,mo in zip(years, months):\n",
    "    \n",
    "    id_number = \"AP\"+str(yr)+str(mo)+\"-\"+str(randint(0,3))+\"-\"+str(randint(0,100))\n",
    "    \n",
    "    while id_number in ids:\n",
    "        id_number = \"AP\"+str(yr)+str(mo)+\"-\"+str(randint(0,3))+\"-\"+str(randint(0,100))\n",
    "    ids.append(id_number)\n",
    "    \n",
    "loans[\"id\"] = ids"
   ]
  },
  {
   "cell_type": "code",
   "execution_count": 25,
   "metadata": {
    "section": "intro"
   },
   "outputs": [],
   "source": [
    "loans.to_csv(\"./clean_data.csv\")"
   ]
  },
  {
   "cell_type": "code",
   "execution_count": 24,
   "metadata": {
    "section": "intro"
   },
   "outputs": [],
   "source": [
    "# duplicate rows\n",
    "rands = choices(ids, k=4)\n",
    "numbers = [randint(2, 5) for _ in range(4)]\n",
    "\n",
    "for id_number, numb in zip(rands, numbers):\n",
    "    row_df = loans[loans[\"id\"] == id_number]\n",
    "    loans = loans.append([row_df]*numb, ignore_index=True)\n",
    "    \n",
    "# Add correlated missing data\n",
    "drop_data = lambda row: np.random.choice([row[\"income\"], None], p=[0.6, 0.4]) if (row[\"gender\"] == \"female\" and row[\"approved\"]) else np.random.choice([row[\"income\"], None], p=[0.95, 0.05])\n",
    "loans[\"income\"] = loans.apply(drop_data, axis=1)\n",
    "\n",
    "# uncorrelated missing data\n",
    "rand_drops = lambda x: np.random.choice([x, None], p=[0.99,0.01])\n",
    "loans[\"race\"] = loans[\"race\"].apply(rand_drops)\n",
    "loans[\"gender\"] = loans[\"gender\"].apply(rand_drops)\n",
    "#loans[\"zip\"] = loans[\"zip\"].apply(rand_drops)\n",
    "#loans[\"type\"] = loans[\"type\"].apply(rand_drops)\n",
    "loans[\"interest\"] = loans[\"interest\"].apply(rand_drops)\n",
    "#loans[\"term\"] = loans[\"term\"].apply(rand_drops)\n",
    "loans[\"principal\"] = loans[\"principal\"].apply(rand_drops)\n",
    "loans[\"adj_bls_2\"] = loans[\"adj_bls_2\"].apply(rand_drops)\n",
    "\n",
    "# change up capitalization in race\n",
    "def random_cap(value):\n",
    "    if value == \"black\":\n",
    "        return np.random.choice([\"black\", \"Black\", \"African-American\"], p=[0.95, 0.04, 0.01])\n",
    "    if value == \"hispanic/latino\":\n",
    "        return np.random.choice([\"hispanic/latino\", \"Hispanic\", \"Latinx\"], p=[0.96, 0.02, 0.02])\n",
    "    if value == \"white\":\n",
    "        return np.random.choice([\"white\", \"White\", \"Caucasian\"], p=[0.98, 0.01, 0.01])\n",
    "    if value == \"asian\":\n",
    "        return np.random.choice([\"asian\", \"Asian\", \"indian\", \"Indian\", \"Chinese\"], p=[0.96, 0.01, 0.01, 0.01, 0.01])\n",
    "    return value\n",
    "loans[\"race\"] = loans[\"race\"].apply(random_cap)"
   ]
  },
  {
   "cell_type": "code",
   "execution_count": 25,
   "metadata": {
    "section": "intro"
   },
   "outputs": [],
   "source": [
    "from sklearn.linear_model import LogisticRegressionCV\n",
    "\n",
    "def train_lr(feature_df, label_df):\n",
    "    \n",
    "    lr = LogisticRegressionCV(cv=5)\n",
    "    lr.fit(feature_df, label_df)\n",
    "    \n",
    "    return lr\n",
    "    \n",
    "def compute_approval_rate(approval, sensitive_attr):\n",
    "    # return conditional probabibility of approval | sensitive_attribute\n",
    "    return sum(approval & sensitive_attr)/sum(sensitive_attr)\n",
    "\n",
    "def test_missing_effect(df):\n",
    "    \n",
    "    df_dropped = df.dropna(subset=[\"income\"])\n",
    "    \n",
    "    df_impute = df.drop(\"income\", axis=1)\n",
    "    df_impute[\"income\"] = df[\"income\"].fillna(0.0)\n",
    "    \n",
    "    feature_cols = [c for c in df.columns if c not in [\"approved\", \"race\", \"gender\"]]\n",
    "    label_col = \"approved\"\n",
    "    \n",
    "    lr_dropped = train_lr(df_dropped[feature_cols], df_dropped[label_col])\n",
    "    lr_imputed = train_lr(df_impute[feature_cols], df_impute[label_col])\n",
    "    \n",
    "    preds_dropped = lr_dropped.predict(df_dropped[feature_cols])\n",
    "    preds_imputed = lr_imputed.predict(df_impute[feature_cols])\n",
    "    \n",
    "    women_dropped = df_dropped[\"gender\"] == \"female\"\n",
    "    women_imputed = df_impute[\"gender\"] == \"female\"\n",
    "    \n",
    "    rate_dropped = compute_approval_rate(preds_dropped, women_dropped)/compute_approval_rate(preds_dropped, ~women_dropped)\n",
    "    rate_impute = compute_approval_rate(preds_imputed, women_imputed)/compute_approval_rate(preds_imputed, ~women_imputed)\n",
    "    \n",
    "    return rate_dropped, rate_impute\n",
    "\n",
    "def test_home_auto(df):\n",
    "    \n",
    "    home_loans = df[df[\"type_home\"] == 1]\n",
    "    auto_loans = df[(df[\"type_home\"] + df[\"type_personal\"]) == 1]\n",
    "    \n",
    "    home_approvals = home_loans[\"approved\"]\n",
    "    home_race = home_loans[\"race\"] == \"black\"\n",
    "    \n",
    "    auto_approvals = auto_loans[\"approved\"]\n",
    "    auto_race = auto_loans[\"race\"] == \"black\"\n",
    "    \n",
    "    home_ratio = compute_approval_rate(home_approvals, home_race)/compute_approval_rate(home_approvals, ~home_race)\n",
    "    auto_ratio = compute_approval_rate(auto_approvals, auto_race)/compute_approval_rate(auto_approvals, ~auto_race)\n",
    "    \n",
    "    # both should be low\n",
    "    \n",
    "    return home_ratio, auto_ratio"
   ]
  },
  {
   "cell_type": "code",
   "execution_count": 26,
   "metadata": {
    "section": "intro"
   },
   "outputs": [
    {
     "data": {
      "text/html": [
       "<div>\n",
       "<style scoped>\n",
       "    .dataframe tbody tr th:only-of-type {\n",
       "        vertical-align: middle;\n",
       "    }\n",
       "\n",
       "    .dataframe tbody tr th {\n",
       "        vertical-align: top;\n",
       "    }\n",
       "\n",
       "    .dataframe thead th {\n",
       "        text-align: right;\n",
       "    }\n",
       "</style>\n",
       "<table border=\"1\" class=\"dataframe\">\n",
       "  <thead>\n",
       "    <tr style=\"text-align: right;\">\n",
       "      <th></th>\n",
       "      <th>race</th>\n",
       "      <th>gender</th>\n",
       "      <th>income</th>\n",
       "      <th>interest</th>\n",
       "      <th>adj_bls_2</th>\n",
       "      <th>interest</th>\n",
       "      <th>term</th>\n",
       "      <th>principal</th>\n",
       "      <th>approved</th>\n",
       "      <th>type_home</th>\n",
       "      <th>type_personal</th>\n",
       "      <th>60614</th>\n",
       "      <th>60615</th>\n",
       "      <th>60623</th>\n",
       "      <th>60625</th>\n",
       "      <th>60626</th>\n",
       "      <th>60637</th>\n",
       "    </tr>\n",
       "  </thead>\n",
       "  <tbody>\n",
       "    <tr>\n",
       "      <th>0</th>\n",
       "      <td>black</td>\n",
       "      <td>female</td>\n",
       "      <td>NaN</td>\n",
       "      <td>12.980292</td>\n",
       "      <td>0.66</td>\n",
       "      <td>12.980292</td>\n",
       "      <td>60</td>\n",
       "      <td>NaN</td>\n",
       "      <td>True</td>\n",
       "      <td>0</td>\n",
       "      <td>1</td>\n",
       "      <td>0</td>\n",
       "      <td>0</td>\n",
       "      <td>0</td>\n",
       "      <td>0</td>\n",
       "      <td>0</td>\n",
       "      <td>1</td>\n",
       "    </tr>\n",
       "    <tr>\n",
       "      <th>1</th>\n",
       "      <td>white</td>\n",
       "      <td>female</td>\n",
       "      <td>1057.0</td>\n",
       "      <td>19.742006</td>\n",
       "      <td>2.19</td>\n",
       "      <td>19.742006</td>\n",
       "      <td>48</td>\n",
       "      <td>421.0</td>\n",
       "      <td>False</td>\n",
       "      <td>0</td>\n",
       "      <td>1</td>\n",
       "      <td>0</td>\n",
       "      <td>0</td>\n",
       "      <td>0</td>\n",
       "      <td>0</td>\n",
       "      <td>1</td>\n",
       "      <td>0</td>\n",
       "    </tr>\n",
       "    <tr>\n",
       "      <th>2</th>\n",
       "      <td>white</td>\n",
       "      <td>male</td>\n",
       "      <td>10975.0</td>\n",
       "      <td>0.209944</td>\n",
       "      <td>0.14</td>\n",
       "      <td>0.209944</td>\n",
       "      <td>300</td>\n",
       "      <td>61135.0</td>\n",
       "      <td>False</td>\n",
       "      <td>1</td>\n",
       "      <td>0</td>\n",
       "      <td>0</td>\n",
       "      <td>0</td>\n",
       "      <td>0</td>\n",
       "      <td>0</td>\n",
       "      <td>0</td>\n",
       "      <td>1</td>\n",
       "    </tr>\n",
       "    <tr>\n",
       "      <th>3</th>\n",
       "      <td>black</td>\n",
       "      <td>female</td>\n",
       "      <td>12399.0</td>\n",
       "      <td>6.150639</td>\n",
       "      <td>1.16</td>\n",
       "      <td>6.150639</td>\n",
       "      <td>72</td>\n",
       "      <td>8364.0</td>\n",
       "      <td>False</td>\n",
       "      <td>0</td>\n",
       "      <td>0</td>\n",
       "      <td>0</td>\n",
       "      <td>1</td>\n",
       "      <td>0</td>\n",
       "      <td>0</td>\n",
       "      <td>0</td>\n",
       "      <td>0</td>\n",
       "    </tr>\n",
       "    <tr>\n",
       "      <th>4</th>\n",
       "      <td>black</td>\n",
       "      <td>female</td>\n",
       "      <td>51780.0</td>\n",
       "      <td>17.602769</td>\n",
       "      <td>0.15</td>\n",
       "      <td>17.602769</td>\n",
       "      <td>60</td>\n",
       "      <td>NaN</td>\n",
       "      <td>True</td>\n",
       "      <td>0</td>\n",
       "      <td>1</td>\n",
       "      <td>0</td>\n",
       "      <td>0</td>\n",
       "      <td>1</td>\n",
       "      <td>0</td>\n",
       "      <td>0</td>\n",
       "      <td>0</td>\n",
       "    </tr>\n",
       "  </tbody>\n",
       "</table>\n",
       "</div>"
      ],
      "text/plain": [
       "    race  gender   income   interest  adj_bls_2   interest  term  principal  \\\n",
       "0  black  female      NaN  12.980292       0.66  12.980292    60        NaN   \n",
       "1  white  female   1057.0  19.742006       2.19  19.742006    48      421.0   \n",
       "2  white    male  10975.0   0.209944       0.14   0.209944   300    61135.0   \n",
       "3  black  female  12399.0   6.150639       1.16   6.150639    72     8364.0   \n",
       "4  black  female  51780.0  17.602769       0.15  17.602769    60        NaN   \n",
       "\n",
       "   approved  type_home  type_personal  60614  60615  60623  60625  60626  \\\n",
       "0      True          0              1      0      0      0      0      0   \n",
       "1     False          0              1      0      0      0      0      1   \n",
       "2     False          1              0      0      0      0      0      0   \n",
       "3     False          0              0      0      1      0      0      0   \n",
       "4      True          0              1      0      0      1      0      0   \n",
       "\n",
       "   60637  \n",
       "0      1  \n",
       "1      0  \n",
       "2      1  \n",
       "3      0  \n",
       "4      0  "
      ]
     },
     "execution_count": 26,
     "metadata": {},
     "output_type": "execute_result"
    }
   ],
   "source": [
    "# run the evaluation\n",
    "\n",
    "usable_loans = loans[[\"race\", \"gender\", \"income\", \"interest\", \"adj_bls_2\", \"interest\", \"term\", \"principal\", \"approved\"]]\n",
    "categorical_type = pd.get_dummies(loans[\"type\"], prefix=\"type\", drop_first=True)\n",
    "categorical_zip = pd.get_dummies(loans[\"zip\"], drop_first=True)\n",
    "\n",
    "usable_loans = pd.concat([usable_loans, categorical_type, categorical_zip], axis=1)\n",
    "usable_loans.head()\n",
    "\n"
   ]
  },
  {
   "cell_type": "code",
   "execution_count": 96,
   "metadata": {
    "section": "intro"
   },
   "outputs": [
    {
     "ename": "ValueError",
     "evalue": "Input contains NaN, infinity or a value too large for dtype('float64').",
     "output_type": "error",
     "traceback": [
      "\u001b[0;31m---------------------------------------------------------------------------\u001b[0m",
      "\u001b[0;31mValueError\u001b[0m                                Traceback (most recent call last)",
      "\u001b[0;32m<ipython-input-96-10f8115d8a5e>\u001b[0m in \u001b[0;36m<module>\u001b[0;34m\u001b[0m\n\u001b[0;32m----> 1\u001b[0;31m \u001b[0mrate_dropped\u001b[0m\u001b[0;34m,\u001b[0m \u001b[0mrate_imputed\u001b[0m \u001b[0;34m=\u001b[0m \u001b[0mtest_missing_effect\u001b[0m\u001b[0;34m(\u001b[0m\u001b[0musable_loans\u001b[0m\u001b[0;34m)\u001b[0m\u001b[0;34m\u001b[0m\u001b[0;34m\u001b[0m\u001b[0m\n\u001b[0m\u001b[1;32m      2\u001b[0m \u001b[0mhome_ratio\u001b[0m\u001b[0;34m,\u001b[0m \u001b[0mauto_ratio\u001b[0m \u001b[0;34m=\u001b[0m \u001b[0mtest_home_auto\u001b[0m\u001b[0;34m(\u001b[0m\u001b[0musable_loans\u001b[0m\u001b[0;34m)\u001b[0m\u001b[0;34m\u001b[0m\u001b[0;34m\u001b[0m\u001b[0m\n\u001b[1;32m      3\u001b[0m \u001b[0;34m\u001b[0m\u001b[0m\n\u001b[1;32m      4\u001b[0m \u001b[0mprint\u001b[0m\u001b[0;34m(\u001b[0m\u001b[0;34m\"Dropped approval ratio: {0}, Imputed {1}\"\u001b[0m\u001b[0;34m.\u001b[0m\u001b[0mformat\u001b[0m\u001b[0;34m(\u001b[0m\u001b[0mrate_dropped\u001b[0m\u001b[0;34m,\u001b[0m \u001b[0mrate_imputed\u001b[0m\u001b[0;34m)\u001b[0m\u001b[0;34m)\u001b[0m\u001b[0;34m\u001b[0m\u001b[0;34m\u001b[0m\u001b[0m\n\u001b[1;32m      5\u001b[0m \u001b[0mprint\u001b[0m\u001b[0;34m(\u001b[0m\u001b[0;34m\"Ratio of home loans: {0}, auto loans {1}\"\u001b[0m\u001b[0;34m.\u001b[0m\u001b[0mformat\u001b[0m\u001b[0;34m(\u001b[0m\u001b[0mhome_ratio\u001b[0m\u001b[0;34m,\u001b[0m \u001b[0mauto_ratio\u001b[0m\u001b[0;34m)\u001b[0m\u001b[0;34m)\u001b[0m\u001b[0;34m\u001b[0m\u001b[0;34m\u001b[0m\u001b[0m\n",
      "\u001b[0;32m<ipython-input-94-e552be69049c>\u001b[0m in \u001b[0;36mtest_missing_effect\u001b[0;34m(df)\u001b[0m\n\u001b[1;32m     22\u001b[0m     \u001b[0mlabel_col\u001b[0m \u001b[0;34m=\u001b[0m \u001b[0;34m\"approved\"\u001b[0m\u001b[0;34m\u001b[0m\u001b[0;34m\u001b[0m\u001b[0m\n\u001b[1;32m     23\u001b[0m \u001b[0;34m\u001b[0m\u001b[0m\n\u001b[0;32m---> 24\u001b[0;31m     \u001b[0mlr_dropped\u001b[0m \u001b[0;34m=\u001b[0m \u001b[0mtrain_lr\u001b[0m\u001b[0;34m(\u001b[0m\u001b[0mdf_dropped\u001b[0m\u001b[0;34m[\u001b[0m\u001b[0mfeature_cols\u001b[0m\u001b[0;34m]\u001b[0m\u001b[0;34m,\u001b[0m \u001b[0mdf_dropped\u001b[0m\u001b[0;34m[\u001b[0m\u001b[0mlabel_col\u001b[0m\u001b[0;34m]\u001b[0m\u001b[0;34m)\u001b[0m\u001b[0;34m\u001b[0m\u001b[0;34m\u001b[0m\u001b[0m\n\u001b[0m\u001b[1;32m     25\u001b[0m     \u001b[0mlr_imputed\u001b[0m \u001b[0;34m=\u001b[0m \u001b[0mtrain_lr\u001b[0m\u001b[0;34m(\u001b[0m\u001b[0mdf_impute\u001b[0m\u001b[0;34m[\u001b[0m\u001b[0mfeature_cols\u001b[0m\u001b[0;34m]\u001b[0m\u001b[0;34m,\u001b[0m \u001b[0mdf_impute\u001b[0m\u001b[0;34m[\u001b[0m\u001b[0mlabel_col\u001b[0m\u001b[0;34m]\u001b[0m\u001b[0;34m)\u001b[0m\u001b[0;34m\u001b[0m\u001b[0;34m\u001b[0m\u001b[0m\n\u001b[1;32m     26\u001b[0m \u001b[0;34m\u001b[0m\u001b[0m\n",
      "\u001b[0;32m<ipython-input-94-e552be69049c>\u001b[0m in \u001b[0;36mtrain_lr\u001b[0;34m(feature_df, label_df)\u001b[0m\n\u001b[1;32m      4\u001b[0m \u001b[0;34m\u001b[0m\u001b[0m\n\u001b[1;32m      5\u001b[0m     \u001b[0mlr\u001b[0m \u001b[0;34m=\u001b[0m \u001b[0mLogisticRegressionCV\u001b[0m\u001b[0;34m(\u001b[0m\u001b[0mcv\u001b[0m\u001b[0;34m=\u001b[0m\u001b[0;36m5\u001b[0m\u001b[0;34m)\u001b[0m\u001b[0;34m\u001b[0m\u001b[0;34m\u001b[0m\u001b[0m\n\u001b[0;32m----> 6\u001b[0;31m     \u001b[0mlr\u001b[0m\u001b[0;34m.\u001b[0m\u001b[0mfit\u001b[0m\u001b[0;34m(\u001b[0m\u001b[0mfeature_df\u001b[0m\u001b[0;34m,\u001b[0m \u001b[0mlabel_df\u001b[0m\u001b[0;34m)\u001b[0m\u001b[0;34m\u001b[0m\u001b[0;34m\u001b[0m\u001b[0m\n\u001b[0m\u001b[1;32m      7\u001b[0m \u001b[0;34m\u001b[0m\u001b[0m\n\u001b[1;32m      8\u001b[0m     \u001b[0;32mreturn\u001b[0m \u001b[0mlr\u001b[0m\u001b[0;34m\u001b[0m\u001b[0;34m\u001b[0m\u001b[0m\n",
      "\u001b[0;32m/usr/local/lib/python3.9/site-packages/sklearn/linear_model/_logistic.py\u001b[0m in \u001b[0;36mfit\u001b[0;34m(self, X, y, sample_weight)\u001b[0m\n\u001b[1;32m   1817\u001b[0m             )\n\u001b[1;32m   1818\u001b[0m \u001b[0;34m\u001b[0m\u001b[0m\n\u001b[0;32m-> 1819\u001b[0;31m         X, y = self._validate_data(X, y, accept_sparse='csr', dtype=np.float64,\n\u001b[0m\u001b[1;32m   1820\u001b[0m                                    \u001b[0morder\u001b[0m\u001b[0;34m=\u001b[0m\u001b[0;34m\"C\"\u001b[0m\u001b[0;34m,\u001b[0m\u001b[0;34m\u001b[0m\u001b[0;34m\u001b[0m\u001b[0m\n\u001b[1;32m   1821\u001b[0m                                    accept_large_sparse=solver != 'liblinear')\n",
      "\u001b[0;32m/usr/local/lib/python3.9/site-packages/sklearn/base.py\u001b[0m in \u001b[0;36m_validate_data\u001b[0;34m(self, X, y, reset, validate_separately, **check_params)\u001b[0m\n\u001b[1;32m    431\u001b[0m                 \u001b[0my\u001b[0m \u001b[0;34m=\u001b[0m \u001b[0mcheck_array\u001b[0m\u001b[0;34m(\u001b[0m\u001b[0my\u001b[0m\u001b[0;34m,\u001b[0m \u001b[0;34m**\u001b[0m\u001b[0mcheck_y_params\u001b[0m\u001b[0;34m)\u001b[0m\u001b[0;34m\u001b[0m\u001b[0;34m\u001b[0m\u001b[0m\n\u001b[1;32m    432\u001b[0m             \u001b[0;32melse\u001b[0m\u001b[0;34m:\u001b[0m\u001b[0;34m\u001b[0m\u001b[0;34m\u001b[0m\u001b[0m\n\u001b[0;32m--> 433\u001b[0;31m                 \u001b[0mX\u001b[0m\u001b[0;34m,\u001b[0m \u001b[0my\u001b[0m \u001b[0;34m=\u001b[0m \u001b[0mcheck_X_y\u001b[0m\u001b[0;34m(\u001b[0m\u001b[0mX\u001b[0m\u001b[0;34m,\u001b[0m \u001b[0my\u001b[0m\u001b[0;34m,\u001b[0m \u001b[0;34m**\u001b[0m\u001b[0mcheck_params\u001b[0m\u001b[0;34m)\u001b[0m\u001b[0;34m\u001b[0m\u001b[0;34m\u001b[0m\u001b[0m\n\u001b[0m\u001b[1;32m    434\u001b[0m             \u001b[0mout\u001b[0m \u001b[0;34m=\u001b[0m \u001b[0mX\u001b[0m\u001b[0;34m,\u001b[0m \u001b[0my\u001b[0m\u001b[0;34m\u001b[0m\u001b[0;34m\u001b[0m\u001b[0m\n\u001b[1;32m    435\u001b[0m \u001b[0;34m\u001b[0m\u001b[0m\n",
      "\u001b[0;32m/usr/local/lib/python3.9/site-packages/sklearn/utils/validation.py\u001b[0m in \u001b[0;36minner_f\u001b[0;34m(*args, **kwargs)\u001b[0m\n\u001b[1;32m     61\u001b[0m             \u001b[0mextra_args\u001b[0m \u001b[0;34m=\u001b[0m \u001b[0mlen\u001b[0m\u001b[0;34m(\u001b[0m\u001b[0margs\u001b[0m\u001b[0;34m)\u001b[0m \u001b[0;34m-\u001b[0m \u001b[0mlen\u001b[0m\u001b[0;34m(\u001b[0m\u001b[0mall_args\u001b[0m\u001b[0;34m)\u001b[0m\u001b[0;34m\u001b[0m\u001b[0;34m\u001b[0m\u001b[0m\n\u001b[1;32m     62\u001b[0m             \u001b[0;32mif\u001b[0m \u001b[0mextra_args\u001b[0m \u001b[0;34m<=\u001b[0m \u001b[0;36m0\u001b[0m\u001b[0;34m:\u001b[0m\u001b[0;34m\u001b[0m\u001b[0;34m\u001b[0m\u001b[0m\n\u001b[0;32m---> 63\u001b[0;31m                 \u001b[0;32mreturn\u001b[0m \u001b[0mf\u001b[0m\u001b[0;34m(\u001b[0m\u001b[0;34m*\u001b[0m\u001b[0margs\u001b[0m\u001b[0;34m,\u001b[0m \u001b[0;34m**\u001b[0m\u001b[0mkwargs\u001b[0m\u001b[0;34m)\u001b[0m\u001b[0;34m\u001b[0m\u001b[0;34m\u001b[0m\u001b[0m\n\u001b[0m\u001b[1;32m     64\u001b[0m \u001b[0;34m\u001b[0m\u001b[0m\n\u001b[1;32m     65\u001b[0m             \u001b[0;31m# extra_args > 0\u001b[0m\u001b[0;34m\u001b[0m\u001b[0;34m\u001b[0m\u001b[0;34m\u001b[0m\u001b[0m\n",
      "\u001b[0;32m/usr/local/lib/python3.9/site-packages/sklearn/utils/validation.py\u001b[0m in \u001b[0;36mcheck_X_y\u001b[0;34m(X, y, accept_sparse, accept_large_sparse, dtype, order, copy, force_all_finite, ensure_2d, allow_nd, multi_output, ensure_min_samples, ensure_min_features, y_numeric, estimator)\u001b[0m\n\u001b[1;32m    869\u001b[0m         \u001b[0;32mraise\u001b[0m \u001b[0mValueError\u001b[0m\u001b[0;34m(\u001b[0m\u001b[0;34m\"y cannot be None\"\u001b[0m\u001b[0;34m)\u001b[0m\u001b[0;34m\u001b[0m\u001b[0;34m\u001b[0m\u001b[0m\n\u001b[1;32m    870\u001b[0m \u001b[0;34m\u001b[0m\u001b[0m\n\u001b[0;32m--> 871\u001b[0;31m     X = check_array(X, accept_sparse=accept_sparse,\n\u001b[0m\u001b[1;32m    872\u001b[0m                     \u001b[0maccept_large_sparse\u001b[0m\u001b[0;34m=\u001b[0m\u001b[0maccept_large_sparse\u001b[0m\u001b[0;34m,\u001b[0m\u001b[0;34m\u001b[0m\u001b[0;34m\u001b[0m\u001b[0m\n\u001b[1;32m    873\u001b[0m                     \u001b[0mdtype\u001b[0m\u001b[0;34m=\u001b[0m\u001b[0mdtype\u001b[0m\u001b[0;34m,\u001b[0m \u001b[0morder\u001b[0m\u001b[0;34m=\u001b[0m\u001b[0morder\u001b[0m\u001b[0;34m,\u001b[0m \u001b[0mcopy\u001b[0m\u001b[0;34m=\u001b[0m\u001b[0mcopy\u001b[0m\u001b[0;34m,\u001b[0m\u001b[0;34m\u001b[0m\u001b[0;34m\u001b[0m\u001b[0m\n",
      "\u001b[0;32m/usr/local/lib/python3.9/site-packages/sklearn/utils/validation.py\u001b[0m in \u001b[0;36minner_f\u001b[0;34m(*args, **kwargs)\u001b[0m\n\u001b[1;32m     61\u001b[0m             \u001b[0mextra_args\u001b[0m \u001b[0;34m=\u001b[0m \u001b[0mlen\u001b[0m\u001b[0;34m(\u001b[0m\u001b[0margs\u001b[0m\u001b[0;34m)\u001b[0m \u001b[0;34m-\u001b[0m \u001b[0mlen\u001b[0m\u001b[0;34m(\u001b[0m\u001b[0mall_args\u001b[0m\u001b[0;34m)\u001b[0m\u001b[0;34m\u001b[0m\u001b[0;34m\u001b[0m\u001b[0m\n\u001b[1;32m     62\u001b[0m             \u001b[0;32mif\u001b[0m \u001b[0mextra_args\u001b[0m \u001b[0;34m<=\u001b[0m \u001b[0;36m0\u001b[0m\u001b[0;34m:\u001b[0m\u001b[0;34m\u001b[0m\u001b[0;34m\u001b[0m\u001b[0m\n\u001b[0;32m---> 63\u001b[0;31m                 \u001b[0;32mreturn\u001b[0m \u001b[0mf\u001b[0m\u001b[0;34m(\u001b[0m\u001b[0;34m*\u001b[0m\u001b[0margs\u001b[0m\u001b[0;34m,\u001b[0m \u001b[0;34m**\u001b[0m\u001b[0mkwargs\u001b[0m\u001b[0;34m)\u001b[0m\u001b[0;34m\u001b[0m\u001b[0;34m\u001b[0m\u001b[0m\n\u001b[0m\u001b[1;32m     64\u001b[0m \u001b[0;34m\u001b[0m\u001b[0m\n\u001b[1;32m     65\u001b[0m             \u001b[0;31m# extra_args > 0\u001b[0m\u001b[0;34m\u001b[0m\u001b[0;34m\u001b[0m\u001b[0;34m\u001b[0m\u001b[0m\n",
      "\u001b[0;32m/usr/local/lib/python3.9/site-packages/sklearn/utils/validation.py\u001b[0m in \u001b[0;36mcheck_array\u001b[0;34m(array, accept_sparse, accept_large_sparse, dtype, order, copy, force_all_finite, ensure_2d, allow_nd, ensure_min_samples, ensure_min_features, estimator)\u001b[0m\n\u001b[1;32m    718\u001b[0m \u001b[0;34m\u001b[0m\u001b[0m\n\u001b[1;32m    719\u001b[0m         \u001b[0;32mif\u001b[0m \u001b[0mforce_all_finite\u001b[0m\u001b[0;34m:\u001b[0m\u001b[0;34m\u001b[0m\u001b[0;34m\u001b[0m\u001b[0m\n\u001b[0;32m--> 720\u001b[0;31m             _assert_all_finite(array,\n\u001b[0m\u001b[1;32m    721\u001b[0m                                allow_nan=force_all_finite == 'allow-nan')\n\u001b[1;32m    722\u001b[0m \u001b[0;34m\u001b[0m\u001b[0m\n",
      "\u001b[0;32m/usr/local/lib/python3.9/site-packages/sklearn/utils/validation.py\u001b[0m in \u001b[0;36m_assert_all_finite\u001b[0;34m(X, allow_nan, msg_dtype)\u001b[0m\n\u001b[1;32m    101\u001b[0m                 not allow_nan and not np.isfinite(X).all()):\n\u001b[1;32m    102\u001b[0m             \u001b[0mtype_err\u001b[0m \u001b[0;34m=\u001b[0m \u001b[0;34m'infinity'\u001b[0m \u001b[0;32mif\u001b[0m \u001b[0mallow_nan\u001b[0m \u001b[0;32melse\u001b[0m \u001b[0;34m'NaN, infinity'\u001b[0m\u001b[0;34m\u001b[0m\u001b[0;34m\u001b[0m\u001b[0m\n\u001b[0;32m--> 103\u001b[0;31m             raise ValueError(\n\u001b[0m\u001b[1;32m    104\u001b[0m                     \u001b[0mmsg_err\u001b[0m\u001b[0;34m.\u001b[0m\u001b[0mformat\u001b[0m\u001b[0;34m\u001b[0m\u001b[0;34m\u001b[0m\u001b[0m\n\u001b[1;32m    105\u001b[0m                     (type_err,\n",
      "\u001b[0;31mValueError\u001b[0m: Input contains NaN, infinity or a value too large for dtype('float64')."
     ]
    }
   ],
   "source": [
    "rate_dropped, rate_imputed = test_missing_effect(usable_loans)\n",
    "home_ratio, auto_ratio = test_home_auto(usable_loans)\n",
    "\n",
    "print(\"Dropped approval ratio: {0}, Imputed {1}\".format(rate_dropped, rate_imputed))\n",
    "print(\"Ratio of home loans: {0}, auto loans {1}\".format(home_ratio, auto_ratio))\n",
    "\n",
    "# we want approval ratio < imputed ratio and home ratio and auto ratio very low"
   ]
  },
  {
   "cell_type": "code",
   "execution_count": 27,
   "metadata": {
    "section": "intro"
   },
   "outputs": [],
   "source": [
    "loans.to_csv(\"loan_data.csv\", index=False)"
   ]
  },
  {
   "cell_type": "code",
   "execution_count": 28,
   "metadata": {
    "section": "intro"
   },
   "outputs": [
    {
     "data": {
      "text/html": [
       "<div>\n",
       "<style scoped>\n",
       "    .dataframe tbody tr th:only-of-type {\n",
       "        vertical-align: middle;\n",
       "    }\n",
       "\n",
       "    .dataframe tbody tr th {\n",
       "        vertical-align: top;\n",
       "    }\n",
       "\n",
       "    .dataframe thead th {\n",
       "        text-align: right;\n",
       "    }\n",
       "</style>\n",
       "<table border=\"1\" class=\"dataframe\">\n",
       "  <thead>\n",
       "    <tr style=\"text-align: right;\">\n",
       "      <th></th>\n",
       "      <th>race</th>\n",
       "      <th>gender</th>\n",
       "      <th>date</th>\n",
       "      <th>zip</th>\n",
       "      <th>income</th>\n",
       "      <th>type</th>\n",
       "      <th>interest</th>\n",
       "      <th>term</th>\n",
       "      <th>principal</th>\n",
       "      <th>approved</th>\n",
       "      <th>adj_bls_2</th>\n",
       "      <th>id</th>\n",
       "    </tr>\n",
       "  </thead>\n",
       "  <tbody>\n",
       "    <tr>\n",
       "      <th>0</th>\n",
       "      <td>hispanic/latino</td>\n",
       "      <td>female</td>\n",
       "      <td>2015-07-01</td>\n",
       "      <td>60623.0</td>\n",
       "      <td>19889.0</td>\n",
       "      <td>auto</td>\n",
       "      <td>4.590896</td>\n",
       "      <td>72.0</td>\n",
       "      <td>31587.0</td>\n",
       "      <td>False</td>\n",
       "      <td>0.13</td>\n",
       "      <td>AP20157-2-8</td>\n",
       "    </tr>\n",
       "    <tr>\n",
       "      <th>1</th>\n",
       "      <td>hispanic/latino</td>\n",
       "      <td>male</td>\n",
       "      <td>2018-07-01</td>\n",
       "      <td>60623.0</td>\n",
       "      <td>44129.0</td>\n",
       "      <td>auto</td>\n",
       "      <td>4.358829</td>\n",
       "      <td>72.0</td>\n",
       "      <td>26648.0</td>\n",
       "      <td>False</td>\n",
       "      <td>1.91</td>\n",
       "      <td>AP20187-1-48</td>\n",
       "    </tr>\n",
       "    <tr>\n",
       "      <th>2</th>\n",
       "      <td>black</td>\n",
       "      <td>female</td>\n",
       "      <td>2016-08-01</td>\n",
       "      <td>60626.0</td>\n",
       "      <td>3512.0</td>\n",
       "      <td>auto</td>\n",
       "      <td>6.026113</td>\n",
       "      <td>72.0</td>\n",
       "      <td>15083.0</td>\n",
       "      <td>False</td>\n",
       "      <td>0.40</td>\n",
       "      <td>AP20168-3-39</td>\n",
       "    </tr>\n",
       "    <tr>\n",
       "      <th>3</th>\n",
       "      <td>white</td>\n",
       "      <td>NaN</td>\n",
       "      <td>2014-12-01</td>\n",
       "      <td>60614.0</td>\n",
       "      <td>49206.0</td>\n",
       "      <td>personal</td>\n",
       "      <td>4.570813</td>\n",
       "      <td>12.0</td>\n",
       "      <td>3196.0</td>\n",
       "      <td>False</td>\n",
       "      <td>0.12</td>\n",
       "      <td>AP201412-1-56</td>\n",
       "    </tr>\n",
       "    <tr>\n",
       "      <th>4</th>\n",
       "      <td>white</td>\n",
       "      <td>male</td>\n",
       "      <td>2017-11-01</td>\n",
       "      <td>60614.0</td>\n",
       "      <td>64302.0</td>\n",
       "      <td>auto</td>\n",
       "      <td>6.980704</td>\n",
       "      <td>72.0</td>\n",
       "      <td>22084.0</td>\n",
       "      <td>True</td>\n",
       "      <td>1.16</td>\n",
       "      <td>AP201711-2-37</td>\n",
       "    </tr>\n",
       "  </tbody>\n",
       "</table>\n",
       "</div>"
      ],
      "text/plain": [
       "              race  gender        date      zip   income      type  interest  \\\n",
       "0  hispanic/latino  female  2015-07-01  60623.0  19889.0      auto  4.590896   \n",
       "1  hispanic/latino    male  2018-07-01  60623.0  44129.0      auto  4.358829   \n",
       "2            black  female  2016-08-01  60626.0   3512.0      auto  6.026113   \n",
       "3            white     NaN  2014-12-01  60614.0  49206.0  personal  4.570813   \n",
       "4            white    male  2017-11-01  60614.0  64302.0      auto  6.980704   \n",
       "\n",
       "   term  principal  approved  adj_bls_2             id  \n",
       "0  72.0    31587.0     False       0.13    AP20157-2-8  \n",
       "1  72.0    26648.0     False       1.91   AP20187-1-48  \n",
       "2  72.0    15083.0     False       0.40   AP20168-3-39  \n",
       "3  12.0     3196.0     False       0.12  AP201412-1-56  \n",
       "4  72.0    22084.0      True       1.16  AP201711-2-37  "
      ]
     },
     "execution_count": 28,
     "metadata": {},
     "output_type": "execute_result"
    }
   ],
   "source": [
    "read_data = pd.read_csv(\"loan_data.csv\")\n",
    "read_data.head()"
   ]
  },
  {
   "cell_type": "code",
   "execution_count": 30,
   "metadata": {
    "section": "intro"
   },
   "outputs": [],
   "source": [
    "year_payment = (1 + (loans[\"interest\"]/100.))*((12*loans[\"principal\"])/loans[\"term\"])\n",
    "profit = (loans[\"interest\"]/100.)*loans[\"principal\"]*(loans[\"term\"]/12.)\n",
    "burden = year_payment/loans[\"income\"]"
   ]
  },
  {
   "cell_type": "code",
   "execution_count": 31,
   "metadata": {
    "section": "intro"
   },
   "outputs": [
    {
     "name": "stdout",
     "output_type": "stream",
     "text": [
      "9753.19739071899\n",
      "5721.268091443036\n"
     ]
    }
   ],
   "source": [
    "profit_black = profit[loans[\"race\"] == \"black\"]\n",
    "profit_other = profit[loans[\"race\"] != \"black\"]\n",
    "\n",
    "print(profit_black[loans[\"type\"] == \"auto\"].quantile(0.75))\n",
    "print(profit_other[loans[\"type\"] == \"auto\"].quantile(0.5))"
   ]
  },
  {
   "cell_type": "code",
   "execution_count": 32,
   "metadata": {
    "section": "intro"
   },
   "outputs": [
    {
     "name": "stdout",
     "output_type": "stream",
     "text": [
      "0.10013866559897315\n",
      "0.08011066961945623\n"
     ]
    }
   ],
   "source": [
    "burden_black = burden[loans[\"race\"] == \"black\"]\n",
    "burden_other = burden[loans[\"race\"] != \"black\"]\n",
    "\n",
    "print(burden_black[loans[\"type\"] == \"auto\"].quantile(0.5))\n",
    "print(burden_other[loans[\"type\"] == \"auto\"].quantile(0.5))"
   ]
  },
  {
   "cell_type": "code",
   "execution_count": 33,
   "metadata": {
    "section": "intro"
   },
   "outputs": [],
   "source": [
    "# add interest rate noise\n",
    "\n",
    "from random import choices\n",
    "\n",
    "noise_func = lambda x: choices([x, 0.0, None], weights=[0.6, 0.3, 0.1])[0]\n",
    "\n",
    "loans.loc[~loans[\"approved\"], \"interest\"] = loans.loc[~loans[\"approved\"], \"interest\"].apply(noise_func)\n",
    "\n",
    "loans.to_csv(\"test_data.csv\")"
   ]
  },
  {
   "cell_type": "code",
   "execution_count": 34,
   "metadata": {
    "section": "intro"
   },
   "outputs": [],
   "source": [
    "year_payment = (1 + (loans[\"interest\"]/100.))*((12*loans[\"principal\"])/loans[\"term\"])\n",
    "profit = (loans[\"interest\"]/100.)*loans[\"principal\"]*(loans[\"term\"]/12.)\n",
    "burden = year_payment/loans[\"income\"]"
   ]
  },
  {
   "cell_type": "code",
   "execution_count": 51,
   "metadata": {
    "section": "intro"
   },
   "outputs": [
    {
     "data": {
      "image/png": "[encoded data removed]",
      "text/plain": [
       "<Figure size 432x288 with 1 Axes>"
      ]
     },
     "metadata": {
      "needs_background": "light"
     },
     "output_type": "display_data"
    }
   ],
   "source": [
    "import matplotlib.pyplot as plt\n",
    "burden[loans[\"type\"] == \"home\"].hist(bins=50)\n",
    "plt.show()"
   ]
  },
  {
   "cell_type": "code",
   "execution_count": null,
   "metadata": {
    "section": "intro"
   },
   "outputs": [],
   "source": []
  }
 ],
 "metadata": {
  "kernelspec": {
   "display_name": "Python 3",
   "language": "python",
   "name": "python3"
  },
  "language_info": {
   "codemirror_mode": {
    "name": "ipython",
    "version": 3
   },
   "file_extension": ".py",
   "mimetype": "text/x-python",
   "name": "python",
   "nbconvert_exporter": "python",
   "pygments_lexer": "ipython3",
   "version": "3.9.1"
  }
 },
 "nbformat": 4,
 "nbformat_minor": 4
}
