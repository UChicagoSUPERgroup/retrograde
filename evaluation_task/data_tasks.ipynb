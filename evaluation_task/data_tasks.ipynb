{
 "cells": [
  {
   "cell_type": "markdown",
   "metadata": {},
   "source": [
    "# Introduction\n",
    "\n",
    "Thank you for agreeing to take part in this evaluation. During this evaluation you will be asked to carry out a series of tasks related to the dataset shown in the next section. Please carry out these tasks with the same care and rigor as if these tasks were part of your job duties.\n",
    "\n",
    "Before beginning please ensure that you are using the prompter kernel by looking at the top right of this notebook. It should say \"prompter\", rather than \"Python 3\". If says you are using a python kernel, please click on where it says Python, and select the prompter from the drop down study. If you encounter any errors, or if it says No Kernel! please contact PLACEHOLDER@uchicago.edu\n",
    "\n",
    "We ask that you use pandas and scikit-learn to perform the tasks. We have also installed numpy and matplotlib, should those be helpful. You will not be able to install any other non-standard libraries. \n",
    "\n",
    "Please spend no more than 30 minutes on this."
   ]
  },
  {
   "cell_type": "markdown",
   "metadata": {},
   "source": [
    "## Dataset"
   ]
  },
  {
   "cell_type": "markdown",
   "metadata": {},
   "source": [
    "We will be asking you to use loan_data dataset during this experiment. This data was collected in a major metropolitan city in the United States. It contains information about applications received for loan applications aggregated from several different loan providers. Further explanation of the data's collection and provenance is not possible.\n",
    "\n",
    "Of particular note is the \"approved\" column, which indicates whether an applicant was approved for the loan or not. \n",
    "\n",
    "Please take a moment to familiarize yourself with the contents of this dataset. "
   ]
  },
  {
   "cell_type": "code",
   "execution_count": null,
   "metadata": {},
   "outputs": [],
   "source": [
    "import pandas as pd\n",
    "\n",
    "df = pd.read_csv(\"\")"
   ]
  },
  {
   "cell_type": "markdown",
   "metadata": {},
   "source": [
    "# Some considerations\n",
    "\n",
    "Before beginning the analysis task, it is necessary need to clean up the data. \n",
    "\n",
    "1. The data in this dataset runs from 2011 to 2019, however in 2015, several of the loan providers changed the way they approve loan decisions. Specifically, providers of home and home equity loans introduced a new approval process with additional requirements for borrowers and a series of reviews. Therefore any home or home-equity loans made prior to 2015 are not representative of current policy and should therefore be excluded.\n",
    "\n",
    "2. Due to inconsistencies in the way certain loan providers stored data, some entries in the ``interest_rate`` column are 0 when no interest rate was recorded, whereas some entries in ``interest_rate`` are null. In both cases, this means that loan was not approved, and the loan officer did not record the interest rate at which the loan would have been granted. Some rejected loans have a filled in ``interest_rate`` indicating the prospective loan interest rate."
   ]
  },
  {
   "cell_type": "code",
   "execution_count": null,
   "metadata": {},
   "outputs": [],
   "source": []
  },
  {
   "cell_type": "markdown",
   "metadata": {},
   "source": [
    "# The task\n",
    "\n",
    "We would like you to build a model that predicts whether an applicant is likely to be approved or not. The model will be integrated into an online platform that matches borrowers with lending institutions. "
   ]
  },
  {
   "cell_type": "code",
   "execution_count": null,
   "metadata": {},
   "outputs": [],
   "source": []
  },
  {
   "cell_type": "markdown",
   "metadata": {},
   "source": [
    "# End\n",
    "\n",
    "When you feel you have completed this exercise, please execute this cell to submit your model. You may (but are not required to) submit multiple times. "
   ]
  },
  {
   "cell_type": "code",
   "execution_count": null,
   "metadata": {},
   "outputs": [],
   "source": [
    "# %prompter_plugin submit%"
   ]
  },
  {
   "cell_type": "markdown",
   "metadata": {},
   "source": [
    "**Data columns, Not for circulation**\n",
    "\n",
    "- ``type``: home, home equity, personal, auto, payday\n",
    "- ``federal_interest`` : federal interest rate at that point in time\n",
    "- ``term`` : the loan's term (how long it runs for)\n",
    "- ``interest_rate`` : the loan's interest rate\n",
    "- ``approved`` : yes/no whether the loan was approved or not\n",
    "- ``gender`` : the gender of the person applying\n",
    "- ``race`` : the race of the person applying\n",
    "- ``zip`` : the zip code of the person applying (will use Chicago zip codes)\n",
    "- ``annual_income`` : the annual income \n",
    "- ``FY`` : fiscal year\n",
    "- ``Quarter`` : the financial quarter\n",
    "- ``principal`` : the loan principal\n",
    "- ``test_join_516`` : a nonsense mystery column\n",
    "- ``trial_123`` : a mystery column that is actually predictive"
   ]
  },
  {
   "cell_type": "markdown",
   "metadata": {},
   "source": [
    "**Notifications**\n",
    "\n",
    "1. Using a sensitive column (data uses race)\n",
    "2. High variance in race based on zip code\n",
    "3. Model FPR + FNR by gender, race, annual income\n",
    "4. Outliers in principal "
   ]
  },
  {
   "cell_type": "markdown",
   "metadata": {},
   "source": [
    "# Data generation"
   ]
  },
  {
   "cell_type": "code",
   "execution_count": 53,
   "metadata": {},
   "outputs": [],
   "source": [
    "class Variable:\n",
    "    def __init__(self, name, gen_func, inputs):\n",
    "        \n",
    "        self.name = name\n",
    "        self.func = gen_func\n",
    "        self.inputs = set(inputs)\n",
    "        \n",
    "    def can_gen(self, data):\n",
    "        # return if the variable can be generated with the data so far\n",
    "        avail_inputs = set(data.keys())\n",
    "        \n",
    "        return self.inputs <= avail_inputs"
   ]
  },
  {
   "cell_type": "code",
   "execution_count": 237,
   "metadata": {},
   "outputs": [],
   "source": [
    "class Model:\n",
    "    \n",
    "    def __init__(self, exogenous):\n",
    "        self.exogenous = exogenous # external factors\n",
    "        self.children = {var.name : [] for var in self.exogenous}\n",
    "    \n",
    "    def generate(self):\n",
    "        \n",
    "        data = {}\n",
    "        q = set()\n",
    "        \n",
    "        for end_var in self.exogenous:\n",
    "            data[end_var.name] = end_var.func()\n",
    "            q.update(self.children[end_var.name])\n",
    "            \n",
    "        while q:\n",
    "            var = q.pop()\n",
    "            if var.can_gen(data):\n",
    "                data[var.name] = var.func(data)\n",
    "                \n",
    "                if var.name in self.children:\n",
    "                    q.update(self.children[var.name])\n",
    "            else:\n",
    "                q.add(var)\n",
    "        return data \n",
    "    \n",
    "    def add_var(self, var):\n",
    "        for input_var in var.inputs:\n",
    "            self.children[input_var].append(var)\n",
    "        self.children[var.name] = []\n",
    "        \n",
    "    def make_df(self, n):\n",
    "        df_dict = {}\n",
    "        for _ in range(n):\n",
    "            d = self.generate()\n",
    "            for k in d.keys():\n",
    "                if k not in df_dict:\n",
    "                    df_dict[k] = []\n",
    "                df_dict[k].append(d[k])\n",
    "        return pd.DataFrame(df_dict)"
   ]
  },
  {
   "cell_type": "code",
   "execution_count": 69,
   "metadata": {},
   "outputs": [
    {
     "data": {
      "text/html": [
       "<div>\n",
       "<style scoped>\n",
       "    .dataframe tbody tr th:only-of-type {\n",
       "        vertical-align: middle;\n",
       "    }\n",
       "\n",
       "    .dataframe tbody tr th {\n",
       "        vertical-align: top;\n",
       "    }\n",
       "\n",
       "    .dataframe thead th {\n",
       "        text-align: right;\n",
       "    }\n",
       "</style>\n",
       "<table border=\"1\" class=\"dataframe\">\n",
       "  <thead>\n",
       "    <tr style=\"text-align: right;\">\n",
       "      <th></th>\n",
       "      <th>DATE</th>\n",
       "      <th>FEDFUNDS</th>\n",
       "    </tr>\n",
       "  </thead>\n",
       "  <tbody>\n",
       "    <tr>\n",
       "      <th>0</th>\n",
       "      <td>1954-07-01</td>\n",
       "      <td>0.80</td>\n",
       "    </tr>\n",
       "    <tr>\n",
       "      <th>1</th>\n",
       "      <td>1954-08-01</td>\n",
       "      <td>1.22</td>\n",
       "    </tr>\n",
       "    <tr>\n",
       "      <th>2</th>\n",
       "      <td>1954-09-01</td>\n",
       "      <td>1.06</td>\n",
       "    </tr>\n",
       "    <tr>\n",
       "      <th>3</th>\n",
       "      <td>1954-10-01</td>\n",
       "      <td>0.85</td>\n",
       "    </tr>\n",
       "    <tr>\n",
       "      <th>4</th>\n",
       "      <td>1954-11-01</td>\n",
       "      <td>0.83</td>\n",
       "    </tr>\n",
       "  </tbody>\n",
       "</table>\n",
       "</div>"
      ],
      "text/plain": [
       "        DATE  FEDFUNDS\n",
       "0 1954-07-01      0.80\n",
       "1 1954-08-01      1.22\n",
       "2 1954-09-01      1.06\n",
       "3 1954-10-01      0.85\n",
       "4 1954-11-01      0.83"
      ]
     },
     "execution_count": 69,
     "metadata": {},
     "output_type": "execute_result"
    }
   ],
   "source": [
    "import pandas as pd\n",
    "import numpy as np\n",
    "\n",
    "funds = pd.read_csv(\"FEDFUNDS.csv\")\n",
    "funds[\"DATE\"] = pd.to_datetime(funds[\"DATE\"])\n",
    "funds.head()"
   ]
  },
  {
   "cell_type": "code",
   "execution_count": 145,
   "metadata": {},
   "outputs": [
    {
     "data": {
      "text/plain": [
       "FEDFUNDS    0.17\n",
       "Name: 0.4, dtype: float64"
      ]
     },
     "execution_count": 145,
     "metadata": {},
     "output_type": "execute_result"
    }
   ],
   "source": [
    "funds[funds[\"DATE\"] > datetime(2005, 1, 1)].quantile(0.40)"
   ]
  },
  {
   "cell_type": "code",
   "execution_count": 15,
   "metadata": {},
   "outputs": [
    {
     "data": {
      "text/plain": [
       "0.0"
      ]
     },
     "execution_count": 15,
     "metadata": {},
     "output_type": "execute_result"
    }
   ],
   "source": [
    "1 - (.486+.51+.004)"
   ]
  },
  {
   "cell_type": "code",
   "execution_count": 70,
   "metadata": {},
   "outputs": [],
   "source": [
    "def race_func():\n",
    "    return np.random.choice([\"white\", \"black\", \"hispanic/latino\", \"asian\", \"other\"], \n",
    "                            p = [.31, .32, .19, .05, .13])\n",
    "race_var = Variable(\"race\", race_func, [])"
   ]
  },
  {
   "cell_type": "code",
   "execution_count": 71,
   "metadata": {},
   "outputs": [],
   "source": [
    "def gender_func():\n",
    "    return np.random.choice([\"male\", \"female\", \"non-binary\"], \n",
    "                                          p = [.486, .51, .004])\n",
    "gender_var = Variable(\"gender\", gender_func, [])"
   ]
  },
  {
   "cell_type": "code",
   "execution_count": 72,
   "metadata": {},
   "outputs": [],
   "source": [
    "from datetime import datetime\n",
    "\n",
    "probs = [\n",
    "    1/12.2,\n",
    "    1.2/12.2,\n",
    "    1.5/12.2,\n",
    "    0.8/12.2,\n",
    "    1.5/12.2,\n",
    "    2/12.2,\n",
    "    2.1/12.2,\n",
    "    2.1/12.2\n",
    "]\n",
    "\n",
    "ranges = [\n",
    "    (datetime(2011, 1, 1), datetime(2012, 1, 1)),\n",
    "    (datetime(2012, 1, 1), datetime(2013, 1, 1)),\n",
    "    (datetime(2013, 1, 1), datetime(2014, 1, 1)),\n",
    "    (datetime(2014, 1, 1), datetime(2015, 1, 1)),\n",
    "    (datetime(2015, 1, 1), datetime(2016, 1, 1)),\n",
    "    (datetime(2016, 1, 1), datetime(2017, 1, 1)),\n",
    "    (datetime(2017, 1, 1), datetime(2018, 1, 1)),\n",
    "    (datetime(2018, 1, 1), datetime(2019, 1, 1)) \n",
    "]\n",
    "\n",
    "def date_func():\n",
    "    \n",
    "    index = np.random.choice(list(range(len(ranges))), p = probs) # tries to encode relative rates of mortgage applications\n",
    "    date_range = ranges[index]\n",
    "    dates_vector = (funds[\"DATE\"] >= date_range[0]) & (funds[\"DATE\"] < date_range[1])\n",
    "    \n",
    "    return np.random.choice(funds[\"DATE\"][dates_vector])\n",
    "    \n",
    "date_var = Variable(\"date\", date_func, [])"
   ]
  },
  {
   "cell_type": "code",
   "execution_count": 73,
   "metadata": {},
   "outputs": [],
   "source": [
    "def fed_func(data):\n",
    "    \n",
    "    entry = funds[\"FEDFUNDS\"][funds[\"DATE\"] == data[\"date\"]]\n",
    "    return entry.iloc[0]\n",
    "\n",
    "fed_var = Variable(\"fed\", fed_func, [\"date\"])"
   ]
  },
  {
   "cell_type": "code",
   "execution_count": 111,
   "metadata": {},
   "outputs": [],
   "source": [
    "def zip_func(data):\n",
    "    \n",
    "    zips = [60626, 60625, 60615, 60637, 60623, 60611, 60614]\n",
    "    \n",
    "    pr_z = { # lookup table for P[R | Z], drawn from statistical atlas\n",
    "        60626 : {\"black\" : .26, \"white\" : .42, \"asian\" : .07, \"hispanic/latino\" : .22, \"other\" :.03}, # semi-mixed\n",
    "        60625 : {\"black\" : .05, \"white\" : .42, \"asian\" : .14, \"hispanic/latino\" : .37, \"other\" : 1 - (.05 + .42 + .37 + .14)}, # maj. white\n",
    "        60615 : {\"black\" : .61, \"white\" : .25, \"asian\" : .07, \"hispanic/latino\" : .05, \"other\" : 1 - (.61 + .25 + .07 + .05)}, # maj. black\n",
    "        60637 : {\"black\" : .77, \"white\" : .16, \"asian\" : .04, \"hispanic/latino\" : .01, \"other\" : 1 - (.77 + .16 +.04 +.01)}, # maj. black\n",
    "        60623 : {\"black\" : .34, \"white\" : .02, \"asian\" : .0, \"hispanic/latino\" : .63, \"other\" : 1 - (.34 + .02 + .00 + .63)}, # maj. latino\n",
    "        60611 : {\"black\" : .04, \"white\" : .75, \"asian\" : .15, \"hispanic/latino\" : .04, \"other\" : 1 - (.04 + .75 + .15 + .04)}, # maj. white\n",
    "        60614 : {\"black\" : .04, \"white\" : .82, \"asian\" : .05, \"hispanic/latino\" : .07, \"other\" : 1 - (.04 + .82 + .05 + .07)}, # maj. white\n",
    "    }\n",
    "    \n",
    "    p_z = { # probability of someone being in any of the zip codes\n",
    "        60626 : 51061.,\n",
    "        60625 : 78966.,\n",
    "        60615 : 40745.,\n",
    "        60637 : 48270.,\n",
    "        60623 : 85158.,\n",
    "        60611 : 29722.,\n",
    "        60614 : 68363.\n",
    "    }\n",
    "    \n",
    "    p_z = {k : v/sum(p_z.values()) for k,v in p_z.items()}    \n",
    "    p_r = {zip_code : 0 for zip_code in pr_z[60626].keys()}\n",
    "    \n",
    "    for zip_code in p_z.keys():\n",
    "        for r in p_r.keys():\n",
    "            p_r[r] += pr_z[zip_code][r]*p_z[zip_code]\n",
    "            \n",
    "    pr_table = {} # lookup race, outputs probability vector\n",
    "    \n",
    "    for r in p_r.keys():\n",
    "        vec = []\n",
    "        for zip_code in zips:\n",
    "            vec.append(pr_z[zip_code][r]*p_z[zip_code]/p_r[r])\n",
    "        pr_table[r] = vec    \n",
    "    \n",
    "    # nb checked that sum of distributions given each condition sums to 1\n",
    "    \n",
    "    return np.random.choice(zips, p=pr_table[data[\"race\"]])\n",
    "\n",
    "zip_var = Variable(\"zip\", zip_func, [\"race\"])"
   ]
  },
  {
   "cell_type": "code",
   "execution_count": 123,
   "metadata": {},
   "outputs": [],
   "source": [
    "def income_func(data):\n",
    "    incomes = { # ordering is 20th percentile, median, 80th pctle\n",
    "        60626 : (13700, 38700, 84100),\n",
    "        60625 : (21400, 56600, 109200),\n",
    "        60615 : (12000, 39100, 86900),\n",
    "        60637 : (9200, 25800, 68900),\n",
    "        60623 : (12800, 28900, 56600),\n",
    "        60611 : (33900, 85600, 201800),\n",
    "        60614 : (30800, 86200, 186700)\n",
    "    } # assume normal distribution\n",
    "    z_8 = 0.842\n",
    "    z_2 = -0.842\n",
    "    \n",
    "    incomes_std = {k : (v[2] - v[0])/(z_8 - z_2) for k,v in incomes.items()}\n",
    "    incomes_mean = {k : v[2] - z_8*incomes_std[k] for k,v in incomes.items()}\n",
    "    \n",
    "    # assume that women on average make 0.8 times that of men\n",
    "    sample = np.random.normal(loc = incomes_mean[data[\"zip\"]], scale=incomes_std[data[\"zip\"]])\n",
    "    if data[\"gender\"] != \"male\":\n",
    "        return int(abs(sample*0.8))\n",
    "    return int(abs(sample))\n",
    "\n",
    "income_var = Variable(\"income\", income_func, [\"zip\", \"gender\"])"
   ]
  },
  {
   "cell_type": "code",
   "execution_count": 138,
   "metadata": {},
   "outputs": [],
   "source": [
    "zips = [60626,60625, 60615, 60637, 60623, 60611, 60614]\n",
    "\n",
    "income_sample = []\n",
    "\n",
    "for code in zips:\n",
    "    for _ in range(100):\n",
    "        income_sample.append(income_func({\"zip\" : code, \"gender\" : \"male\"}))"
   ]
  },
  {
   "cell_type": "code",
   "execution_count": 139,
   "metadata": {},
   "outputs": [],
   "source": [
    "incomes = np.array(income_sample)"
   ]
  },
  {
   "cell_type": "code",
   "execution_count": 144,
   "metadata": {},
   "outputs": [
    {
     "data": {
      "text/plain": [
       "56267.5"
      ]
     },
     "execution_count": 144,
     "metadata": {},
     "output_type": "execute_result"
    }
   ],
   "source": [
    "np.quantile(incomes, 0.5)"
   ]
  },
  {
   "cell_type": "code",
   "execution_count": 151,
   "metadata": {},
   "outputs": [],
   "source": [
    "def type_func(data):\n",
    "    types = [\"home\", \"personal\", \"auto\"]\n",
    "    \n",
    "    LOW_FED = 0.17    \n",
    "    \n",
    "    if data[\"fed\"] < LOW_FED:\n",
    "        fed = 0\n",
    "    else:\n",
    "        fed = 1\n",
    "        \n",
    "    if data[\"income\"] < 21700:\n",
    "        income = 0\n",
    "    elif data[\"income\"] < 56000:\n",
    "        income = 1\n",
    "    else:\n",
    "        income = 2\n",
    "    # here is guess work, say more likely to do home or home equity when fed rate is low, \n",
    "    # define the joint distribution\n",
    "    \n",
    "    p_table = {}\n",
    "\n",
    "    # P[TYPE | low fed, income=0]\n",
    "    p_table[(0,0)] = [0.1, 0.4, 0.5]\n",
    "    # P[TYPE | high fed, income = 0]\n",
    "    p_table[(1, 0)] = [0.1, 0.6, 0.3] # under logic that high rates -> good economy\n",
    "\n",
    "    # p[TYPE | low fed, income = 1]\n",
    "    p_table[(0,1)] = [0.4, 0.3, 0.3]\n",
    "    # p[TYPE | high fed, income=1]\n",
    "    p_table[(1,1)] = [0.2, 0.3, 0.5]\n",
    "    \n",
    "     # p[TYPE | low fed, income = 2]\n",
    "    p_table[(0,2)] = [0.7, 0.1, 0.2]\n",
    "    # p[TYPE | high fed, income=2]\n",
    "    p_table[(1,2)] = [0.5, 0.1, 0.4]\n",
    "    \n",
    "    return np.random.choice(types, p=p_table[(fed,income)])\n",
    "type_var = Variable(\"type\", type_func, [\"fed\", \"income\"])"
   ]
  },
  {
   "cell_type": "code",
   "execution_count": 167,
   "metadata": {},
   "outputs": [],
   "source": [
    "def interest_func(data):\n",
    "    \n",
    "    loan_type = data[\"type\"]\n",
    "    \n",
    "    if loan_type == \"home\":\n",
    "        return data[\"fed\"] + abs(np.random.normal(loc=3, scale=2))\n",
    "    if loan_type == \"personal\":\n",
    "        return data[\"fed\"] + abs(np.random.normal(loc=10, scale=5))\n",
    "    if loan_type == \"auto\":\n",
    "        return data[\"fed\"] + abs(np.random.normal(loc=5, scale=1))\n",
    "\n",
    "interest_var = Variable(\"interest\", interest_func, [\"fed\", \"type\"])"
   ]
  },
  {
   "cell_type": "code",
   "execution_count": 176,
   "metadata": {},
   "outputs": [],
   "source": [
    "def term_func(data):\n",
    "    \n",
    "    loan_type = data[\"type\"]\n",
    "    \n",
    "    if loan_type == \"home\":\n",
    "        return np.random.choice([30*12, 15*12, 25*12, 20*12], p=[0.4, 0.2, 0.2, 0.2])\n",
    "    if loan_type == \"auto\":\n",
    "        return np.random.choice([72, 84, 60], p = [0.5, 0.3, 0.2])\n",
    "    else:\n",
    "        return np.random.choice([12, 18, 24, 48, 60], p = [0.2, 0.2, 0.2, 0.2, 0.2])\n",
    "    \n",
    "term_var = Variable(\"term\", term_func, [\"type\"])"
   ]
  },
  {
   "cell_type": "code",
   "execution_count": 262,
   "metadata": {},
   "outputs": [],
   "source": [
    "def principle_func(data):\n",
    "    loan_type = data[\"type\"]\n",
    "    # pct of annual income\n",
    "    if loan_type == \"home\":\n",
    "        principle = abs(np.random.normal(loc=7*data[\"income\"], scale=data[\"income\"]))\n",
    "    if loan_type == \"personal\":\n",
    "        principle = abs(np.random.normal(loc=data[\"income\"], scale=data[\"income\"]*.5))\n",
    "    if loan_type == \"auto\":\n",
    "        principle = abs(np.random.normal(loc=15000, scale=data[\"income\"]*.5))\n",
    "        \n",
    "    return int(principle)\n",
    "\n",
    "principle_var = Variable(\"principle\", principle_func, [\"type\", \"income\", \"term\", \"interest\"])"
   ]
  },
  {
   "cell_type": "code",
   "execution_count": 263,
   "metadata": {},
   "outputs": [],
   "source": [
    "def approved_func(data):\n",
    "    if data[\"type\"] == \"home\":\n",
    "        return home_approval_func(data)\n",
    "    elif data[\"type\"] == \"auto\":\n",
    "        return auto_approval_func(data)\n",
    "    else:\n",
    "        return personal_approval_func(data)\n",
    "    \n",
    "def home_approval_func(data):\n",
    "    \n",
    "    year_payment = (1 + (data[\"interest\"]/100.))*((12*data[\"principle\"])/data[\"term\"])\n",
    "    \n",
    "    profit = (data[\"interest\"]/100.)*data[\"principle\"]*(data[\"term\"]/12.)\n",
    "    burden = year_payment/data[\"income\"]\n",
    "    \n",
    "    if data[\"zip\"] in [60625, 60611, 60614]:\n",
    "        profit_cutoff = 1000\n",
    "    else: profit_cutoff = 2000\n",
    "    return (profit > profit_cutoff) & (burden < 0.4)\n",
    "\n",
    "def auto_approval_func(data):\n",
    "    \n",
    "    year_payment = (1 + (data[\"interest\"]/100.))*((12*data[\"principle\"])/data[\"term\"])\n",
    "    \n",
    "    profit = (data[\"interest\"]/100.)*data[\"principle\"]*(data[\"term\"]/12.)\n",
    "    burden = year_payment/data[\"income\"]\n",
    "    \n",
    "    if data[\"zip\"] in [60625, 60611, 60614]: profit_cutoff = 1000\n",
    "    else: profit_cutoff = 2000\n",
    "        \n",
    "    return (profit > profit_cutoff) & (burden < 0.2)\n",
    "\n",
    "def personal_approval_func(data):\n",
    "    \n",
    "    year_payment = (1 + (data[\"interest\"]/100.))*((12*data[\"principle\"])/data[\"term\"])\n",
    "    \n",
    "    profit = (data[\"interest\"]/100.)*data[\"principle\"]*(data[\"term\"]/12.)\n",
    "    burden = year_payment/data[\"income\"]\n",
    "    \n",
    "    return (profit > 2000) & (burden > 0.2)\n",
    "\n",
    "approved_var = Variable(\"approved\", approved_func, [\"principle\", \"income\", \"interest\", \"term\", \"zip\"])"
   ]
  },
  {
   "cell_type": "code",
   "execution_count": 264,
   "metadata": {},
   "outputs": [
    {
     "data": {
      "text/plain": [
       "{'race': 'black',\n",
       " 'gender': 'female',\n",
       " 'date': numpy.datetime64('2018-12-01T00:00:00.000000000'),\n",
       " 'fed': 2.27,\n",
       " 'zip': 60637,\n",
       " 'income': 5523,\n",
       " 'type': 'personal',\n",
       " 'term': 24,\n",
       " 'interest': 12.957134104794962,\n",
       " 'principle': 3672,\n",
       " 'approved': False}"
      ]
     },
     "execution_count": 264,
     "metadata": {},
     "output_type": "execute_result"
    }
   ],
   "source": [
    "exog = [race_var, gender_var, date_var]\n",
    "generator = Model(exog)\n",
    "generator.add_var(fed_var)\n",
    "generator.add_var(zip_var)\n",
    "generator.add_var(income_var)\n",
    "generator.add_var(type_var)\n",
    "generator.add_var(interest_var)\n",
    "generator.add_var(term_var)\n",
    "generator.add_var(principle_var)\n",
    "generator.add_var(approved_var)\n",
    "generator.generate()"
   ]
  },
  {
   "cell_type": "code",
   "execution_count": 268,
   "metadata": {},
   "outputs": [
    {
     "data": {
      "text/html": [
       "<div>\n",
       "<style scoped>\n",
       "    .dataframe tbody tr th:only-of-type {\n",
       "        vertical-align: middle;\n",
       "    }\n",
       "\n",
       "    .dataframe tbody tr th {\n",
       "        vertical-align: top;\n",
       "    }\n",
       "\n",
       "    .dataframe thead th {\n",
       "        text-align: right;\n",
       "    }\n",
       "</style>\n",
       "<table border=\"1\" class=\"dataframe\">\n",
       "  <thead>\n",
       "    <tr style=\"text-align: right;\">\n",
       "      <th></th>\n",
       "      <th>race</th>\n",
       "      <th>gender</th>\n",
       "      <th>date</th>\n",
       "      <th>fed</th>\n",
       "      <th>zip</th>\n",
       "      <th>income</th>\n",
       "      <th>type</th>\n",
       "      <th>term</th>\n",
       "      <th>interest</th>\n",
       "      <th>principle</th>\n",
       "      <th>approved</th>\n",
       "    </tr>\n",
       "  </thead>\n",
       "  <tbody>\n",
       "    <tr>\n",
       "      <th>0</th>\n",
       "      <td>white</td>\n",
       "      <td>male</td>\n",
       "      <td>2013-01-01</td>\n",
       "      <td>0.14</td>\n",
       "      <td>60614</td>\n",
       "      <td>11677</td>\n",
       "      <td>personal</td>\n",
       "      <td>48</td>\n",
       "      <td>7.649027</td>\n",
       "      <td>16458</td>\n",
       "      <td>True</td>\n",
       "    </tr>\n",
       "    <tr>\n",
       "      <th>1</th>\n",
       "      <td>other</td>\n",
       "      <td>female</td>\n",
       "      <td>2016-09-01</td>\n",
       "      <td>0.40</td>\n",
       "      <td>60626</td>\n",
       "      <td>41125</td>\n",
       "      <td>home</td>\n",
       "      <td>240</td>\n",
       "      <td>4.191685</td>\n",
       "      <td>350572</td>\n",
       "      <td>False</td>\n",
       "    </tr>\n",
       "    <tr>\n",
       "      <th>2</th>\n",
       "      <td>white</td>\n",
       "      <td>male</td>\n",
       "      <td>2013-04-01</td>\n",
       "      <td>0.15</td>\n",
       "      <td>60614</td>\n",
       "      <td>103464</td>\n",
       "      <td>home</td>\n",
       "      <td>180</td>\n",
       "      <td>4.194779</td>\n",
       "      <td>778032</td>\n",
       "      <td>False</td>\n",
       "    </tr>\n",
       "    <tr>\n",
       "      <th>3</th>\n",
       "      <td>white</td>\n",
       "      <td>female</td>\n",
       "      <td>2017-03-01</td>\n",
       "      <td>0.79</td>\n",
       "      <td>60625</td>\n",
       "      <td>69535</td>\n",
       "      <td>home</td>\n",
       "      <td>180</td>\n",
       "      <td>2.788586</td>\n",
       "      <td>460852</td>\n",
       "      <td>False</td>\n",
       "    </tr>\n",
       "    <tr>\n",
       "      <th>4</th>\n",
       "      <td>black</td>\n",
       "      <td>male</td>\n",
       "      <td>2018-08-01</td>\n",
       "      <td>1.91</td>\n",
       "      <td>60623</td>\n",
       "      <td>15859</td>\n",
       "      <td>personal</td>\n",
       "      <td>12</td>\n",
       "      <td>12.954938</td>\n",
       "      <td>13677</td>\n",
       "      <td>False</td>\n",
       "    </tr>\n",
       "  </tbody>\n",
       "</table>\n",
       "</div>"
      ],
      "text/plain": [
       "    race  gender       date   fed    zip  income      type  term   interest  \\\n",
       "0  white    male 2013-01-01  0.14  60614   11677  personal    48   7.649027   \n",
       "1  other  female 2016-09-01  0.40  60626   41125      home   240   4.191685   \n",
       "2  white    male 2013-04-01  0.15  60614  103464      home   180   4.194779   \n",
       "3  white  female 2017-03-01  0.79  60625   69535      home   180   2.788586   \n",
       "4  black    male 2018-08-01  1.91  60623   15859  personal    12  12.954938   \n",
       "\n",
       "   principle  approved  \n",
       "0      16458      True  \n",
       "1     350572     False  \n",
       "2     778032     False  \n",
       "3     460852     False  \n",
       "4      13677     False  "
      ]
     },
     "execution_count": 268,
     "metadata": {},
     "output_type": "execute_result"
    }
   ],
   "source": [
    "# make df\n",
    "loans = generator.make_df(200)\n",
    "loans.head()"
   ]
  },
  {
   "cell_type": "code",
   "execution_count": 269,
   "metadata": {},
   "outputs": [
    {
     "data": {
      "text/html": [
       "<div>\n",
       "<style scoped>\n",
       "    .dataframe tbody tr th:only-of-type {\n",
       "        vertical-align: middle;\n",
       "    }\n",
       "\n",
       "    .dataframe tbody tr th {\n",
       "        vertical-align: top;\n",
       "    }\n",
       "\n",
       "    .dataframe thead th {\n",
       "        text-align: right;\n",
       "    }\n",
       "</style>\n",
       "<table border=\"1\" class=\"dataframe\">\n",
       "  <thead>\n",
       "    <tr style=\"text-align: right;\">\n",
       "      <th></th>\n",
       "      <th></th>\n",
       "      <th>approved</th>\n",
       "      <th>income</th>\n",
       "      <th>principle</th>\n",
       "    </tr>\n",
       "    <tr>\n",
       "      <th>race</th>\n",
       "      <th>type</th>\n",
       "      <th></th>\n",
       "      <th></th>\n",
       "      <th></th>\n",
       "    </tr>\n",
       "  </thead>\n",
       "  <tbody>\n",
       "    <tr>\n",
       "      <th rowspan=\"3\" valign=\"top\">asian</th>\n",
       "      <th>auto</th>\n",
       "      <td>1.000000</td>\n",
       "      <td>50163.333333</td>\n",
       "      <td>24711.000000</td>\n",
       "    </tr>\n",
       "    <tr>\n",
       "      <th>home</th>\n",
       "      <td>0.500000</td>\n",
       "      <td>90206.750000</td>\n",
       "      <td>618318.250000</td>\n",
       "    </tr>\n",
       "    <tr>\n",
       "      <th>personal</th>\n",
       "      <td>1.000000</td>\n",
       "      <td>54229.000000</td>\n",
       "      <td>23591.000000</td>\n",
       "    </tr>\n",
       "    <tr>\n",
       "      <th rowspan=\"3\" valign=\"top\">black</th>\n",
       "      <th>auto</th>\n",
       "      <td>0.666667</td>\n",
       "      <td>43334.523810</td>\n",
       "      <td>21158.809524</td>\n",
       "    </tr>\n",
       "    <tr>\n",
       "      <th>home</th>\n",
       "      <td>0.444444</td>\n",
       "      <td>53286.777778</td>\n",
       "      <td>384262.666667</td>\n",
       "    </tr>\n",
       "    <tr>\n",
       "      <th>personal</th>\n",
       "      <td>0.545455</td>\n",
       "      <td>23250.045455</td>\n",
       "      <td>27120.272727</td>\n",
       "    </tr>\n",
       "    <tr>\n",
       "      <th rowspan=\"3\" valign=\"top\">hispanic/latino</th>\n",
       "      <th>auto</th>\n",
       "      <td>0.571429</td>\n",
       "      <td>44698.428571</td>\n",
       "      <td>19689.000000</td>\n",
       "    </tr>\n",
       "    <tr>\n",
       "      <th>home</th>\n",
       "      <td>0.923077</td>\n",
       "      <td>70247.384615</td>\n",
       "      <td>464593.076923</td>\n",
       "    </tr>\n",
       "    <tr>\n",
       "      <th>personal</th>\n",
       "      <td>0.733333</td>\n",
       "      <td>32540.066667</td>\n",
       "      <td>40106.066667</td>\n",
       "    </tr>\n",
       "    <tr>\n",
       "      <th rowspan=\"3\" valign=\"top\">other</th>\n",
       "      <th>auto</th>\n",
       "      <td>1.000000</td>\n",
       "      <td>68057.285714</td>\n",
       "      <td>31497.714286</td>\n",
       "    </tr>\n",
       "    <tr>\n",
       "      <th>home</th>\n",
       "      <td>0.769231</td>\n",
       "      <td>86120.461538</td>\n",
       "      <td>551963.538462</td>\n",
       "    </tr>\n",
       "    <tr>\n",
       "      <th>personal</th>\n",
       "      <td>0.800000</td>\n",
       "      <td>25645.600000</td>\n",
       "      <td>31569.600000</td>\n",
       "    </tr>\n",
       "    <tr>\n",
       "      <th rowspan=\"3\" valign=\"top\">white</th>\n",
       "      <th>auto</th>\n",
       "      <td>0.758621</td>\n",
       "      <td>61512.793103</td>\n",
       "      <td>29650.275862</td>\n",
       "    </tr>\n",
       "    <tr>\n",
       "      <th>home</th>\n",
       "      <td>0.771429</td>\n",
       "      <td>101778.600000</td>\n",
       "      <td>713329.028571</td>\n",
       "    </tr>\n",
       "    <tr>\n",
       "      <th>personal</th>\n",
       "      <td>0.562500</td>\n",
       "      <td>47682.875000</td>\n",
       "      <td>48984.687500</td>\n",
       "    </tr>\n",
       "  </tbody>\n",
       "</table>\n",
       "</div>"
      ],
      "text/plain": [
       "                          approved         income      principle\n",
       "race            type                                            \n",
       "asian           auto      1.000000   50163.333333   24711.000000\n",
       "                home      0.500000   90206.750000  618318.250000\n",
       "                personal  1.000000   54229.000000   23591.000000\n",
       "black           auto      0.666667   43334.523810   21158.809524\n",
       "                home      0.444444   53286.777778  384262.666667\n",
       "                personal  0.545455   23250.045455   27120.272727\n",
       "hispanic/latino auto      0.571429   44698.428571   19689.000000\n",
       "                home      0.923077   70247.384615  464593.076923\n",
       "                personal  0.733333   32540.066667   40106.066667\n",
       "other           auto      1.000000   68057.285714   31497.714286\n",
       "                home      0.769231   86120.461538  551963.538462\n",
       "                personal  0.800000   25645.600000   31569.600000\n",
       "white           auto      0.758621   61512.793103   29650.275862\n",
       "                home      0.771429  101778.600000  713329.028571\n",
       "                personal  0.562500   47682.875000   48984.687500"
      ]
     },
     "execution_count": 269,
     "metadata": {},
     "output_type": "execute_result"
    }
   ],
   "source": [
    "approval_rates = loans[[\"race\", \"approved\", \"income\", \"principle\", \"type\"]].groupby([\"race\", \"type\"]).mean()\n",
    "\n",
    "approval_rates"
   ]
  },
  {
   "cell_type": "code",
   "execution_count": 271,
   "metadata": {},
   "outputs": [
    {
     "data": {
      "text/plain": [
       "25"
      ]
     },
     "execution_count": 271,
     "metadata": {},
     "output_type": "execute_result"
    }
   ],
   "source": [
    "# compute profit & burden distributions for each type of loan"
   ]
  }
 ],
 "metadata": {
  "kernelspec": {
   "display_name": "Python 3",
   "language": "python",
   "name": "python3"
  },
  "language_info": {
   "codemirror_mode": {
    "name": "ipython",
    "version": 3
   },
   "file_extension": ".py",
   "mimetype": "text/x-python",
   "name": "python",
   "nbconvert_exporter": "python",
   "pygments_lexer": "ipython3",
   "version": "3.7.5"
  }
 },
 "nbformat": 4,
 "nbformat_minor": 4
}
