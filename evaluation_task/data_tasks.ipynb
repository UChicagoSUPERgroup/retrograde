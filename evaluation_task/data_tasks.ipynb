{
 "cells": [
  {
   "cell_type": "markdown",
   "metadata": {},
   "source": [
    "# Introduction\n",
    "\n",
    "Thank you for agreeing to take part in this evaluation. During this evaluation you will be asked to carry out a series of tasks related to the dataset shown in the next section. Please carry out these tasks with the same care and rigor as if these tasks were part of your job duties.\n",
    "\n",
    "Before beginning please ensure that you are using the prompter kernel by looking at the top right of this notebook. It should say \"prompter\", rather than \"Python 3\". If says you are using a python kernel, please click on where it says Python, and select the prompter from the drop down study. If you encounter any errors, or if it says No Kernel! please contact PLACEHOLDER@uchicago.edu\n",
    "\n",
    "We ask that you use pandas and scikit-learn to perform the tasks. We have also installed numpy and matplotlib, should those be helpful. You will not be able to install any other non-standard libraries. \n",
    "\n",
    "Please spend no more than 30 minutes on this."
   ]
  },
  {
   "cell_type": "markdown",
   "metadata": {},
   "source": [
    "## Dataset"
   ]
  },
  {
   "cell_type": "markdown",
   "metadata": {},
   "source": [
    "We will be asking you to use loan_data dataset during this experiment. This data was collected in a major metropolitan city in the United States. It contains information about applications received for loan applications aggregated from several different loan providers. Further explanation of the data's collection and provenance is not possible.\n",
    "\n",
    "Of particular note is the \"approved\" column, which indicates whether an applicant was approved for the loan or not. \n",
    "\n",
    "Please take a moment to familiarize yourself with the contents of this dataset. "
   ]
  },
  {
   "cell_type": "code",
   "execution_count": null,
   "metadata": {},
   "outputs": [],
   "source": [
    "import pandas as pd\n",
    "\n",
    "df = pd.read_csv(\"\")"
   ]
  },
  {
   "cell_type": "markdown",
   "metadata": {},
   "source": [
    "# Some considerations\n",
    "\n",
    "Before beginning the analysis task, it is necessary need to clean up the data. \n",
    "\n",
    "1. The data in this dataset runs from 2011 to 2019, however in 2015, several of the loan providers changed the way they approve loan decisions. Specifically, providers of home and home equity loans introduced a new approval process with additional requirements for borrowers and a series of reviews. Therefore any home or home-equity loans made prior to 2015 are not representative of current policy and should therefore be excluded.\n",
    "\n",
    "2. Due to inconsistencies in the way certain loan providers stored data, some entries in the ``interest_rate`` column are 0 when no interest rate was recorded, whereas some entries in ``interest_rate`` are null. In both cases, this means that loan was not approved, and the loan officer did not record the interest rate at which the loan would have been granted. Some rejected loans have a filled in ``interest_rate`` indicating the prospective loan interest rate."
   ]
  },
  {
   "cell_type": "code",
   "execution_count": null,
   "metadata": {},
   "outputs": [],
   "source": []
  },
  {
   "cell_type": "markdown",
   "metadata": {},
   "source": [
    "# The task\n",
    "\n",
    "We would like you to build a model that predicts whether an applicant is likely to be approved or not. The model will be integrated into an online platform that matches borrowers with lending institutions. "
   ]
  },
  {
   "cell_type": "code",
   "execution_count": null,
   "metadata": {},
   "outputs": [],
   "source": []
  },
  {
   "cell_type": "markdown",
   "metadata": {},
   "source": [
    "# End\n",
    "\n",
    "When you feel you have completed this exercise, please execute this cell to submit your model. You may (but are not required to) submit multiple times. "
   ]
  },
  {
   "cell_type": "code",
   "execution_count": null,
   "metadata": {},
   "outputs": [],
   "source": [
    "# %prompter_plugin submit%"
   ]
  },
  {
   "cell_type": "markdown",
   "metadata": {},
   "source": [
    "**Data columns, Not for circulation**\n",
    "\n",
    "- ``type``: home, home equity, personal, auto, payday\n",
    "- ``federal_interest`` : federal interest rate at that point in time\n",
    "- ``term`` : the loan's term (how long it runs for)\n",
    "- ``interest_rate`` : the loan's interest rate\n",
    "- ``approved`` : yes/no whether the loan was approved or not\n",
    "- ``gender`` : the gender of the person applying\n",
    "- ``race`` : the race of the person applying\n",
    "- ``zip`` : the zip code of the person applying (will use Chicago zip codes)\n",
    "- ``annual_income`` : the annual income \n",
    "- ``FY`` : fiscal year\n",
    "- ``Quarter`` : the financial quarter\n",
    "- ``principal`` : the loan principal\n",
    "- ``test_join_516`` : a nonsense mystery column\n",
    "- ``trial_123`` : a mystery column that is actually predictive"
   ]
  },
  {
   "cell_type": "markdown",
   "metadata": {},
   "source": [
    "**Notifications**\n",
    "\n",
    "1. Using a sensitive column (data uses race)\n",
    "2. High variance in race based on zip code\n",
    "3. Model FPR + FNR by gender, race, annual income\n",
    "4. Outliers in principal "
   ]
  },
  {
   "cell_type": "markdown",
   "metadata": {},
   "source": [
    "# Data generation"
   ]
  },
  {
   "cell_type": "code",
   "execution_count": 1,
   "metadata": {},
   "outputs": [],
   "source": [
    "class Variable:\n",
    "    def __init__(self, name, gen_func, inputs):\n",
    "        \n",
    "        self.name = name\n",
    "        self.func = gen_func\n",
    "        self.inputs = set(inputs)\n",
    "        \n",
    "    def can_gen(self, data):\n",
    "        # return if the variable can be generated with the data so far\n",
    "        avail_inputs = set(data.keys())\n",
    "        \n",
    "        return self.inputs <= avail_inputs"
   ]
  },
  {
   "cell_type": "code",
   "execution_count": 2,
   "metadata": {},
   "outputs": [],
   "source": [
    "class Model:\n",
    "    \n",
    "    def __init__(self, exogenous):\n",
    "        self.exogenous = exogenous # external factors\n",
    "        self.children = {var.name : [] for var in self.exogenous}\n",
    "    \n",
    "    def generate(self):\n",
    "        \n",
    "        data = {}\n",
    "        q = set()\n",
    "        \n",
    "        for end_var in self.exogenous:\n",
    "            data[end_var.name] = end_var.func()\n",
    "            q.update(self.children[end_var.name])\n",
    "            \n",
    "        while q:\n",
    "            var = q.pop()\n",
    "            if var.can_gen(data):\n",
    "                data[var.name] = var.func(data)\n",
    "                \n",
    "                if var.name in self.children:\n",
    "                    q.update(self.children[var.name])\n",
    "            else:\n",
    "                q.add(var)\n",
    "        return data \n",
    "    \n",
    "    def add_var(self, var):\n",
    "        for input_var in var.inputs:\n",
    "            self.children[input_var].append(var)\n",
    "        self.children[var.name] = []\n",
    "        \n",
    "    def make_df(self, n):\n",
    "        df_dict = {}\n",
    "        for _ in range(n):\n",
    "            d = self.generate()\n",
    "            for k in d.keys():\n",
    "                if k not in df_dict:\n",
    "                    df_dict[k] = []\n",
    "                df_dict[k].append(d[k])\n",
    "        return pd.DataFrame(df_dict)"
   ]
  },
  {
   "cell_type": "code",
   "execution_count": 3,
   "metadata": {},
   "outputs": [
    {
     "data": {
      "text/html": [
       "<div>\n",
       "<style scoped>\n",
       "    .dataframe tbody tr th:only-of-type {\n",
       "        vertical-align: middle;\n",
       "    }\n",
       "\n",
       "    .dataframe tbody tr th {\n",
       "        vertical-align: top;\n",
       "    }\n",
       "\n",
       "    .dataframe thead th {\n",
       "        text-align: right;\n",
       "    }\n",
       "</style>\n",
       "<table border=\"1\" class=\"dataframe\">\n",
       "  <thead>\n",
       "    <tr style=\"text-align: right;\">\n",
       "      <th></th>\n",
       "      <th>DATE</th>\n",
       "      <th>FEDFUNDS</th>\n",
       "    </tr>\n",
       "  </thead>\n",
       "  <tbody>\n",
       "    <tr>\n",
       "      <th>0</th>\n",
       "      <td>1954-07-01</td>\n",
       "      <td>0.80</td>\n",
       "    </tr>\n",
       "    <tr>\n",
       "      <th>1</th>\n",
       "      <td>1954-08-01</td>\n",
       "      <td>1.22</td>\n",
       "    </tr>\n",
       "    <tr>\n",
       "      <th>2</th>\n",
       "      <td>1954-09-01</td>\n",
       "      <td>1.06</td>\n",
       "    </tr>\n",
       "    <tr>\n",
       "      <th>3</th>\n",
       "      <td>1954-10-01</td>\n",
       "      <td>0.85</td>\n",
       "    </tr>\n",
       "    <tr>\n",
       "      <th>4</th>\n",
       "      <td>1954-11-01</td>\n",
       "      <td>0.83</td>\n",
       "    </tr>\n",
       "  </tbody>\n",
       "</table>\n",
       "</div>"
      ],
      "text/plain": [
       "        DATE  FEDFUNDS\n",
       "0 1954-07-01      0.80\n",
       "1 1954-08-01      1.22\n",
       "2 1954-09-01      1.06\n",
       "3 1954-10-01      0.85\n",
       "4 1954-11-01      0.83"
      ]
     },
     "execution_count": 3,
     "metadata": {},
     "output_type": "execute_result"
    }
   ],
   "source": [
    "import pandas as pd\n",
    "import numpy as np\n",
    "\n",
    "funds = pd.read_csv(\"FEDFUNDS.csv\")\n",
    "funds[\"DATE\"] = pd.to_datetime(funds[\"DATE\"])\n",
    "funds.head()"
   ]
  },
  {
   "cell_type": "code",
   "execution_count": 145,
   "metadata": {},
   "outputs": [
    {
     "data": {
      "text/plain": [
       "FEDFUNDS    0.17\n",
       "Name: 0.4, dtype: float64"
      ]
     },
     "execution_count": 145,
     "metadata": {},
     "output_type": "execute_result"
    }
   ],
   "source": [
    "funds[funds[\"DATE\"] > datetime(2005, 1, 1)].quantile(0.40)"
   ]
  },
  {
   "cell_type": "code",
   "execution_count": 15,
   "metadata": {},
   "outputs": [
    {
     "data": {
      "text/plain": [
       "0.0"
      ]
     },
     "execution_count": 15,
     "metadata": {},
     "output_type": "execute_result"
    }
   ],
   "source": [
    "1 - (.486+.51+.004)"
   ]
  },
  {
   "cell_type": "code",
   "execution_count": 4,
   "metadata": {},
   "outputs": [],
   "source": [
    "def race_func():\n",
    "    return np.random.choice([\"white\", \"black\", \"hispanic/latino\", \"asian\", \"other\"], \n",
    "                            p = [.31, .32, .19, .05, .13])\n",
    "race_var = Variable(\"race\", race_func, [])"
   ]
  },
  {
   "cell_type": "code",
   "execution_count": 5,
   "metadata": {},
   "outputs": [],
   "source": [
    "def gender_func():\n",
    "    return np.random.choice([\"male\", \"female\", \"non-binary\"], \n",
    "                                          p = [.486, .51, .004])\n",
    "gender_var = Variable(\"gender\", gender_func, [])"
   ]
  },
  {
   "cell_type": "code",
   "execution_count": 6,
   "metadata": {},
   "outputs": [],
   "source": [
    "from datetime import datetime\n",
    "\n",
    "probs = [\n",
    "    1/12.2,\n",
    "    1.2/12.2,\n",
    "    1.5/12.2,\n",
    "    0.8/12.2,\n",
    "    1.5/12.2,\n",
    "    2/12.2,\n",
    "    2.1/12.2,\n",
    "    2.1/12.2\n",
    "]\n",
    "\n",
    "ranges = [\n",
    "    (datetime(2011, 1, 1), datetime(2012, 1, 1)),\n",
    "    (datetime(2012, 1, 1), datetime(2013, 1, 1)),\n",
    "    (datetime(2013, 1, 1), datetime(2014, 1, 1)),\n",
    "    (datetime(2014, 1, 1), datetime(2015, 1, 1)),\n",
    "    (datetime(2015, 1, 1), datetime(2016, 1, 1)),\n",
    "    (datetime(2016, 1, 1), datetime(2017, 1, 1)),\n",
    "    (datetime(2017, 1, 1), datetime(2018, 1, 1)),\n",
    "    (datetime(2018, 1, 1), datetime(2019, 1, 1)) \n",
    "]\n",
    "\n",
    "def date_func():\n",
    "    \n",
    "    index = np.random.choice(list(range(len(ranges))), p = probs) # tries to encode relative rates of mortgage applications\n",
    "    date_range = ranges[index]\n",
    "    dates_vector = (funds[\"DATE\"] >= date_range[0]) & (funds[\"DATE\"] < date_range[1])\n",
    "    \n",
    "    return np.random.choice(funds[\"DATE\"][dates_vector])\n",
    "    \n",
    "date_var = Variable(\"date\", date_func, [])"
   ]
  },
  {
   "cell_type": "code",
   "execution_count": 7,
   "metadata": {},
   "outputs": [],
   "source": [
    "def fed_func(data):\n",
    "    \n",
    "    entry = funds[\"FEDFUNDS\"][funds[\"DATE\"] == data[\"date\"]]\n",
    "    return entry.iloc[0]\n",
    "\n",
    "fed_var = Variable(\"fed\", fed_func, [\"date\"])"
   ]
  },
  {
   "cell_type": "code",
   "execution_count": 8,
   "metadata": {},
   "outputs": [],
   "source": [
    "def zip_func(data):\n",
    "    \n",
    "    zips = [60626, 60625, 60615, 60637, 60623, 60611, 60614]\n",
    "    \n",
    "    pr_z = { # lookup table for P[R | Z], drawn from statistical atlas\n",
    "        60626 : {\"black\" : .26, \"white\" : .42, \"asian\" : .07, \"hispanic/latino\" : .22, \"other\" :.03}, # semi-mixed\n",
    "        60625 : {\"black\" : .05, \"white\" : .42, \"asian\" : .14, \"hispanic/latino\" : .37, \"other\" : 1 - (.05 + .42 + .37 + .14)}, # maj. white\n",
    "        60615 : {\"black\" : .61, \"white\" : .25, \"asian\" : .07, \"hispanic/latino\" : .05, \"other\" : 1 - (.61 + .25 + .07 + .05)}, # maj. black\n",
    "        60637 : {\"black\" : .77, \"white\" : .16, \"asian\" : .04, \"hispanic/latino\" : .01, \"other\" : 1 - (.77 + .16 +.04 +.01)}, # maj. black\n",
    "        60623 : {\"black\" : .34, \"white\" : .02, \"asian\" : .0, \"hispanic/latino\" : .63, \"other\" : 1 - (.34 + .02 + .00 + .63)}, # maj. latino\n",
    "        60611 : {\"black\" : .04, \"white\" : .75, \"asian\" : .15, \"hispanic/latino\" : .04, \"other\" : 1 - (.04 + .75 + .15 + .04)}, # maj. white\n",
    "        60614 : {\"black\" : .04, \"white\" : .82, \"asian\" : .05, \"hispanic/latino\" : .07, \"other\" : 1 - (.04 + .82 + .05 + .07)}, # maj. white\n",
    "    }\n",
    "    \n",
    "    p_z = { # probability of someone being in any of the zip codes\n",
    "        60626 : 51061.,\n",
    "        60625 : 78966.,\n",
    "        60615 : 40745.,\n",
    "        60637 : 48270.,\n",
    "        60623 : 85158.,\n",
    "        60611 : 29722.,\n",
    "        60614 : 68363.\n",
    "    }\n",
    "    \n",
    "    p_z = {k : v/sum(p_z.values()) for k,v in p_z.items()}    \n",
    "    p_r = {zip_code : 0 for zip_code in pr_z[60626].keys()}\n",
    "    \n",
    "    for zip_code in p_z.keys():\n",
    "        for r in p_r.keys():\n",
    "            p_r[r] += pr_z[zip_code][r]*p_z[zip_code]\n",
    "            \n",
    "    pr_table = {} # lookup race, outputs probability vector\n",
    "    \n",
    "    for r in p_r.keys():\n",
    "        vec = []\n",
    "        for zip_code in zips:\n",
    "            vec.append(pr_z[zip_code][r]*p_z[zip_code]/p_r[r])\n",
    "        pr_table[r] = vec    \n",
    "    \n",
    "    # nb checked that sum of distributions given each condition sums to 1\n",
    "    \n",
    "    return np.random.choice(zips, p=pr_table[data[\"race\"]])\n",
    "\n",
    "zip_var = Variable(\"zip\", zip_func, [\"race\"])"
   ]
  },
  {
   "cell_type": "code",
   "execution_count": 9,
   "metadata": {},
   "outputs": [],
   "source": [
    "def income_func(data):\n",
    "    incomes = { # ordering is 20th percentile, median, 80th pctle\n",
    "        60626 : (13700, 38700, 84100),\n",
    "        60625 : (21400, 56600, 109200),\n",
    "        60615 : (12000, 39100, 86900),\n",
    "        60637 : (9200, 25800, 68900),\n",
    "        60623 : (12800, 28900, 56600),\n",
    "        60611 : (33900, 85600, 201800),\n",
    "        60614 : (30800, 86200, 186700)\n",
    "    } # assume normal distribution\n",
    "    z_8 = 0.842\n",
    "    z_2 = -0.842\n",
    "    \n",
    "    incomes_std = {k : (v[2] - v[0])/(z_8 - z_2) for k,v in incomes.items()}\n",
    "    incomes_mean = {k : v[2] - z_8*incomes_std[k] for k,v in incomes.items()}\n",
    "    \n",
    "    # assume that women on average make 0.8 times that of men\n",
    "    sample = np.random.normal(loc = incomes_mean[data[\"zip\"]], scale=incomes_std[data[\"zip\"]])\n",
    "    if data[\"gender\"] != \"male\":\n",
    "        return int(abs(sample*0.8))\n",
    "    return int(abs(sample))\n",
    "\n",
    "income_var = Variable(\"income\", income_func, [\"zip\", \"gender\"])"
   ]
  },
  {
   "cell_type": "code",
   "execution_count": 10,
   "metadata": {},
   "outputs": [],
   "source": [
    "zips = [60626,60625, 60615, 60637, 60623, 60611, 60614]\n",
    "\n",
    "income_sample = []\n",
    "\n",
    "for code in zips:\n",
    "    for _ in range(100):\n",
    "        income_sample.append(income_func({\"zip\" : code, \"gender\" : \"male\"}))"
   ]
  },
  {
   "cell_type": "code",
   "execution_count": 13,
   "metadata": {},
   "outputs": [],
   "source": [
    "incomes = np.array(income_sample)"
   ]
  },
  {
   "cell_type": "code",
   "execution_count": 144,
   "metadata": {},
   "outputs": [
    {
     "data": {
      "text/plain": [
       "56267.5"
      ]
     },
     "execution_count": 144,
     "metadata": {},
     "output_type": "execute_result"
    }
   ],
   "source": [
    "np.quantile(incomes, 0.5)"
   ]
  },
  {
   "cell_type": "code",
   "execution_count": 11,
   "metadata": {},
   "outputs": [],
   "source": [
    "def type_func(data):\n",
    "    types = [\"home\", \"personal\", \"auto\"]\n",
    "    \n",
    "    LOW_FED = 0.17    \n",
    "    \n",
    "    if data[\"fed\"] < LOW_FED:\n",
    "        fed = 0\n",
    "    else:\n",
    "        fed = 1\n",
    "        \n",
    "    if data[\"income\"] < 21700:\n",
    "        income = 0\n",
    "    elif data[\"income\"] < 56000:\n",
    "        income = 1\n",
    "    else:\n",
    "        income = 2\n",
    "    # here is guess work, say more likely to do home or home equity when fed rate is low, \n",
    "    # define the joint distribution\n",
    "    \n",
    "    p_table = {}\n",
    "\n",
    "    # P[TYPE | low fed, income=0]\n",
    "    p_table[(0,0)] = [0.1, 0.4, 0.5]\n",
    "    # P[TYPE | high fed, income = 0]\n",
    "    p_table[(1, 0)] = [0.1, 0.6, 0.3] # under logic that high rates -> good economy\n",
    "\n",
    "    # p[TYPE | low fed, income = 1]\n",
    "    p_table[(0,1)] = [0.4, 0.3, 0.3]\n",
    "    # p[TYPE | high fed, income=1]\n",
    "    p_table[(1,1)] = [0.2, 0.3, 0.5]\n",
    "    \n",
    "     # p[TYPE | low fed, income = 2]\n",
    "    p_table[(0,2)] = [0.7, 0.1, 0.2]\n",
    "    # p[TYPE | high fed, income=2]\n",
    "    p_table[(1,2)] = [0.5, 0.1, 0.4]\n",
    "    \n",
    "    return np.random.choice(types, p=p_table[(fed,income)])\n",
    "type_var = Variable(\"type\", type_func, [\"fed\", \"income\"])"
   ]
  },
  {
   "cell_type": "code",
   "execution_count": 12,
   "metadata": {},
   "outputs": [],
   "source": [
    "def interest_func(data):\n",
    "    \n",
    "    loan_type = data[\"type\"]\n",
    "    \n",
    "    if loan_type == \"home\":\n",
    "        return data[\"fed\"] + abs(np.random.normal(loc=3, scale=2))\n",
    "    if loan_type == \"personal\":\n",
    "        return data[\"fed\"] + abs(np.random.normal(loc=10, scale=5))\n",
    "    if loan_type == \"auto\":\n",
    "        return data[\"fed\"] + abs(np.random.normal(loc=5, scale=1))\n",
    "\n",
    "interest_var = Variable(\"interest\", interest_func, [\"fed\", \"type\"])"
   ]
  },
  {
   "cell_type": "code",
   "execution_count": 13,
   "metadata": {},
   "outputs": [],
   "source": [
    "def term_func(data):\n",
    "    \n",
    "    loan_type = data[\"type\"]\n",
    "    \n",
    "    if loan_type == \"home\":\n",
    "        return np.random.choice([30*12, 15*12, 25*12, 20*12], p=[0.4, 0.2, 0.2, 0.2])\n",
    "    if loan_type == \"auto\":\n",
    "        return np.random.choice([72, 84, 60], p = [0.5, 0.3, 0.2])\n",
    "    else:\n",
    "        return np.random.choice([12, 18, 24, 48, 60], p = [0.2, 0.2, 0.2, 0.2, 0.2])\n",
    "    \n",
    "term_var = Variable(\"term\", term_func, [\"type\"])"
   ]
  },
  {
   "cell_type": "code",
   "execution_count": 14,
   "metadata": {},
   "outputs": [],
   "source": [
    "def principal_func(data):\n",
    "    loan_type = data[\"type\"]\n",
    "    # pct of annual income\n",
    "    if loan_type == \"home\":\n",
    "        principal = abs(np.random.normal(loc=7*data[\"income\"], scale=data[\"income\"]))\n",
    "    if loan_type == \"personal\":\n",
    "        principal = abs(np.random.normal(loc=data[\"income\"], scale=data[\"income\"]*.5))\n",
    "    if loan_type == \"auto\":\n",
    "        principal = abs(np.random.normal(loc=15000, scale=data[\"income\"]*.5))\n",
    "        \n",
    "    return int(principal)\n",
    "\n",
    "principle_var = Variable(\"principal\", principal_func, [\"type\", \"income\", \"term\", \"interest\"])"
   ]
  },
  {
   "cell_type": "code",
   "execution_count": 60,
   "metadata": {},
   "outputs": [],
   "source": [
    "def approved_func(data):\n",
    "    if data[\"type\"] == \"home\":\n",
    "        return home_approval_func(data)\n",
    "    elif data[\"type\"] == \"auto\":\n",
    "        return auto_approval_func(data)\n",
    "    else:\n",
    "        return personal_approval_func(data)\n",
    "    \n",
    "def home_approval_func(data):\n",
    "    \n",
    "    year_payment = (1 + (data[\"interest\"]/100.))*((12*data[\"principal\"])/data[\"term\"])\n",
    "    \n",
    "    profit = (data[\"interest\"]/100.)*data[\"principal\"]*(data[\"term\"]/12.)\n",
    "    burden = year_payment/data[\"income\"]\n",
    "    \n",
    "    if data[\"zip\"] in [60625, 60611, 60614]:\n",
    "        profit_cutoff = 130000\n",
    "    else: profit_cutoff = 500000\n",
    "    return (profit > profit_cutoff) & (burden < 0.4)\n",
    "\n",
    "def auto_approval_func(data):\n",
    "    \n",
    "    year_payment = (1 + (data[\"interest\"]/100.))*((12*data[\"principal\"])/data[\"term\"])\n",
    "    \n",
    "    profit = (data[\"interest\"]/100.)*data[\"principal\"]*(data[\"term\"]/12.)\n",
    "    burden = year_payment/data[\"income\"]\n",
    "    \n",
    "    if data[\"zip\"] in [60625, 60611, 60614]: profit_cutoff = 1500\n",
    "    else: profit_cutoff = 5000\n",
    "        \n",
    "    return (profit > profit_cutoff) & (burden < 0.2)\n",
    "\n",
    "def personal_approval_func(data):\n",
    "    \n",
    "    year_payment = (1 + (data[\"interest\"]/100.))*((12*data[\"principal\"])/data[\"term\"])\n",
    "    \n",
    "    profit = (data[\"interest\"]/100.)*data[\"principal\"]*(data[\"term\"]/12.)\n",
    "    burden = year_payment/data[\"income\"]\n",
    "    \n",
    "    return (profit > 2000) & (burden > 0.2)\n",
    "\n",
    "approved_var = Variable(\"approved\", approved_func, [\"principal\", \"income\", \"interest\", \"term\", \"zip\"])"
   ]
  },
  {
   "cell_type": "code",
   "execution_count": 61,
   "metadata": {},
   "outputs": [
    {
     "data": {
      "text/plain": [
       "{'race': 'white',\n",
       " 'gender': 'female',\n",
       " 'date': numpy.datetime64('2017-07-01T00:00:00.000000000'),\n",
       " 'fed': 1.15,\n",
       " 'zip': 60614,\n",
       " 'income': 66984,\n",
       " 'type': 'personal',\n",
       " 'interest': 22.201119491044068,\n",
       " 'term': 24,\n",
       " 'principal': 69500,\n",
       " 'approved': True}"
      ]
     },
     "execution_count": 61,
     "metadata": {},
     "output_type": "execute_result"
    }
   ],
   "source": [
    "exog = [race_var, gender_var, date_var]\n",
    "generator = Model(exog)\n",
    "generator.add_var(fed_var)\n",
    "generator.add_var(zip_var)\n",
    "generator.add_var(income_var)\n",
    "generator.add_var(type_var)\n",
    "generator.add_var(interest_var)\n",
    "generator.add_var(term_var)\n",
    "generator.add_var(principle_var)\n",
    "generator.add_var(approved_var)\n",
    "generator.generate()"
   ]
  },
  {
   "cell_type": "code",
   "execution_count": 62,
   "metadata": {},
   "outputs": [
    {
     "data": {
      "text/html": [
       "<div>\n",
       "<style scoped>\n",
       "    .dataframe tbody tr th:only-of-type {\n",
       "        vertical-align: middle;\n",
       "    }\n",
       "\n",
       "    .dataframe tbody tr th {\n",
       "        vertical-align: top;\n",
       "    }\n",
       "\n",
       "    .dataframe thead th {\n",
       "        text-align: right;\n",
       "    }\n",
       "</style>\n",
       "<table border=\"1\" class=\"dataframe\">\n",
       "  <thead>\n",
       "    <tr style=\"text-align: right;\">\n",
       "      <th></th>\n",
       "      <th>race</th>\n",
       "      <th>gender</th>\n",
       "      <th>date</th>\n",
       "      <th>fed</th>\n",
       "      <th>zip</th>\n",
       "      <th>income</th>\n",
       "      <th>type</th>\n",
       "      <th>interest</th>\n",
       "      <th>term</th>\n",
       "      <th>principal</th>\n",
       "      <th>approved</th>\n",
       "    </tr>\n",
       "  </thead>\n",
       "  <tbody>\n",
       "    <tr>\n",
       "      <th>0</th>\n",
       "      <td>black</td>\n",
       "      <td>female</td>\n",
       "      <td>2017-10-01</td>\n",
       "      <td>1.15</td>\n",
       "      <td>60637</td>\n",
       "      <td>21155</td>\n",
       "      <td>personal</td>\n",
       "      <td>10.195762</td>\n",
       "      <td>12</td>\n",
       "      <td>44622</td>\n",
       "      <td>True</td>\n",
       "    </tr>\n",
       "    <tr>\n",
       "      <th>1</th>\n",
       "      <td>black</td>\n",
       "      <td>male</td>\n",
       "      <td>2018-04-01</td>\n",
       "      <td>1.69</td>\n",
       "      <td>60623</td>\n",
       "      <td>58431</td>\n",
       "      <td>home</td>\n",
       "      <td>2.112482</td>\n",
       "      <td>180</td>\n",
       "      <td>519375</td>\n",
       "      <td>False</td>\n",
       "    </tr>\n",
       "    <tr>\n",
       "      <th>2</th>\n",
       "      <td>black</td>\n",
       "      <td>female</td>\n",
       "      <td>2013-11-01</td>\n",
       "      <td>0.08</td>\n",
       "      <td>60637</td>\n",
       "      <td>28489</td>\n",
       "      <td>home</td>\n",
       "      <td>8.780219</td>\n",
       "      <td>360</td>\n",
       "      <td>265714</td>\n",
       "      <td>True</td>\n",
       "    </tr>\n",
       "    <tr>\n",
       "      <th>3</th>\n",
       "      <td>black</td>\n",
       "      <td>male</td>\n",
       "      <td>2011-10-01</td>\n",
       "      <td>0.07</td>\n",
       "      <td>60626</td>\n",
       "      <td>122782</td>\n",
       "      <td>home</td>\n",
       "      <td>1.915670</td>\n",
       "      <td>360</td>\n",
       "      <td>917704</td>\n",
       "      <td>True</td>\n",
       "    </tr>\n",
       "    <tr>\n",
       "      <th>4</th>\n",
       "      <td>white</td>\n",
       "      <td>female</td>\n",
       "      <td>2014-07-01</td>\n",
       "      <td>0.09</td>\n",
       "      <td>60614</td>\n",
       "      <td>324243</td>\n",
       "      <td>home</td>\n",
       "      <td>3.680747</td>\n",
       "      <td>300</td>\n",
       "      <td>1728441</td>\n",
       "      <td>True</td>\n",
       "    </tr>\n",
       "  </tbody>\n",
       "</table>\n",
       "</div>"
      ],
      "text/plain": [
       "    race  gender       date   fed    zip  income      type   interest  term  \\\n",
       "0  black  female 2017-10-01  1.15  60637   21155  personal  10.195762    12   \n",
       "1  black    male 2018-04-01  1.69  60623   58431      home   2.112482   180   \n",
       "2  black  female 2013-11-01  0.08  60637   28489      home   8.780219   360   \n",
       "3  black    male 2011-10-01  0.07  60626  122782      home   1.915670   360   \n",
       "4  white  female 2014-07-01  0.09  60614  324243      home   3.680747   300   \n",
       "\n",
       "   principal  approved  \n",
       "0      44622      True  \n",
       "1     519375     False  \n",
       "2     265714      True  \n",
       "3     917704      True  \n",
       "4    1728441      True  "
      ]
     },
     "execution_count": 62,
     "metadata": {},
     "output_type": "execute_result"
    }
   ],
   "source": [
    "# make df\n",
    "loans = generator.make_df(1000)\n",
    "loans.head()"
   ]
  },
  {
   "cell_type": "code",
   "execution_count": 67,
   "metadata": {},
   "outputs": [],
   "source": [
    "# add interest rate noise\n",
    "\n",
    "from random import choices\n",
    "\n",
    "noise_func = lambda x: choices([x, 0.0, None], weights=[0.6, 0.3, 0.1])[0]\n",
    "\n",
    "loans.loc[~loans[\"approved\"], \"interest\"] = loans.loc[~loans[\"approved\"], \"interest\"].apply(noise_func)\n",
    "\n",
    "loans.to_csv(\"test_data.csv\")"
   ]
  },
  {
   "cell_type": "code",
   "execution_count": 43,
   "metadata": {},
   "outputs": [],
   "source": [
    "year_payment = (1 + (loans[\"interest\"]/100.))*((12*loans[\"principal\"])/loans[\"term\"])\n",
    "profit = (loans[\"interest\"]/100.)*loans[\"principal\"]*(loans[\"term\"]/12.)\n",
    "burden = year_payment/loans[\"income\"]"
   ]
  },
  {
   "cell_type": "code",
   "execution_count": 51,
   "metadata": {},
   "outputs": [
    {
     "data": {
      "image/png": "[encoded data removed]",
      "text/plain": [
       "<Figure size 432x288 with 1 Axes>"
      ]
     },
     "metadata": {
      "needs_background": "light"
     },
     "output_type": "display_data"
    }
   ],
   "source": [
    "import matplotlib.pyplot as plt\n",
    "burden[loans[\"type\"] == \"home\"].hist(bins=50)\n",
    "plt.show()"
   ]
  },
  {
   "cell_type": "code",
   "execution_count": null,
   "metadata": {},
   "outputs": [],
   "source": []
  },
  {
   "cell_type": "code",
   "execution_count": 57,
   "metadata": {},
   "outputs": [
    {
     "data": {
      "image/png": "[encoded data removed]",
      "text/plain": [
       "<Figure size 432x288 with 1 Axes>"
      ]
     },
     "metadata": {
      "needs_background": "light"
     },
     "output_type": "display_data"
    }
   ],
   "source": [
    "profit[loans[\"type\"] == \"auto\"].hist()\n",
    "plt.show()"
   ]
  },
  {
   "cell_type": "code",
   "execution_count": 59,
   "metadata": {},
   "outputs": [
    {
     "data": {
      "text/plain": [
       "5648.357786036326"
      ]
     },
     "execution_count": 59,
     "metadata": {},
     "output_type": "execute_result"
    }
   ],
   "source": [
    "home_profit = profit[loans[\"type\"] == \"auto\"]\n",
    "home_profit.quantile(0.25)\n",
    "home_profit.quantile(0.5)"
   ]
  },
  {
   "cell_type": "code",
   "execution_count": 103,
   "metadata": {},
   "outputs": [
    {
     "data": {
      "text/html": [
       "<div>\n",
       "<style scoped>\n",
       "    .dataframe tbody tr th:only-of-type {\n",
       "        vertical-align: middle;\n",
       "    }\n",
       "\n",
       "    .dataframe tbody tr th {\n",
       "        vertical-align: top;\n",
       "    }\n",
       "\n",
       "    .dataframe thead th {\n",
       "        text-align: right;\n",
       "    }\n",
       "</style>\n",
       "<table border=\"1\" class=\"dataframe\">\n",
       "  <thead>\n",
       "    <tr style=\"text-align: right;\">\n",
       "      <th></th>\n",
       "      <th></th>\n",
       "      <th>approved</th>\n",
       "      <th>income</th>\n",
       "      <th>principal</th>\n",
       "    </tr>\n",
       "    <tr>\n",
       "      <th>race</th>\n",
       "      <th>type</th>\n",
       "      <th></th>\n",
       "      <th></th>\n",
       "      <th></th>\n",
       "    </tr>\n",
       "  </thead>\n",
       "  <tbody>\n",
       "    <tr>\n",
       "      <th rowspan=\"3\" valign=\"top\">asian</th>\n",
       "      <th>auto</th>\n",
       "      <td>0.500000</td>\n",
       "      <td>84272.200000</td>\n",
       "      <td>54188.300000</td>\n",
       "    </tr>\n",
       "    <tr>\n",
       "      <th>home</th>\n",
       "      <td>0.666667</td>\n",
       "      <td>84501.666667</td>\n",
       "      <td>591792.000000</td>\n",
       "    </tr>\n",
       "    <tr>\n",
       "      <th>personal</th>\n",
       "      <td>0.000000</td>\n",
       "      <td>3126.000000</td>\n",
       "      <td>1116.000000</td>\n",
       "    </tr>\n",
       "    <tr>\n",
       "      <th rowspan=\"3\" valign=\"top\">black</th>\n",
       "      <th>auto</th>\n",
       "      <td>0.066667</td>\n",
       "      <td>31005.200000</td>\n",
       "      <td>18781.066667</td>\n",
       "    </tr>\n",
       "    <tr>\n",
       "      <th>home</th>\n",
       "      <td>0.750000</td>\n",
       "      <td>82649.100000</td>\n",
       "      <td>562828.650000</td>\n",
       "    </tr>\n",
       "    <tr>\n",
       "      <th>personal</th>\n",
       "      <td>0.583333</td>\n",
       "      <td>36111.500000</td>\n",
       "      <td>31544.166667</td>\n",
       "    </tr>\n",
       "    <tr>\n",
       "      <th rowspan=\"3\" valign=\"top\">hispanic/latino</th>\n",
       "      <th>auto</th>\n",
       "      <td>0.388889</td>\n",
       "      <td>47471.388889</td>\n",
       "      <td>22179.833333</td>\n",
       "    </tr>\n",
       "    <tr>\n",
       "      <th>home</th>\n",
       "      <td>0.812500</td>\n",
       "      <td>47142.500000</td>\n",
       "      <td>361939.437500</td>\n",
       "    </tr>\n",
       "    <tr>\n",
       "      <th>personal</th>\n",
       "      <td>0.500000</td>\n",
       "      <td>27814.625000</td>\n",
       "      <td>27656.125000</td>\n",
       "    </tr>\n",
       "    <tr>\n",
       "      <th rowspan=\"3\" valign=\"top\">other</th>\n",
       "      <th>auto</th>\n",
       "      <td>0.571429</td>\n",
       "      <td>45755.428571</td>\n",
       "      <td>21505.428571</td>\n",
       "    </tr>\n",
       "    <tr>\n",
       "      <th>home</th>\n",
       "      <td>0.833333</td>\n",
       "      <td>81904.666667</td>\n",
       "      <td>610059.166667</td>\n",
       "    </tr>\n",
       "    <tr>\n",
       "      <th>personal</th>\n",
       "      <td>0.714286</td>\n",
       "      <td>47363.285714</td>\n",
       "      <td>55822.000000</td>\n",
       "    </tr>\n",
       "    <tr>\n",
       "      <th rowspan=\"3\" valign=\"top\">white</th>\n",
       "      <th>auto</th>\n",
       "      <td>0.645161</td>\n",
       "      <td>70001.677419</td>\n",
       "      <td>28550.903226</td>\n",
       "    </tr>\n",
       "    <tr>\n",
       "      <th>home</th>\n",
       "      <td>0.896552</td>\n",
       "      <td>116236.379310</td>\n",
       "      <td>808338.172414</td>\n",
       "    </tr>\n",
       "    <tr>\n",
       "      <th>personal</th>\n",
       "      <td>0.363636</td>\n",
       "      <td>57272.818182</td>\n",
       "      <td>34872.181818</td>\n",
       "    </tr>\n",
       "  </tbody>\n",
       "</table>\n",
       "</div>"
      ],
      "text/plain": [
       "                          approved         income      principal\n",
       "race            type                                            \n",
       "asian           auto      0.500000   84272.200000   54188.300000\n",
       "                home      0.666667   84501.666667  591792.000000\n",
       "                personal  0.000000    3126.000000    1116.000000\n",
       "black           auto      0.066667   31005.200000   18781.066667\n",
       "                home      0.750000   82649.100000  562828.650000\n",
       "                personal  0.583333   36111.500000   31544.166667\n",
       "hispanic/latino auto      0.388889   47471.388889   22179.833333\n",
       "                home      0.812500   47142.500000  361939.437500\n",
       "                personal  0.500000   27814.625000   27656.125000\n",
       "other           auto      0.571429   45755.428571   21505.428571\n",
       "                home      0.833333   81904.666667  610059.166667\n",
       "                personal  0.714286   47363.285714   55822.000000\n",
       "white           auto      0.645161   70001.677419   28550.903226\n",
       "                home      0.896552  116236.379310  808338.172414\n",
       "                personal  0.363636   57272.818182   34872.181818"
      ]
     },
     "execution_count": 103,
     "metadata": {},
     "output_type": "execute_result"
    }
   ],
   "source": [
    "approval_rates = loans[[\"race\", \"approved\", \"income\", \"principal\", \"type\"]].groupby([\"race\", \"type\"]).mean()\n",
    "\n",
    "approval_rates"
   ]
  },
  {
   "cell_type": "code",
   "execution_count": 72,
   "metadata": {},
   "outputs": [],
   "source": [
    "def compute_fpr_fnr(preds, labels, col, pos, neg):\n",
    "    fp = sum((preds[col] == pos) & (labels[col] == neg))\n",
    "    fp = fp/(sum(labels[col] == neg))\n",
    "    \n",
    "    fn = sum((preds[col] == neg) & (labels[col] == pos))\n",
    "    fn = fn/(sum(labels[col] == pos))\n",
    "    \n",
    "    return fp, fn"
   ]
  },
  {
   "cell_type": "code",
   "execution_count": 73,
   "metadata": {},
   "outputs": [],
   "source": [
    "# compute profit & burden distributions for each type of loan\n",
    "   \n",
    "year_payment = (1 + (loans[\"interest\"]/100.))*((12*loans[\"principal\"])/loans[\"term\"])\n",
    "profit = (loans[\"interest\"]/100.)*loans[\"principal\"]*(loans[\"term\"]/12.)\n",
    "burden = year_payment/loans[\"income\"]\n",
    "    "
   ]
  },
  {
   "cell_type": "code",
   "execution_count": 94,
   "metadata": {},
   "outputs": [],
   "source": [
    "test_df = pd.DataFrame({\"profit\" : profit, \"burden\" : burden, \"zip\" : loans[\"zip\"], \"race\" : loans[\"race\"], \"type\" : loans[\"type\"]})"
   ]
  },
  {
   "cell_type": "code",
   "execution_count": 95,
   "metadata": {},
   "outputs": [],
   "source": [
    "home_loans = test_df[test_df[\"type\"] == \"home\"]\n",
    "personal_loans = test_df[test_df[\"type\"] == \"personal\"]\n",
    "car_loans = test_df[test_df[\"type\"] == \"auto\"]"
   ]
  },
  {
   "cell_type": "code",
   "execution_count": 98,
   "metadata": {},
   "outputs": [
    {
     "data": {
      "text/plain": [
       "array([[<matplotlib.axes._subplots.AxesSubplot object at 0x11b6c7790>,\n",
       "        <matplotlib.axes._subplots.AxesSubplot object at 0x1202dcf10>,\n",
       "        <matplotlib.axes._subplots.AxesSubplot object at 0x120380890>],\n",
       "       [<matplotlib.axes._subplots.AxesSubplot object at 0x1203afb90>,\n",
       "        <matplotlib.axes._subplots.AxesSubplot object at 0x1203dc850>,\n",
       "        <matplotlib.axes._subplots.AxesSubplot object at 0x120406f90>],\n",
       "       [<matplotlib.axes._subplots.AxesSubplot object at 0x12043a810>,\n",
       "        <matplotlib.axes._subplots.AxesSubplot object at 0x120462fd0>,\n",
       "        <matplotlib.axes._subplots.AxesSubplot object at 0x12046bb10>]],\n",
       "      dtype=object)"
      ]
     },
     "execution_count": 98,
     "metadata": {},
     "output_type": "execute_result"
    },
    {
     "data": {
      "image/png": "[encoded data removed]",
      "text/plain": [
       "<Figure size 432x288 with 9 Axes>"
      ]
     },
     "metadata": {
      "needs_background": "light"
     },
     "output_type": "display_data"
    }
   ],
   "source": [
    "home_loans[\"profit\"].hist(by=home_loans[\"zip\"])"
   ]
  },
  {
   "cell_type": "code",
   "execution_count": 23,
   "metadata": {},
   "outputs": [
    {
     "data": {
      "text/plain": [
       "Index(['race', 'gender', 'date', 'zip', 'fed', 'income', 'type', 'term',\n",
       "       'interest', 'principle', 'approved'],\n",
       "      dtype='object')"
      ]
     },
     "execution_count": 23,
     "metadata": {},
     "output_type": "execute_result"
    }
   ],
   "source": [
    "loans.columns"
   ]
  },
  {
   "cell_type": "code",
   "execution_count": 31,
   "metadata": {},
   "outputs": [],
   "source": [
    "panel_df = pd.get_dummies(loans[\"race\"])\n",
    "panel_df[\"zip\"] = loans[\"zip\"]\n",
    "\n",
    "rate_df = panel_df.groupby([\"zip\"]).mean()"
   ]
  },
  {
   "cell_type": "code",
   "execution_count": 37,
   "metadata": {},
   "outputs": [
    {
     "data": {
      "text/html": [
       "<div>\n",
       "<style scoped>\n",
       "    .dataframe tbody tr th:only-of-type {\n",
       "        vertical-align: middle;\n",
       "    }\n",
       "\n",
       "    .dataframe tbody tr th {\n",
       "        vertical-align: top;\n",
       "    }\n",
       "\n",
       "    .dataframe thead th {\n",
       "        text-align: right;\n",
       "    }\n",
       "</style>\n",
       "<table border=\"1\" class=\"dataframe\">\n",
       "  <thead>\n",
       "    <tr style=\"text-align: right;\">\n",
       "      <th></th>\n",
       "      <th>asian</th>\n",
       "      <th>black</th>\n",
       "      <th>hispanic/latino</th>\n",
       "      <th>other</th>\n",
       "      <th>white</th>\n",
       "    </tr>\n",
       "    <tr>\n",
       "      <th>zip</th>\n",
       "      <th></th>\n",
       "      <th></th>\n",
       "      <th></th>\n",
       "      <th></th>\n",
       "      <th></th>\n",
       "    </tr>\n",
       "  </thead>\n",
       "  <tbody>\n",
       "    <tr>\n",
       "      <th>60611</th>\n",
       "      <td>0.000000</td>\n",
       "      <td>0.062500</td>\n",
       "      <td>0.000000</td>\n",
       "      <td>0.187500</td>\n",
       "      <td>0.750000</td>\n",
       "    </tr>\n",
       "    <tr>\n",
       "      <th>60614</th>\n",
       "      <td>0.000000</td>\n",
       "      <td>0.173913</td>\n",
       "      <td>0.086957</td>\n",
       "      <td>0.130435</td>\n",
       "      <td>0.608696</td>\n",
       "    </tr>\n",
       "    <tr>\n",
       "      <th>60615</th>\n",
       "      <td>0.074074</td>\n",
       "      <td>0.629630</td>\n",
       "      <td>0.000000</td>\n",
       "      <td>0.111111</td>\n",
       "      <td>0.185185</td>\n",
       "    </tr>\n",
       "    <tr>\n",
       "      <th>60623</th>\n",
       "      <td>0.000000</td>\n",
       "      <td>0.428571</td>\n",
       "      <td>0.514286</td>\n",
       "      <td>0.057143</td>\n",
       "      <td>0.000000</td>\n",
       "    </tr>\n",
       "    <tr>\n",
       "      <th>60625</th>\n",
       "      <td>0.023256</td>\n",
       "      <td>0.069767</td>\n",
       "      <td>0.441860</td>\n",
       "      <td>0.162791</td>\n",
       "      <td>0.302326</td>\n",
       "    </tr>\n",
       "    <tr>\n",
       "      <th>60626</th>\n",
       "      <td>0.100000</td>\n",
       "      <td>0.300000</td>\n",
       "      <td>0.133333</td>\n",
       "      <td>0.133333</td>\n",
       "      <td>0.333333</td>\n",
       "    </tr>\n",
       "    <tr>\n",
       "      <th>60637</th>\n",
       "      <td>0.038462</td>\n",
       "      <td>0.846154</td>\n",
       "      <td>0.000000</td>\n",
       "      <td>0.076923</td>\n",
       "      <td>0.038462</td>\n",
       "    </tr>\n",
       "  </tbody>\n",
       "</table>\n",
       "</div>"
      ],
      "text/plain": [
       "          asian     black  hispanic/latino     other     white\n",
       "zip                                                           \n",
       "60611  0.000000  0.062500         0.000000  0.187500  0.750000\n",
       "60614  0.000000  0.173913         0.086957  0.130435  0.608696\n",
       "60615  0.074074  0.629630         0.000000  0.111111  0.185185\n",
       "60623  0.000000  0.428571         0.514286  0.057143  0.000000\n",
       "60625  0.023256  0.069767         0.441860  0.162791  0.302326\n",
       "60626  0.100000  0.300000         0.133333  0.133333  0.333333\n",
       "60637  0.038462  0.846154         0.000000  0.076923  0.038462"
      ]
     },
     "execution_count": 37,
     "metadata": {},
     "output_type": "execute_result"
    }
   ],
   "source": [
    "rate_df"
   ]
  },
  {
   "cell_type": "code",
   "execution_count": 39,
   "metadata": {},
   "outputs": [
    {
     "data": {
      "text/plain": [
       "0.8461538461538461"
      ]
     },
     "execution_count": 39,
     "metadata": {},
     "output_type": "execute_result"
    }
   ],
   "source": [
    "rate_df[\"black\"][60637]"
   ]
  },
  {
   "cell_type": "code",
   "execution_count": 71,
   "metadata": {},
   "outputs": [],
   "source": [
    "loans.to_csv(\"test_data.csv\")"
   ]
  },
  {
   "cell_type": "code",
   "execution_count": 41,
   "metadata": {},
   "outputs": [],
   "source": [
    "test = pd.read_csv(\"test_data.csv\")"
   ]
  },
  {
   "cell_type": "code",
   "execution_count": 44,
   "metadata": {},
   "outputs": [],
   "source": [
    "dummies = pd.get_dummies(test[\"race\"])\n",
    "dummies[\"zip\"] = test[\"zip\"]"
   ]
  },
  {
   "cell_type": "code",
   "execution_count": 46,
   "metadata": {},
   "outputs": [],
   "source": [
    "rate_df = dummies.groupby([\"zip\"]).mean()"
   ]
  },
  {
   "cell_type": "code",
   "execution_count": 51,
   "metadata": {},
   "outputs": [
    {
     "data": {
      "text/html": [
       "<div>\n",
       "<style scoped>\n",
       "    .dataframe tbody tr th:only-of-type {\n",
       "        vertical-align: middle;\n",
       "    }\n",
       "\n",
       "    .dataframe tbody tr th {\n",
       "        vertical-align: top;\n",
       "    }\n",
       "\n",
       "    .dataframe thead th {\n",
       "        text-align: right;\n",
       "    }\n",
       "</style>\n",
       "<table border=\"1\" class=\"dataframe\">\n",
       "  <thead>\n",
       "    <tr style=\"text-align: right;\">\n",
       "      <th></th>\n",
       "      <th>Unnamed: 0</th>\n",
       "      <th>race</th>\n",
       "      <th>gender</th>\n",
       "      <th>date</th>\n",
       "      <th>zip</th>\n",
       "      <th>fed</th>\n",
       "      <th>income</th>\n",
       "      <th>type</th>\n",
       "      <th>term</th>\n",
       "      <th>interest</th>\n",
       "      <th>principle</th>\n",
       "      <th>approved</th>\n",
       "    </tr>\n",
       "  </thead>\n",
       "  <tbody>\n",
       "    <tr>\n",
       "      <th>0</th>\n",
       "      <td>0</td>\n",
       "      <td>black</td>\n",
       "      <td>female</td>\n",
       "      <td>2013-07-01</td>\n",
       "      <td>60615</td>\n",
       "      <td>0.09</td>\n",
       "      <td>79103</td>\n",
       "      <td>auto</td>\n",
       "      <td>72</td>\n",
       "      <td>3.724954</td>\n",
       "      <td>35656</td>\n",
       "      <td>True</td>\n",
       "    </tr>\n",
       "    <tr>\n",
       "      <th>1</th>\n",
       "      <td>1</td>\n",
       "      <td>black</td>\n",
       "      <td>female</td>\n",
       "      <td>2018-06-01</td>\n",
       "      <td>60637</td>\n",
       "      <td>1.82</td>\n",
       "      <td>15689</td>\n",
       "      <td>personal</td>\n",
       "      <td>18</td>\n",
       "      <td>16.792326</td>\n",
       "      <td>20109</td>\n",
       "      <td>True</td>\n",
       "    </tr>\n",
       "    <tr>\n",
       "      <th>2</th>\n",
       "      <td>2</td>\n",
       "      <td>hispanic/latino</td>\n",
       "      <td>male</td>\n",
       "      <td>2017-05-01</td>\n",
       "      <td>60625</td>\n",
       "      <td>0.91</td>\n",
       "      <td>40995</td>\n",
       "      <td>personal</td>\n",
       "      <td>18</td>\n",
       "      <td>15.947654</td>\n",
       "      <td>39045</td>\n",
       "      <td>True</td>\n",
       "    </tr>\n",
       "    <tr>\n",
       "      <th>3</th>\n",
       "      <td>3</td>\n",
       "      <td>other</td>\n",
       "      <td>female</td>\n",
       "      <td>2016-04-01</td>\n",
       "      <td>60611</td>\n",
       "      <td>0.37</td>\n",
       "      <td>141900</td>\n",
       "      <td>auto</td>\n",
       "      <td>60</td>\n",
       "      <td>6.561924</td>\n",
       "      <td>52079</td>\n",
       "      <td>True</td>\n",
       "    </tr>\n",
       "    <tr>\n",
       "      <th>4</th>\n",
       "      <td>4</td>\n",
       "      <td>hispanic/latino</td>\n",
       "      <td>male</td>\n",
       "      <td>2015-10-01</td>\n",
       "      <td>60625</td>\n",
       "      <td>0.12</td>\n",
       "      <td>96580</td>\n",
       "      <td>home</td>\n",
       "      <td>180</td>\n",
       "      <td>3.279388</td>\n",
       "      <td>677962</td>\n",
       "      <td>False</td>\n",
       "    </tr>\n",
       "  </tbody>\n",
       "</table>\n",
       "</div>"
      ],
      "text/plain": [
       "   Unnamed: 0             race  gender        date    zip   fed  income  \\\n",
       "0           0            black  female  2013-07-01  60615  0.09   79103   \n",
       "1           1            black  female  2018-06-01  60637  1.82   15689   \n",
       "2           2  hispanic/latino    male  2017-05-01  60625  0.91   40995   \n",
       "3           3            other  female  2016-04-01  60611  0.37  141900   \n",
       "4           4  hispanic/latino    male  2015-10-01  60625  0.12   96580   \n",
       "\n",
       "       type  term   interest  principle  approved  \n",
       "0      auto    72   3.724954      35656      True  \n",
       "1  personal    18  16.792326      20109      True  \n",
       "2  personal    18  15.947654      39045      True  \n",
       "3      auto    60   6.561924      52079      True  \n",
       "4      home   180   3.279388     677962     False  "
      ]
     },
     "execution_count": 51,
     "metadata": {},
     "output_type": "execute_result"
    }
   ],
   "source": [
    "test.head()"
   ]
  }
 ],
 "metadata": {
  "kernelspec": {
   "display_name": "Python 3",
   "language": "python",
   "name": "python3"
  },
  "language_info": {
   "codemirror_mode": {
    "name": "ipython",
    "version": 3
   },
   "file_extension": ".py",
   "mimetype": "text/x-python",
   "name": "python",
   "nbconvert_exporter": "python",
   "pygments_lexer": "ipython3",
   "version": "3.7.5"
  }
 },
 "nbformat": 4,
 "nbformat_minor": 4
}
